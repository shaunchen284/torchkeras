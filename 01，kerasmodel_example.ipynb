{
 "cells": [
  {
   "cell_type": "markdown",
   "id": "8068f820",
   "metadata": {},
   "source": [
    "# KerasModel Example"
   ]
  },
  {
   "cell_type": "markdown",
   "id": "b84d3f83",
   "metadata": {},
   "source": [
    "You can install torchkeras using pip:\n",
    "`pip install torchkeras`\n",
    "\n",
    "Here is the mnist example using torchkeras.KerasModel. \n"
   ]
  },
  {
   "cell_type": "code",
   "execution_count": 17,
   "id": "3e915b9b",
   "metadata": {
    "ExecuteTime": {
     "end_time": "2023-09-07T09:27:47.510057700Z",
     "start_time": "2023-09-07T09:27:47.464056100Z"
    }
   },
   "outputs": [],
   "source": [
    "import sys \n",
    "sys.path.append(\"..\")\n"
   ]
  },
  {
   "cell_type": "code",
   "execution_count": 18,
   "id": "a1920bc7",
   "metadata": {
    "ExecuteTime": {
     "end_time": "2023-09-07T09:27:47.561381800Z",
     "start_time": "2023-09-07T09:27:47.470057300Z"
    }
   },
   "outputs": [],
   "source": [
    "import numpy as np \n",
    "import pandas as pd \n",
    "from matplotlib import pyplot as plt\n",
    "import torch\n",
    "from torch import nn\n",
    "import torch.nn.functional as F\n",
    "from torch.utils.data import Dataset,DataLoader\n",
    "import torchkeras \n"
   ]
  },
  {
   "cell_type": "code",
   "execution_count": 18,
   "id": "c9cce249-3614-4ee9-9707-300e905a2475",
   "metadata": {
    "ExecuteTime": {
     "end_time": "2023-09-07T09:27:47.561381800Z",
     "start_time": "2023-09-07T09:27:47.484057300Z"
    }
   },
   "outputs": [],
   "source": []
  },
  {
   "cell_type": "markdown",
   "id": "e73ca619",
   "metadata": {},
   "source": [
    "### 1, prepare data "
   ]
  },
  {
   "cell_type": "code",
   "execution_count": 19,
   "id": "25ab4939",
   "metadata": {
    "ExecuteTime": {
     "end_time": "2023-09-07T09:27:47.562380500Z",
     "start_time": "2023-09-07T09:27:47.502056900Z"
    }
   },
   "outputs": [],
   "source": [
    "import torchvision \n",
    "from torchvision import transforms\n",
    "\n",
    "transform = transforms.Compose([transforms.ToTensor()])\n",
    "ds_train = torchvision.datasets.MNIST(root=\"mnist/\",train=True,download=True,transform=transform)\n",
    "ds_train = torch.utils.data.Subset(ds_train,range(0,len(ds_train),20))\n",
    "ds_val = torchvision.datasets.MNIST(root=\"mnist/\",train=False,download=True,transform=transform)\n",
    "ds_val = torch.utils.data.Subset(ds_val,range(0,len(ds_val),20))\n",
    "dl_train =  torch.utils.data.DataLoader(ds_train, batch_size=128, shuffle=True, num_workers=2)\n",
    "dl_val =  torch.utils.data.DataLoader(ds_val, batch_size=128, shuffle=False, num_workers=2)\n"
   ]
  },
  {
   "cell_type": "code",
   "execution_count": 19,
   "id": "67f70d6f-bfe0-495c-9bd9-34f5eacb191c",
   "metadata": {
    "ExecuteTime": {
     "end_time": "2023-09-07T09:27:47.562380500Z",
     "start_time": "2023-09-07T09:27:47.547389400Z"
    }
   },
   "outputs": [],
   "source": []
  },
  {
   "cell_type": "code",
   "execution_count": 20,
   "id": "85a45abd",
   "metadata": {
    "ExecuteTime": {
     "end_time": "2023-09-07T09:27:48.979093900Z",
     "start_time": "2023-09-07T09:27:47.561381800Z"
    }
   },
   "outputs": [
    {
     "name": "stdout",
     "output_type": "stream",
     "text": [
      "torch.Size([128, 1, 28, 28])\n",
      "torch.Size([128])\n"
     ]
    }
   ],
   "source": [
    "for features,labels in dl_train:\n",
    "    break\n",
    "print(features.shape)\n",
    "print(labels.shape)\n"
   ]
  },
  {
   "cell_type": "code",
   "execution_count": 20,
   "id": "3278d848-951e-4608-aca4-d295aecd68c4",
   "metadata": {
    "ExecuteTime": {
     "end_time": "2023-09-07T09:27:48.994140400Z",
     "start_time": "2023-09-07T09:27:48.980092900Z"
    }
   },
   "outputs": [],
   "source": [
    "\n",
    "    "
   ]
  },
  {
   "cell_type": "code",
   "execution_count": 21,
   "id": "c484c0b4",
   "metadata": {
    "ExecuteTime": {
     "end_time": "2023-09-07T09:27:49.168057200Z",
     "start_time": "2023-09-07T09:27:48.997139300Z"
    }
   },
   "outputs": [
    {
     "data": {
      "text/plain": "<Figure size 800x800 with 9 Axes>",
      "image/svg+xml": "<?xml version=\"1.0\" encoding=\"utf-8\" standalone=\"no\"?>\n<!DOCTYPE svg PUBLIC \"-//W3C//DTD SVG 1.1//EN\"\n  \"http://www.w3.org/Graphics/SVG/1.1/DTD/svg11.dtd\">\n<svg xmlns:xlink=\"http://www.w3.org/1999/xlink\" width=\"459.952941pt\" height=\"473.038125pt\" viewBox=\"0 0 459.952941 473.038125\" xmlns=\"http://www.w3.org/2000/svg\" version=\"1.1\">\n <metadata>\n  <rdf:RDF xmlns:dc=\"http://purl.org/dc/elements/1.1/\" xmlns:cc=\"http://creativecommons.org/ns#\" xmlns:rdf=\"http://www.w3.org/1999/02/22-rdf-syntax-ns#\">\n   <cc:Work>\n    <dc:type rdf:resource=\"http://purl.org/dc/dcmitype/StillImage\"/>\n    <dc:date>2023-09-07T17:27:49.126353</dc:date>\n    <dc:format>image/svg+xml</dc:format>\n    <dc:creator>\n     <cc:Agent>\n      <dc:title>Matplotlib v3.7.2, https://matplotlib.org/</dc:title>\n     </cc:Agent>\n    </dc:creator>\n   </cc:Work>\n  </rdf:RDF>\n </metadata>\n <defs>\n  <style type=\"text/css\">*{stroke-linejoin: round; stroke-linecap: butt}</style>\n </defs>\n <g id=\"figure_1\">\n  <g id=\"patch_1\">\n   <path d=\"M 0 473.038125 \nL 459.952941 473.038125 \nL 459.952941 0 \nL 0 0 \nz\n\" style=\"fill: #ffffff\"/>\n  </g>\n  <g id=\"axes_1\">\n   <g id=\"patch_2\">\n    <path d=\"M 7.2 152.765184 \nL 137.647059 152.765184 \nL 137.647059 22.318125 \nL 7.2 22.318125 \nz\n\" style=\"fill: #ffffff\"/>\n   </g>\n   <g clip-path=\"url(#pd6584a6320)\">\n    <image xlink:href=\"data:image/png;base64,\niVBORw0KGgoAAAANSUhEUgAAALYAAAC2CAYAAAB08HcEAAAF7UlEQVR4nO3dX2iVdRzH8edxR52r5VrLnIRzbbWZ1gaOmjlWkJkXIkjG2kXBoqLERrXoQgIrihz9AYlaIIQGA01DEPpzZ0PIbMMotD+jrUXTdWQbW6bDubPTVXff7+Zzdnbm+fh+XX5//HYe8M3v4sc5j+H6cGsyAMTMm+sHAGYDYUMSYUMSYUMSYUMSYUMSYUMSYUMSYUMSYUMSYUMSYUMSYUMSYUMSYUMSYUMSYUMSYUMSYUNSLFMf1N12jz3f3JbWz/lwpMyc7+7Y4O4JE6E5r3zzD3dPIn4u2oMhozixIYmwIYmwIYmwIYmwISnM1Jugxh+usecvDrt7dpR/ac43LLqQlmeaTjwx5q7VH2kx55Wv/uruSYyMzviZcGU4sSGJsCGJsCGJsCGJsCGJsCEpY9d9qYgVLzXnw59c5+55rrTDnDfmx9PyTNPZfqbOXTvZVm3Oiw6dcvdMnj8/00e6JnFiQxJhQxJhQxJhQxJhQ9JVfSuSitiK5eZ8dE2xu6fhja/N+bMFvWl5pum0DNS6a8c/sr88Vrj3e/8PTiZm+khZjxMbkggbkggbkggbkggbkggbkuSu+1IRKy0x5z1Ny9w9rzXsN+ePXD+Ylmeazo64fQ0YBEHQsdu+Prxx3/HZepyrDic2JBE2JBE2JBE2JBE2JHErkqKwZrU5725e4O7Zs26fOa/PHU/LM/3vUvKyOX/s9y3unssPDKT1GeYaJzYkETYkETYkETYkETYkETYkcd2XQZN11ea859Fcd8/q6j5z/nn5F5E/v3Volbt2rNp5u1aW/n6SExuSCBuSCBuSCBuSCBuSuBXJUp/1+z/zygvtL2JdTPpfttr0/Av23zp8ItJzXS04sSGJsCGJsCGJsCGJsCGJsCEpNtcPgCDIuWWJu3a2odyc54adkT/n6b5N7lq2Xut5OLEhibAhibAhibAhibAhiVuRDEquqzbnebv63T2dt33grPhnUuXRp8x5xeuj7p4gGJpiLftwYkMSYUMSYUMSYUMSYUMSYUMS131pNvzkWnetfee75rw05r8JyrPq0+3uWuUe+yXuE719kT8nW3FiQxJhQxJhQxJhQxJhQxK3IimaV7XSnO/f+Y675/S4/ROwLV3+f1OX/GGxOS99y38T1ESSl3txYkMSYUMSYUMSYUMSYUMSYUMS131TyCmwr9qCIAgK2+wvGi2PLXL3PP7KE+b81gPfRXswTIsTG5IIG5IIG5IIG5IIG5K4FZnCL613uGvdJR+b86Y/H3T35B+M/k5rpIYTG5IIG5IIG5IIG5IIG5IIG5Kumeu+nKKb3LXE0LA5n3/DeOTPOd1+p7u2ZPLbyH8PqeHEhiTChiTChiTChiTChiS5W5HhJvv91P9svODuyfmpwpyfrvf+Kzrf5mc63LXO9iJznhjx/5u65Noqc97X7D9DaeOP/uI1ghMbkggbkggbkggbkggbkggbksL14dase0t4rHipu9ZwtMucN+bHZ+txrljLQK057/3XvgYMgiDYW3bInI9O+v9s20rqoj2YIE5sSCJsSCJsSCJsSCJsSMrKL0Fdqljmrq3J/ctZWTA7DxPBe8WpvAc715zmhQl3R7z5PnMeuxD9Aiz/zIS7tnBwzJwnu05F/px048SGJMKGJMKGJMKGJMKGJMKGpKz8EtRUclbebs6TC+e7e87eX2DOx2r930kWLrbXjlUd8B8uQ766mG/OW3s2unu+ueugOe+fsK/0giAIdsUfMuc/v323uyfv8Al3LZ04sSGJsCGJsCGJsCGJsCFJ7lYkU8KY/f2xnJv9n3ml4reXV5jzRN6ku6ek7Jw5z9sWunv+ft/+ktjJGv+WZzBh3wzde7DF3VP+UipfBIuOExuSCBuSCBuSCBuSCBuSCBuSuO6DJE5sSCJsSCJsSCJsSCJsSCJsSCJsSCJsSCJsSCJsSCJsSCJsSCJsSCJsSCJsSCJsSCJsSCJsSCJsSCJsSCJsSCJsSCJsSCJsSCJsSCJsSCJsSCJsSCJsSCJsSCJsSPoPboXuOT7HWnMAAAAASUVORK5CYII=\" id=\"imageefd9f73b8a\" transform=\"scale(1 -1) translate(0 -131.04)\" x=\"7.2\" y=\"-21.725184\" width=\"131.04\" height=\"131.04\"/>\n   </g>\n   <g id=\"matplotlib.axis_1\"/>\n   <g id=\"matplotlib.axis_2\"/>\n   <g id=\"patch_3\">\n    <path d=\"M 7.2 152.765184 \nL 7.2 22.318125 \n\" style=\"fill: none; stroke: #000000; stroke-width: 0.8; stroke-linejoin: miter; stroke-linecap: square\"/>\n   </g>\n   <g id=\"patch_4\">\n    <path d=\"M 137.647059 152.765184 \nL 137.647059 22.318125 \n\" style=\"fill: none; stroke: #000000; stroke-width: 0.8; stroke-linejoin: miter; stroke-linecap: square\"/>\n   </g>\n   <g id=\"patch_5\">\n    <path d=\"M 7.2 152.765184 \nL 137.647059 152.765184 \n\" style=\"fill: none; stroke: #000000; stroke-width: 0.8; stroke-linejoin: miter; stroke-linecap: square\"/>\n   </g>\n   <g id=\"patch_6\">\n    <path d=\"M 7.2 22.318125 \nL 137.647059 22.318125 \n\" style=\"fill: none; stroke: #000000; stroke-width: 0.8; stroke-linejoin: miter; stroke-linecap: square\"/>\n   </g>\n   <g id=\"text_1\">\n    <!-- label = 5 -->\n    <g transform=\"translate(45.252904 16.318125) scale(0.12 -0.12)\">\n     <defs>\n      <path id=\"DejaVuSans-6c\" d=\"M 603 4863 \nL 1178 4863 \nL 1178 0 \nL 603 0 \nL 603 4863 \nz\n\" transform=\"scale(0.015625)\"/>\n      <path id=\"DejaVuSans-61\" d=\"M 2194 1759 \nQ 1497 1759 1228 1600 \nQ 959 1441 959 1056 \nQ 959 750 1161 570 \nQ 1363 391 1709 391 \nQ 2188 391 2477 730 \nQ 2766 1069 2766 1631 \nL 2766 1759 \nL 2194 1759 \nz\nM 3341 1997 \nL 3341 0 \nL 2766 0 \nL 2766 531 \nQ 2569 213 2275 61 \nQ 1981 -91 1556 -91 \nQ 1019 -91 701 211 \nQ 384 513 384 1019 \nQ 384 1609 779 1909 \nQ 1175 2209 1959 2209 \nL 2766 2209 \nL 2766 2266 \nQ 2766 2663 2505 2880 \nQ 2244 3097 1772 3097 \nQ 1472 3097 1187 3025 \nQ 903 2953 641 2809 \nL 641 3341 \nQ 956 3463 1253 3523 \nQ 1550 3584 1831 3584 \nQ 2591 3584 2966 3190 \nQ 3341 2797 3341 1997 \nz\n\" transform=\"scale(0.015625)\"/>\n      <path id=\"DejaVuSans-62\" d=\"M 3116 1747 \nQ 3116 2381 2855 2742 \nQ 2594 3103 2138 3103 \nQ 1681 3103 1420 2742 \nQ 1159 2381 1159 1747 \nQ 1159 1113 1420 752 \nQ 1681 391 2138 391 \nQ 2594 391 2855 752 \nQ 3116 1113 3116 1747 \nz\nM 1159 2969 \nQ 1341 3281 1617 3432 \nQ 1894 3584 2278 3584 \nQ 2916 3584 3314 3078 \nQ 3713 2572 3713 1747 \nQ 3713 922 3314 415 \nQ 2916 -91 2278 -91 \nQ 1894 -91 1617 61 \nQ 1341 213 1159 525 \nL 1159 0 \nL 581 0 \nL 581 4863 \nL 1159 4863 \nL 1159 2969 \nz\n\" transform=\"scale(0.015625)\"/>\n      <path id=\"DejaVuSans-65\" d=\"M 3597 1894 \nL 3597 1613 \nL 953 1613 \nQ 991 1019 1311 708 \nQ 1631 397 2203 397 \nQ 2534 397 2845 478 \nQ 3156 559 3463 722 \nL 3463 178 \nQ 3153 47 2828 -22 \nQ 2503 -91 2169 -91 \nQ 1331 -91 842 396 \nQ 353 884 353 1716 \nQ 353 2575 817 3079 \nQ 1281 3584 2069 3584 \nQ 2775 3584 3186 3129 \nQ 3597 2675 3597 1894 \nz\nM 3022 2063 \nQ 3016 2534 2758 2815 \nQ 2500 3097 2075 3097 \nQ 1594 3097 1305 2825 \nQ 1016 2553 972 2059 \nL 3022 2063 \nz\n\" transform=\"scale(0.015625)\"/>\n      <path id=\"DejaVuSans-20\" transform=\"scale(0.015625)\"/>\n      <path id=\"DejaVuSans-3d\" d=\"M 678 2906 \nL 4684 2906 \nL 4684 2381 \nL 678 2381 \nL 678 2906 \nz\nM 678 1631 \nL 4684 1631 \nL 4684 1100 \nL 678 1100 \nL 678 1631 \nz\n\" transform=\"scale(0.015625)\"/>\n      <path id=\"DejaVuSans-35\" d=\"M 691 4666 \nL 3169 4666 \nL 3169 4134 \nL 1269 4134 \nL 1269 2991 \nQ 1406 3038 1543 3061 \nQ 1681 3084 1819 3084 \nQ 2600 3084 3056 2656 \nQ 3513 2228 3513 1497 \nQ 3513 744 3044 326 \nQ 2575 -91 1722 -91 \nQ 1428 -91 1123 -41 \nQ 819 9 494 109 \nL 494 744 \nQ 775 591 1075 516 \nQ 1375 441 1709 441 \nQ 2250 441 2565 725 \nQ 2881 1009 2881 1497 \nQ 2881 1984 2565 2268 \nQ 2250 2553 1709 2553 \nQ 1456 2553 1204 2497 \nQ 953 2441 691 2322 \nL 691 4666 \nz\n\" transform=\"scale(0.015625)\"/>\n     </defs>\n     <use xlink:href=\"#DejaVuSans-6c\"/>\n     <use xlink:href=\"#DejaVuSans-61\" x=\"27.783203\"/>\n     <use xlink:href=\"#DejaVuSans-62\" x=\"89.0625\"/>\n     <use xlink:href=\"#DejaVuSans-65\" x=\"152.539062\"/>\n     <use xlink:href=\"#DejaVuSans-6c\" x=\"214.0625\"/>\n     <use xlink:href=\"#DejaVuSans-20\" x=\"241.845703\"/>\n     <use xlink:href=\"#DejaVuSans-3d\" x=\"273.632812\"/>\n     <use xlink:href=\"#DejaVuSans-20\" x=\"357.421875\"/>\n     <use xlink:href=\"#DejaVuSans-35\" x=\"389.208984\"/>\n    </g>\n   </g>\n  </g>\n  <g id=\"axes_2\">\n   <g id=\"patch_7\">\n    <path d=\"M 164.752941 152.765184 \nL 295.2 152.765184 \nL 295.2 22.318125 \nL 164.752941 22.318125 \nz\n\" style=\"fill: #ffffff\"/>\n   </g>\n   <g clip-path=\"url(#p71c24e67e8)\">\n    <image xlink:href=\"data:image/png;base64,\niVBORw0KGgoAAAANSUhEUgAAALYAAAC2CAYAAAB08HcEAAAFj0lEQVR4nO3d7WvVZRzH8XO2tc00b2gLXJuzuWCgIjkXtYogFoFFdyxhEEk9CGJIEq6IbhgY+MAHEdpEe5BiMXoWQYIPjIW5oFS20CibbUHTZTdzibadm9k/8P0OfmfX+Z3fPnu/Hl4X1zkX9fYCL37+Troj3XkzBYgpK/UGgGIgbEgibEgibEgibEgibEgibEgibEgibEgibEgibEgibEgibEgibEgibEgibEgibEgibEgibEgibEgibEgibEgibEgibEgibEiqKPUGEJ8r3e3u3NMvD5jjR75+yF3T8u5P5nj+6lSkfRUDJzYkETYkETYkETYkETYkETYkpXnxu55sR6s5vvvQR+6aLVX5yN/zaHe3Ob7k8+8if1ZonNiQRNiQRNiQRNiQRNiQxENQC1TmsS3u3Nt9H5vjhdx8zGXZwM/meNhvKQwnNiQRNiQRNiQRNiQRNiQRNiRx3ZdwZRtazPE3PzzirnmwejrY92869ZI7t/a6fd2XBJzYkETYkETYkETYkETYkMStSMJla241xx9eciOW71/3uv9Wp1w2E8seCsGJDUmEDUmEDUmEDUmEDUmEDUmJvu4rr7ndHB89UOeuua9hzBw/ebHZXdPUZ78MK31qyF2j5viNFfbE9Ey8GwmEExuSCBuSCBuSCBuSCBuSEn0rktnQaI4PtR+M/mENX7lTw86vxH0xtdld8+Uh+2fi7ugbjLStpNh1ptMcv2vih5h3EgYnNiQRNiQRNiQRNiQRNiQRNiQl+rovLpsqnfHas+6ad96y5z7Z0eCuyTvnyJ5vHnfXlP9b7s7Bx4kNSYQNSYQNSYQNSYQNSdyKBPbC8nF3bjY1a45v39pXrO0sWpzYkETYkETYkETYkETYkETYkJTo674/d/5njpcl+M/jLWn/oaWs/cKpRKg6vazUWwgquYUA80DYkETYkETYkETYkFTyW5FLPc5rmFKp1Om2D8xx+1GiuW3e/6o7V7/HfnvTzNY2d83ldvs/XW6pf/Xx47Z97lwcDly9251b0z9mjueKtJdi48SGJMKGJMKGJMKGJMKGJMKGpJJf92XbrsXyPXWD9gNVc6k69r07t/aYPV5WXe2uuecf/8rR88ATw+b4/vqByJ/1yspf3Lnjtc616/ilyN+TBJzYkETYkETYkETYkETYkBTbrUh5ba05/trGE0G/Z+/fG83xypE/3DUhH/SZnZ525xp2R/+pvNGTzk/yfToQ+bMWE05sSCJsSCJsSCJsSCJsSCJsSAp63Zeu8D/uwhvrzPHty52niQr02dFHzPG68ehXbUlQ+fukOd5/7U53Tddt/svnFwtObEgibEgibEgibEgibEgKeisyvvNed+58l/1Wp0I8c+Epd27N0Yvm+EJ9o1GmfpU5HvrmY6RrhTneNBT0a2LDiQ1JhA1JhA1JhA1JhA1JhA1JQa/7rjfmQ35caiRrX9LNvLfaXVMxcSboHkqtcnjUHO+57L8wf+/qhfnAV0ic2JBE2JBE2JBE2JBE2JBU8vdj/5bLuHMv9u4yx1ed+LZY20mc/KT9T8MGD97vL+qNfivS3D9ljhfy04NJwIkNSYQNSYQNSYQNSYQNSYQNSSW/7nvycI8713iYh3k8SyfCPnCmhhMbkggbkggbkggbkggbkoLeirT0+j9C/+z7z5njTX+dc9fw937fldbo/+vW9+9w55rPn53PdhKHExuSCBuSCBuSCBuSCBuSCBuS0h3pzpul3gSiS7eud+dq9tkvhZ98fqW7Jvfr2Dx3lCyc2JBE2JBE2JBE2JBE2JDErQgkcWJDEmFDEmFDEmFDEmFDEmFDEmFDEmFDEmFDEmFDEmFDEmFDEmFDEmFDEmFDEmFDEmFDEmFDEmFDEmFDEmFDEmFDEmFDEmFDEmFD0v9qRsrxDM+8BQAAAABJRU5ErkJggg==\" id=\"image42a2eb9d21\" transform=\"scale(1 -1) translate(0 -131.04)\" x=\"164.752941\" y=\"-21.725184\" width=\"131.04\" height=\"131.04\"/>\n   </g>\n   <g id=\"matplotlib.axis_3\"/>\n   <g id=\"matplotlib.axis_4\"/>\n   <g id=\"patch_8\">\n    <path d=\"M 164.752941 152.765184 \nL 164.752941 22.318125 \n\" style=\"fill: none; stroke: #000000; stroke-width: 0.8; stroke-linejoin: miter; stroke-linecap: square\"/>\n   </g>\n   <g id=\"patch_9\">\n    <path d=\"M 295.2 152.765184 \nL 295.2 22.318125 \n\" style=\"fill: none; stroke: #000000; stroke-width: 0.8; stroke-linejoin: miter; stroke-linecap: square\"/>\n   </g>\n   <g id=\"patch_10\">\n    <path d=\"M 164.752941 152.765184 \nL 295.2 152.765184 \n\" style=\"fill: none; stroke: #000000; stroke-width: 0.8; stroke-linejoin: miter; stroke-linecap: square\"/>\n   </g>\n   <g id=\"patch_11\">\n    <path d=\"M 164.752941 22.318125 \nL 295.2 22.318125 \n\" style=\"fill: none; stroke: #000000; stroke-width: 0.8; stroke-linejoin: miter; stroke-linecap: square\"/>\n   </g>\n   <g id=\"text_2\">\n    <!-- label = 4 -->\n    <g transform=\"translate(202.805846 16.318125) scale(0.12 -0.12)\">\n     <defs>\n      <path id=\"DejaVuSans-34\" d=\"M 2419 4116 \nL 825 1625 \nL 2419 1625 \nL 2419 4116 \nz\nM 2253 4666 \nL 3047 4666 \nL 3047 1625 \nL 3713 1625 \nL 3713 1100 \nL 3047 1100 \nL 3047 0 \nL 2419 0 \nL 2419 1100 \nL 313 1100 \nL 313 1709 \nL 2253 4666 \nz\n\" transform=\"scale(0.015625)\"/>\n     </defs>\n     <use xlink:href=\"#DejaVuSans-6c\"/>\n     <use xlink:href=\"#DejaVuSans-61\" x=\"27.783203\"/>\n     <use xlink:href=\"#DejaVuSans-62\" x=\"89.0625\"/>\n     <use xlink:href=\"#DejaVuSans-65\" x=\"152.539062\"/>\n     <use xlink:href=\"#DejaVuSans-6c\" x=\"214.0625\"/>\n     <use xlink:href=\"#DejaVuSans-20\" x=\"241.845703\"/>\n     <use xlink:href=\"#DejaVuSans-3d\" x=\"273.632812\"/>\n     <use xlink:href=\"#DejaVuSans-20\" x=\"357.421875\"/>\n     <use xlink:href=\"#DejaVuSans-34\" x=\"389.208984\"/>\n    </g>\n   </g>\n  </g>\n  <g id=\"axes_3\">\n   <g id=\"patch_12\">\n    <path d=\"M 322.305882 152.765184 \nL 452.752941 152.765184 \nL 452.752941 22.318125 \nL 322.305882 22.318125 \nz\n\" style=\"fill: #ffffff\"/>\n   </g>\n   <g clip-path=\"url(#p9211fa7865)\">\n    <image xlink:href=\"data:image/png;base64,\niVBORw0KGgoAAAANSUhEUgAAALYAAAC2CAYAAAB08HcEAAADn0lEQVR4nO3dvYtcVRyA4Zldkw3Z2IiKiBZCtLCwEj8KwSIW20UIqSwFA9YWFunstDCgtZLW1uB/EIhik0L8aPyEiIaAunFxN7uWNvcuzHDdTd59nvIMZ+YUL7/icGdmfmZ+bm8GMSuHfQD4PwibJGGTJGyShE2SsEkSNknCJknYJAmbJGGTJGyShE2SsEkSNknCJknYJAmbJGGTdN9hH+Be9duFFwfXr138YHTPU59eGF5/44tJzsR/TGyShE2SsEkSNknCJsmtyJJuPbu98J7zzw3fflxfXx/ds7u5ufDnYGITJWyShE2SsEkSNknCJsl13wF65+EvB9dfeXn44ajZbDZbu+IBqWWY2CQJmyRhkyRskoRNkrBJEjZJwiZJ2CQJmyRhkyRskjwEtaTTH+8Mv7BxsOdgmIlNkrBJEjZJwiZJ2CS5FVnS8V9uTfZeN18f/7WnR69M9jFHiolNkrBJEjZJwiZJ2CQJmyTXfXeBB0/5cfepmdgkCZskYZMkbJKETZKwSRI2ScImSdgkCZskYZMkbJKETZKwSRI2ScImSdgkCZskYZMkbJKETZKwSRI2ScImSdgk+SWoZf29Nbj82e37R7dsnPxzcP2905+M7rn49GuD63e++nafw2FikyRskoRNkrBJEjZJbkWWtHPj18H1t6+/Orpn44XLg+vPHF8d3XPn1NpiB2M2m5nYRAmbJGGTJGyShE2SsEly3XeX++7NY4PrT35+wAe5x5jYJAmbJGGTJGyShE2SW5GJbW+PP9C0jLWT25O+31FhYpMkbJKETZKwSRI2ScImyXXfxJ54f58XXzqoU2BikyRskoRNkrBJEjZJwiZJ2CQJmyRhkyRskoRNkrBJ8hDUxFa/+Wn0tbduPD+4/u4j10b3/PPz+uD6yokTo3t2t4b/qu8oMbFJEjZJwiZJ2CQJmyS3IlNbHZ8Vays7C7/d1+c/HFw/e2n8b/d2v/9x4c+pMbFJEjZJwiZJ2CQJmyRhk+S6b2J7f22OvvbD7QcWfr+P/nh84c/BxCZK2CQJmyRhkyRsktyKTGy/r2Xd3HpocP3YfPwv9C5dPju4/tjvVxc611FjYpMkbJKETZKwSRI2ScImaX5mfm7vsA8BUzOxSRI2ScImSdgkCZskYZMkbJKETZKwSRI2ScImSdgkCZskYZMkbJKETZKwSRI2ScImSdgkCZskYZMkbJKETZKwSRI2ScImSdgkCZskYZMkbJL+BVYhVvBM4uagAAAAAElFTkSuQmCC\" id=\"imagefce24b659c\" transform=\"scale(1 -1) translate(0 -131.04)\" x=\"322.305882\" y=\"-21.725184\" width=\"131.04\" height=\"131.04\"/>\n   </g>\n   <g id=\"matplotlib.axis_5\"/>\n   <g id=\"matplotlib.axis_6\"/>\n   <g id=\"patch_13\">\n    <path d=\"M 322.305882 152.765184 \nL 322.305882 22.318125 \n\" style=\"fill: none; stroke: #000000; stroke-width: 0.8; stroke-linejoin: miter; stroke-linecap: square\"/>\n   </g>\n   <g id=\"patch_14\">\n    <path d=\"M 452.752941 152.765184 \nL 452.752941 22.318125 \n\" style=\"fill: none; stroke: #000000; stroke-width: 0.8; stroke-linejoin: miter; stroke-linecap: square\"/>\n   </g>\n   <g id=\"patch_15\">\n    <path d=\"M 322.305882 152.765184 \nL 452.752941 152.765184 \n\" style=\"fill: none; stroke: #000000; stroke-width: 0.8; stroke-linejoin: miter; stroke-linecap: square\"/>\n   </g>\n   <g id=\"patch_16\">\n    <path d=\"M 322.305882 22.318125 \nL 452.752941 22.318125 \n\" style=\"fill: none; stroke: #000000; stroke-width: 0.8; stroke-linejoin: miter; stroke-linecap: square\"/>\n   </g>\n   <g id=\"text_3\">\n    <!-- label = 1 -->\n    <g transform=\"translate(360.358787 16.318125) scale(0.12 -0.12)\">\n     <defs>\n      <path id=\"DejaVuSans-31\" d=\"M 794 531 \nL 1825 531 \nL 1825 4091 \nL 703 3866 \nL 703 4441 \nL 1819 4666 \nL 2450 4666 \nL 2450 531 \nL 3481 531 \nL 3481 0 \nL 794 0 \nL 794 531 \nz\n\" transform=\"scale(0.015625)\"/>\n     </defs>\n     <use xlink:href=\"#DejaVuSans-6c\"/>\n     <use xlink:href=\"#DejaVuSans-61\" x=\"27.783203\"/>\n     <use xlink:href=\"#DejaVuSans-62\" x=\"89.0625\"/>\n     <use xlink:href=\"#DejaVuSans-65\" x=\"152.539062\"/>\n     <use xlink:href=\"#DejaVuSans-6c\" x=\"214.0625\"/>\n     <use xlink:href=\"#DejaVuSans-20\" x=\"241.845703\"/>\n     <use xlink:href=\"#DejaVuSans-3d\" x=\"273.632812\"/>\n     <use xlink:href=\"#DejaVuSans-20\" x=\"357.421875\"/>\n     <use xlink:href=\"#DejaVuSans-31\" x=\"389.208984\"/>\n    </g>\n   </g>\n  </g>\n  <g id=\"axes_4\">\n   <g id=\"patch_17\">\n    <path d=\"M 7.2 309.301654 \nL 137.647059 309.301654 \nL 137.647059 178.854596 \nL 7.2 178.854596 \nz\n\" style=\"fill: #ffffff\"/>\n   </g>\n   <g clip-path=\"url(#p77faa90eb6)\">\n    <image xlink:href=\"data:image/png;base64,\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\" id=\"image41e2e5dc89\" transform=\"scale(1 -1) translate(0 -131.04)\" x=\"7.2\" y=\"-178.261654\" width=\"131.04\" height=\"131.04\"/>\n   </g>\n   <g id=\"matplotlib.axis_7\"/>\n   <g id=\"matplotlib.axis_8\"/>\n   <g id=\"patch_18\">\n    <path d=\"M 7.2 309.301654 \nL 7.2 178.854596 \n\" style=\"fill: none; stroke: #000000; stroke-width: 0.8; stroke-linejoin: miter; stroke-linecap: square\"/>\n   </g>\n   <g id=\"patch_19\">\n    <path d=\"M 137.647059 309.301654 \nL 137.647059 178.854596 \n\" style=\"fill: none; stroke: #000000; stroke-width: 0.8; stroke-linejoin: miter; stroke-linecap: square\"/>\n   </g>\n   <g id=\"patch_20\">\n    <path d=\"M 7.2 309.301654 \nL 137.647059 309.301654 \n\" style=\"fill: none; stroke: #000000; stroke-width: 0.8; stroke-linejoin: miter; stroke-linecap: square\"/>\n   </g>\n   <g id=\"patch_21\">\n    <path d=\"M 7.2 178.854596 \nL 137.647059 178.854596 \n\" style=\"fill: none; stroke: #000000; stroke-width: 0.8; stroke-linejoin: miter; stroke-linecap: square\"/>\n   </g>\n   <g id=\"text_4\">\n    <!-- label = 4 -->\n    <g transform=\"translate(45.252904 172.854596) scale(0.12 -0.12)\">\n     <use xlink:href=\"#DejaVuSans-6c\"/>\n     <use xlink:href=\"#DejaVuSans-61\" x=\"27.783203\"/>\n     <use xlink:href=\"#DejaVuSans-62\" x=\"89.0625\"/>\n     <use xlink:href=\"#DejaVuSans-65\" x=\"152.539062\"/>\n     <use xlink:href=\"#DejaVuSans-6c\" x=\"214.0625\"/>\n     <use xlink:href=\"#DejaVuSans-20\" x=\"241.845703\"/>\n     <use xlink:href=\"#DejaVuSans-3d\" x=\"273.632812\"/>\n     <use xlink:href=\"#DejaVuSans-20\" x=\"357.421875\"/>\n     <use xlink:href=\"#DejaVuSans-34\" x=\"389.208984\"/>\n    </g>\n   </g>\n  </g>\n  <g id=\"axes_5\">\n   <g id=\"patch_22\">\n    <path d=\"M 164.752941 309.301654 \nL 295.2 309.301654 \nL 295.2 178.854596 \nL 164.752941 178.854596 \nz\n\" style=\"fill: #ffffff\"/>\n   </g>\n   <g clip-path=\"url(#p73c7d0adbc)\">\n    <image xlink:href=\"data:image/png;base64,\niVBORw0KGgoAAAANSUhEUgAAALYAAAC2CAYAAAB08HcEAAAGaUlEQVR4nO3dbWiVZRzH8etsLh/Wlg8sH/BhWztTqwnmGjOQhCQikopmiwpxqdCTE4sYEWEY2YsWhJWZ4dPEF2FQMQqCwpHZFtMsxZZOzfJxYQZN5zm6c04vevv/nzjLtbPfvp+X/5vr7La+XC8u7nOfyIJITSoAYnIG+gaA/kDYkETYkETYkETYkETYkETYkETYkETYkETYkETYkETYkETYkETYkETYkETYkETYkETYkETYkETYkETYkETYkETYkETYkETYkDRsoG8gm+UWFbnXYrOnmfO8hnPums5TN5rzO6LH3TXtu2aa87KNp9w1iTNd5jx19Yq7Rg07NiQRNiQRNiQRNiQRNiQRNiRFePF7CFfuud2c1731sbumtuDsNfv7OWn2l2RIZvx5FU315jy6/qS7pvekf3w4GLFjQxJhQxJhQxJhQxJhQ9KQeQjqj+Vz3Wutr7xjzvtyIrHqzDz3Wvv62eZ8St1Rd82Tk1rM+Z0je9w16xZtNudP5y9x10TrORUBsh5hQxJhQxJhQxJhQxJhQ5LcQ1A5s2aY85oPW9w1iwtPm/NDV3rdNQ99utKcl798yF2T7O52r3lyZ0bN+dHVI901B+dtMuffxfPcNa89uti+0HbAv7ksxo4NSYQNSYQNSYQNSYQNSXIPQZ2dP9aceycfIYTQlbhszlfWP+euKWtuM+eZPzaVXqKj05yXvnGLu2Z/lb1fzR2ecNfUbWs251um22+8ynbs2JBE2JBE2JBE2JBE2JBE2JAkd9zXO8qep/v+4l1NL5jz4ubWa3FL/SK1z3/YanXpHHO++LD/JqjqEb+a8y3VC/2byOIHpNixIYmwIYmwIYmwIYmwIUnuVKRniv+gj2f83szXDEZrdj7sXtv+2DpzPuyE/dN6IYTgf3Fu4LFjQxJhQxJhQxJhQxJhQxJhQ5LccV/h4dyM13RV2muKP/mPNzOIjIg4R56j/DdOZTN2bEgibEgibEgibEgibEiSOxWBL1J+0b12IWF/p673+Il+upv+xY4NSYQNSYQNSYQNSYQNSYQNSXLHfRO3HDTnN5escNdMb/zJnKt9E3Jj5faBvoX/DTs2JBE2JBE2JBE2JBE2JEUWRGpSA30TA+23nRXmfOoi+4QlndjCKvfaxYn2V9Dyevz/BeN22z/jl4rF3TWJrt/NefKrKe6aJZO/NedN0/012YwdG5IIG5IIG5IIG5IIG5IIG5LkHoLqi9KGbnPe+fpcd01e+V/mfMdtb7trZl5n7yM5afYX72f8dl2+3l3z/I815vyL6PvuGvcnAUP2/iRgOuzYkETYkETYkETYkETYkMRDUCGEpUd+Mef355/P+LPSnVZsOD3fnB84UOyuubf6B3P+5qRvMrirf9dwzj4B6piTzT9652PHhiTChiTChiTChiTChiTChqSh8xBU9Sz30oP5+8y5/fjRPyq+XmbOy9b0uGsSHZ3mPBq63DXHCgrsv//BUnfNwXmb3GueB0Z/b847gv/fLZuxY0MSYUMSYUMSYUMSYUPSkDkVOXFfvnstL2K/oWlPLOKuKW20Hw7yTj76Ktltf23tpieOumvea4+a82dGH3PX5ETSnQENPuzYkETYkETYkETYkETYkETYkDRkjvvSuZqyf/iucrh/BHahotCcj7Gfp7rmLt19q3vt82X2cV/RVvvoMIQQ1m6rNeeTg/1C+GzHjg1JhA1JhA1JhA1JhA1JQ+ZUZNpn/le2Ql3mnzehzn57VHxr5p/VF+cf9/89xS/FzHm6n7YbrKcfHnZsSCJsSCJsSCJsSCJsSCJsSOLF7yGEIxuqzPnPC9911+yP23vCU40r3DUTNttvW0rG7OO5EELIHTfWnFd8ecFd81FLtTkvW9XmrlHDjg1JhA1JhA1JhA1JhA1JnIqEEHKLisz5I7v3u2tqC85m/HfW/TnDnMeTee6aMcMumfNlNxx311Q01Zvzkhdb09ydFnZsSCJsSCJsSCJsSCJsSCJsSOK4Lw3vGDCEEDpeLTHnNVXt7pq14/eac+/F8yGEsCdmv41q+aZn3TVTG+3XUaXicXeNGnZsSCJsSCJsSCJsSCJsSOJUBJLYsSGJsCGJsCGJsCGJsCGJsCGJsCGJsCGJsCGJsCGJsCGJsCGJsCGJsCGJsCGJsCGJsCGJsCGJsCGJsCGJsCGJsCGJsCGJsCGJsCHpb5IsGjmFNCPTAAAAAElFTkSuQmCC\" id=\"image5e4101c760\" transform=\"scale(1 -1) translate(0 -131.04)\" x=\"164.752941\" y=\"-178.261654\" width=\"131.04\" height=\"131.04\"/>\n   </g>\n   <g id=\"matplotlib.axis_9\"/>\n   <g id=\"matplotlib.axis_10\"/>\n   <g id=\"patch_23\">\n    <path d=\"M 164.752941 309.301654 \nL 164.752941 178.854596 \n\" style=\"fill: none; stroke: #000000; stroke-width: 0.8; stroke-linejoin: miter; stroke-linecap: square\"/>\n   </g>\n   <g id=\"patch_24\">\n    <path d=\"M 295.2 309.301654 \nL 295.2 178.854596 \n\" style=\"fill: none; stroke: #000000; stroke-width: 0.8; stroke-linejoin: miter; stroke-linecap: square\"/>\n   </g>\n   <g id=\"patch_25\">\n    <path d=\"M 164.752941 309.301654 \nL 295.2 309.301654 \n\" style=\"fill: none; stroke: #000000; stroke-width: 0.8; stroke-linejoin: miter; stroke-linecap: square\"/>\n   </g>\n   <g id=\"patch_26\">\n    <path d=\"M 164.752941 178.854596 \nL 295.2 178.854596 \n\" style=\"fill: none; stroke: #000000; stroke-width: 0.8; stroke-linejoin: miter; stroke-linecap: square\"/>\n   </g>\n   <g id=\"text_5\">\n    <!-- label = 9 -->\n    <g transform=\"translate(202.805846 172.854596) scale(0.12 -0.12)\">\n     <defs>\n      <path id=\"DejaVuSans-39\" d=\"M 703 97 \nL 703 672 \nQ 941 559 1184 500 \nQ 1428 441 1663 441 \nQ 2288 441 2617 861 \nQ 2947 1281 2994 2138 \nQ 2813 1869 2534 1725 \nQ 2256 1581 1919 1581 \nQ 1219 1581 811 2004 \nQ 403 2428 403 3163 \nQ 403 3881 828 4315 \nQ 1253 4750 1959 4750 \nQ 2769 4750 3195 4129 \nQ 3622 3509 3622 2328 \nQ 3622 1225 3098 567 \nQ 2575 -91 1691 -91 \nQ 1453 -91 1209 -44 \nQ 966 3 703 97 \nz\nM 1959 2075 \nQ 2384 2075 2632 2365 \nQ 2881 2656 2881 3163 \nQ 2881 3666 2632 3958 \nQ 2384 4250 1959 4250 \nQ 1534 4250 1286 3958 \nQ 1038 3666 1038 3163 \nQ 1038 2656 1286 2365 \nQ 1534 2075 1959 2075 \nz\n\" transform=\"scale(0.015625)\"/>\n     </defs>\n     <use xlink:href=\"#DejaVuSans-6c\"/>\n     <use xlink:href=\"#DejaVuSans-61\" x=\"27.783203\"/>\n     <use xlink:href=\"#DejaVuSans-62\" x=\"89.0625\"/>\n     <use xlink:href=\"#DejaVuSans-65\" x=\"152.539062\"/>\n     <use xlink:href=\"#DejaVuSans-6c\" x=\"214.0625\"/>\n     <use xlink:href=\"#DejaVuSans-20\" x=\"241.845703\"/>\n     <use xlink:href=\"#DejaVuSans-3d\" x=\"273.632812\"/>\n     <use xlink:href=\"#DejaVuSans-20\" x=\"357.421875\"/>\n     <use xlink:href=\"#DejaVuSans-39\" x=\"389.208984\"/>\n    </g>\n   </g>\n  </g>\n  <g id=\"axes_6\">\n   <g id=\"patch_27\">\n    <path d=\"M 322.305882 309.301654 \nL 452.752941 309.301654 \nL 452.752941 178.854596 \nL 322.305882 178.854596 \nz\n\" style=\"fill: #ffffff\"/>\n   </g>\n   <g clip-path=\"url(#pb5316c27c0)\">\n    <image xlink:href=\"data:image/png;base64,\niVBORw0KGgoAAAANSUhEUgAAALYAAAC2CAYAAAB08HcEAAAEsklEQVR4nO3dTYjVVRzH4XNnJl/oVU0M0gwHo4W2qLRUgkIXWURBUlQLcVErVy2SoJULDaIgkaJFUNGqvRkRuAgTlAGVfKnUiiywDIkkZxydaV/nDN1J5+Xr8yx/f869Z/HhLA7/udNZ19kwWiBMz2RvAK4GYRNJ2EQSNpGETSRhE0nYRBI2kYRNJGETSdhEEjaR+iZ7A4zt3MZV1fnebTubax7curk6v/W9fVdkT9OBE5tIwiaSsIkkbCIJm0jCJpLrvinu7P0jXa95ZvMX1fme929urhm9dKnr75nKnNhEEjaRhE0kYRNJ2ERyKzLF3f32r9X55+uvb655ee7x6nxP7+r2F7kVgalP2EQSNpGETSRhE0nYRHLdN8VdPvF9dX5qaEF70exTV2k304cTm0jCJpKwiSRsIgmbSG5FprjTr9ZfXHr2pjfGWDXr6mxmGnFiE0nYRBI2kYRNJGETSdhEct03BfQtubP5bMvGT6rzOT3tK71tZ5fXH1y+3M22pjUnNpGETSRhE0nYRBI2kdyKjKWnt/noh60rq/O5R0aba367t1Odv/ho/fesSynluRvPNJ+1fLB/TXV+16UDXX/WdOXEJpKwiSRsIgmbSMImkrCJ5LpvDOc/Xdx89vXynRO4k3/b9OPa5rNFu+rXitcSJzaRhE0kYRNJ2EQSNpHcioxhS/9nXa/ZN9R+cerQhfYtS8uOXY9V50vfPNlcM/vM/q6/J40Tm0jCJpKwiSRsIgmbSMImkuu+UkrfooXV+S29B5tr/hq9WJ1vf2pTc83I4eNd7auUUpaUfdX5tfObTuPjxCaSsIkkbCIJm0jCJpJbkVLKL0/cUZ2vmtm+e/hjZKQ6H8/NB1eeE5tIwiaSsIkkbCIJm0jCJpKwiSRsIgmbSMImkrCJJGwiCZtIwiaSsIkkbCIJm0jCJpKwieRvHsdpVqf+A+9D61c018zcfeBqbYd/cGITSdhEEjaRhE0kYRPJrUgp5cLDf3a9Zmbnuur89Nr2v8Pr39311zBOTmwiCZtIwiaSsIkkbCIJm0iddZ0No5O9icn20OHB6nzLvCNdf9bewfo1YCmlbO+/p+vPY3yc2EQSNpGETSRhE0nYRPISVCnlo6Mrq/OX1gw018zpmVWdL5vRfqHqp9dWV+fzjrb/7d7sM0PVeWfvweYanNiEEjaRhE0kYRNJ2EQSNpG8BDWG73Y80Hz2zdPvTMgejg0PV+cf/l6/OiyllIHX7qvOr6VfonJiE0nYRBI2kYRNJGETya3IGHrnz28++/n5pdX56CPnmmsGVnz8v/f0X3w7fLE6PzC4uLnmxOCC6nxg47LmmpFDx7rb2ARyYhNJ2EQSNpGETSRhE0nYRHLdd6X1tH/4vW9B/frwYv9tzTUnXpjR9Ra+fPyt6nxh3w3NNSeHz1fnT777SnPN7a9/1d3GJpATm0jCJpKwiSRsIgmbSG5FiOTEJpKwiSRsIgmbSMImkrCJJGwiCZtIwiaSsIkkbCIJm0jCJpKwiSRsIgmbSMImkrCJJGwiCZtIwiaSsIkkbCIJm0jCJpKwiSRsIgmbSMImkrCJJGwiCZtIwiaSsIkkbCIJm0jCJpKwifQ3Q3qXvLUCRGEAAAAASUVORK5CYII=\" id=\"image04857a37d9\" transform=\"scale(1 -1) translate(0 -131.04)\" x=\"322.305882\" y=\"-178.261654\" width=\"131.04\" height=\"131.04\"/>\n   </g>\n   <g id=\"matplotlib.axis_11\"/>\n   <g id=\"matplotlib.axis_12\"/>\n   <g id=\"patch_28\">\n    <path d=\"M 322.305882 309.301654 \nL 322.305882 178.854596 \n\" style=\"fill: none; stroke: #000000; stroke-width: 0.8; stroke-linejoin: miter; stroke-linecap: square\"/>\n   </g>\n   <g id=\"patch_29\">\n    <path d=\"M 452.752941 309.301654 \nL 452.752941 178.854596 \n\" style=\"fill: none; stroke: #000000; stroke-width: 0.8; stroke-linejoin: miter; stroke-linecap: square\"/>\n   </g>\n   <g id=\"patch_30\">\n    <path d=\"M 322.305882 309.301654 \nL 452.752941 309.301654 \n\" style=\"fill: none; stroke: #000000; stroke-width: 0.8; stroke-linejoin: miter; stroke-linecap: square\"/>\n   </g>\n   <g id=\"patch_31\">\n    <path d=\"M 322.305882 178.854596 \nL 452.752941 178.854596 \n\" style=\"fill: none; stroke: #000000; stroke-width: 0.8; stroke-linejoin: miter; stroke-linecap: square\"/>\n   </g>\n   <g id=\"text_6\">\n    <!-- label = 5 -->\n    <g transform=\"translate(360.358787 172.854596) scale(0.12 -0.12)\">\n     <use xlink:href=\"#DejaVuSans-6c\"/>\n     <use xlink:href=\"#DejaVuSans-61\" x=\"27.783203\"/>\n     <use xlink:href=\"#DejaVuSans-62\" x=\"89.0625\"/>\n     <use xlink:href=\"#DejaVuSans-65\" x=\"152.539062\"/>\n     <use xlink:href=\"#DejaVuSans-6c\" x=\"214.0625\"/>\n     <use xlink:href=\"#DejaVuSans-20\" x=\"241.845703\"/>\n     <use xlink:href=\"#DejaVuSans-3d\" x=\"273.632812\"/>\n     <use xlink:href=\"#DejaVuSans-20\" x=\"357.421875\"/>\n     <use xlink:href=\"#DejaVuSans-35\" x=\"389.208984\"/>\n    </g>\n   </g>\n  </g>\n  <g id=\"axes_7\">\n   <g id=\"patch_32\">\n    <path d=\"M 7.2 465.838125 \nL 137.647059 465.838125 \nL 137.647059 335.391066 \nL 7.2 335.391066 \nz\n\" style=\"fill: #ffffff\"/>\n   </g>\n   <g clip-path=\"url(#p98dc0a7c62)\">\n    <image xlink:href=\"data:image/png;base64,\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\" id=\"imageef0b7dc0aa\" transform=\"scale(1 -1) translate(0 -131.04)\" x=\"7.2\" y=\"-334.798125\" width=\"131.04\" height=\"131.04\"/>\n   </g>\n   <g id=\"matplotlib.axis_13\"/>\n   <g id=\"matplotlib.axis_14\"/>\n   <g id=\"patch_33\">\n    <path d=\"M 7.2 465.838125 \nL 7.2 335.391066 \n\" style=\"fill: none; stroke: #000000; stroke-width: 0.8; stroke-linejoin: miter; stroke-linecap: square\"/>\n   </g>\n   <g id=\"patch_34\">\n    <path d=\"M 137.647059 465.838125 \nL 137.647059 335.391066 \n\" style=\"fill: none; stroke: #000000; stroke-width: 0.8; stroke-linejoin: miter; stroke-linecap: square\"/>\n   </g>\n   <g id=\"patch_35\">\n    <path d=\"M 7.2 465.838125 \nL 137.647059 465.838125 \n\" style=\"fill: none; stroke: #000000; stroke-width: 0.8; stroke-linejoin: miter; stroke-linecap: square\"/>\n   </g>\n   <g id=\"patch_36\">\n    <path d=\"M 7.2 335.391066 \nL 137.647059 335.391066 \n\" style=\"fill: none; stroke: #000000; stroke-width: 0.8; stroke-linejoin: miter; stroke-linecap: square\"/>\n   </g>\n   <g id=\"text_7\">\n    <!-- label = 2 -->\n    <g transform=\"translate(45.252904 329.391066) scale(0.12 -0.12)\">\n     <defs>\n      <path id=\"DejaVuSans-32\" d=\"M 1228 531 \nL 3431 531 \nL 3431 0 \nL 469 0 \nL 469 531 \nQ 828 903 1448 1529 \nQ 2069 2156 2228 2338 \nQ 2531 2678 2651 2914 \nQ 2772 3150 2772 3378 \nQ 2772 3750 2511 3984 \nQ 2250 4219 1831 4219 \nQ 1534 4219 1204 4116 \nQ 875 4013 500 3803 \nL 500 4441 \nQ 881 4594 1212 4672 \nQ 1544 4750 1819 4750 \nQ 2544 4750 2975 4387 \nQ 3406 4025 3406 3419 \nQ 3406 3131 3298 2873 \nQ 3191 2616 2906 2266 \nQ 2828 2175 2409 1742 \nQ 1991 1309 1228 531 \nz\n\" transform=\"scale(0.015625)\"/>\n     </defs>\n     <use xlink:href=\"#DejaVuSans-6c\"/>\n     <use xlink:href=\"#DejaVuSans-61\" x=\"27.783203\"/>\n     <use xlink:href=\"#DejaVuSans-62\" x=\"89.0625\"/>\n     <use xlink:href=\"#DejaVuSans-65\" x=\"152.539062\"/>\n     <use xlink:href=\"#DejaVuSans-6c\" x=\"214.0625\"/>\n     <use xlink:href=\"#DejaVuSans-20\" x=\"241.845703\"/>\n     <use xlink:href=\"#DejaVuSans-3d\" x=\"273.632812\"/>\n     <use xlink:href=\"#DejaVuSans-20\" x=\"357.421875\"/>\n     <use xlink:href=\"#DejaVuSans-32\" x=\"389.208984\"/>\n    </g>\n   </g>\n  </g>\n  <g id=\"axes_8\">\n   <g id=\"patch_37\">\n    <path d=\"M 164.752941 465.838125 \nL 295.2 465.838125 \nL 295.2 335.391066 \nL 164.752941 335.391066 \nz\n\" style=\"fill: #ffffff\"/>\n   </g>\n   <g clip-path=\"url(#p1032c3df18)\">\n    <image xlink:href=\"data:image/png;base64,\niVBORw0KGgoAAAANSUhEUgAAALYAAAC2CAYAAAB08HcEAAAEtUlEQVR4nO3cwYvUZRzH8dl1IdpwY9US1jUISiLJ6LBULkmShzQJNjx4ia4hpmB4yItEeGmJQG0JuuSpQyBUknSoKEqx00YiGqRZ2qXUZCE207F/4Hm2fuvozn58vY7fh2fmp7z3OTzMTM+6nk3XWxCmd64fAG4GYRNJ2EQSNpGETSRhE0nYRBI2kYRNJGETSdhEEjaRhE0kYRNJ2EQSNpGETSRhE0nYROqb6weYjT9ffLK69uGe8eJ86YI7Gr/PU7u2VdcWHzxenLenphq/D53nxCaSsIkkbCIJm0jCJlJP2i9B/b1+pDg/O1bfc/K5ieK8d4a/+0fffaU4X/7Gkfobccs4sYkkbCIJm0jCJpKwiSRsIsVd99X0LRuqrv309uLi/IfR96t7zlydLs63bt5S3dNz9PvqGp3lxCaSsIkkbCIJm0jCJtJtcysyGyOT16pru++ZLM63nFtT3XN+Q/nradcuXGz0XPw3JzaRhE0kYRNJ2EQSNpGETSTXfTNYsHhRdW3g4/J8732fVPe89cdocT75WKPH4n9wYhNJ2EQSNpGETSRhE8mtSIede211de3LLeXf7n5m787qnqFxvyw1G05sIgmbSMImkrCJJGwiCZtIrvtuocFvyx+q2j/DB6fGtu8ozvsPHuvIM6VyYhNJ2EQSNpGETSRhE6lvrh/gdvLb+APF+ZKJu6p7Nr7+RXH+9eTK6p6rp39u9FyJnNhEEjaRhE0kYRNJ2EQSNpF8CKoLTJz9pro23Ff+sfhHDmyr7rl/19Ebfqb5zolNJGETSdhEEjaRhE0kH4LqAi/teLW69vne/cX53asu3KzHieDEJpKwiSRsIgmbSMImkrCJ5LqvCwwcb351N7L0l+ramYULi/P21FTj95mvnNhEEjaRhE0kYRNJ2ERyK9IF2qfrNxzPnxwrzg899FF1z+gLW4vzwQO3z1fGnNhEEjaRhE0kYRNJ2EQSNpFc93WB6/9cqa5dmr6zOG+32tU9v6++WpwPHmj2XPOZE5tIwiaSsIkkbCIJm0huRbpA37Kh6tquFYcbv97wZ84r/wNEEjaRhE0kYRNJ2EQSNpFc93WBy08sr66t779UnB/+a7C6Z+DYr8V5+aNRmZzYRBI2kYRNJGETSdhEcivSBR7ceaK61ls5e/ac2lDds+j8jzf8TPOdE5tIwiaSsIkkbCIJm0jCJpLrvg5bMDBQXTv1+sPF+aHl71T3XGpPF+fTXy2Z4Slc9zmxiSRsIgmbSMImkrCJ5FZkBr39/dW16TUry/PtF6t7TqzaV5xfbtd/H3vtxM7ifHj8SHUPTmxCCZtIwiaSsIkkbCIJm0hx131Xnh0pzs9ubP43vHn0aHVt970TjV+vZu2+8pVeq9VqDb/pWm82nNhEEjaRhE0kYRNJ2ESKuxU5/3T5n3RqbH/j11rx6cvVtQ9ajzd/vffKX/Ma+s7NR6c5sYkkbCIJm0jCJpKwiSRsIvWs69l0fa4fAjrNiU0kYRNJ2EQSNpGETSRhE0nYRBI2kYRNJGETSdhEEjaRhE0kYRNJ2EQSNpGETSRhE0nYRBI2kYRNJGETSdhEEjaRhE0kYRNJ2EQSNpGETSRhE0nYRPoXxnqeasB2RD0AAAAASUVORK5CYII=\" id=\"image44bf54472e\" transform=\"scale(1 -1) translate(0 -131.04)\" x=\"164.752941\" y=\"-334.798125\" width=\"131.04\" height=\"131.04\"/>\n   </g>\n   <g id=\"matplotlib.axis_15\"/>\n   <g id=\"matplotlib.axis_16\"/>\n   <g id=\"patch_38\">\n    <path d=\"M 164.752941 465.838125 \nL 164.752941 335.391066 \n\" style=\"fill: none; stroke: #000000; stroke-width: 0.8; stroke-linejoin: miter; stroke-linecap: square\"/>\n   </g>\n   <g id=\"patch_39\">\n    <path d=\"M 295.2 465.838125 \nL 295.2 335.391066 \n\" style=\"fill: none; stroke: #000000; stroke-width: 0.8; stroke-linejoin: miter; stroke-linecap: square\"/>\n   </g>\n   <g id=\"patch_40\">\n    <path d=\"M 164.752941 465.838125 \nL 295.2 465.838125 \n\" style=\"fill: none; stroke: #000000; stroke-width: 0.8; stroke-linejoin: miter; stroke-linecap: square\"/>\n   </g>\n   <g id=\"patch_41\">\n    <path d=\"M 164.752941 335.391066 \nL 295.2 335.391066 \n\" style=\"fill: none; stroke: #000000; stroke-width: 0.8; stroke-linejoin: miter; stroke-linecap: square\"/>\n   </g>\n   <g id=\"text_8\">\n    <!-- label = 7 -->\n    <g transform=\"translate(202.805846 329.391066) scale(0.12 -0.12)\">\n     <defs>\n      <path id=\"DejaVuSans-37\" d=\"M 525 4666 \nL 3525 4666 \nL 3525 4397 \nL 1831 0 \nL 1172 0 \nL 2766 4134 \nL 525 4134 \nL 525 4666 \nz\n\" transform=\"scale(0.015625)\"/>\n     </defs>\n     <use xlink:href=\"#DejaVuSans-6c\"/>\n     <use xlink:href=\"#DejaVuSans-61\" x=\"27.783203\"/>\n     <use xlink:href=\"#DejaVuSans-62\" x=\"89.0625\"/>\n     <use xlink:href=\"#DejaVuSans-65\" x=\"152.539062\"/>\n     <use xlink:href=\"#DejaVuSans-6c\" x=\"214.0625\"/>\n     <use xlink:href=\"#DejaVuSans-20\" x=\"241.845703\"/>\n     <use xlink:href=\"#DejaVuSans-3d\" x=\"273.632812\"/>\n     <use xlink:href=\"#DejaVuSans-20\" x=\"357.421875\"/>\n     <use xlink:href=\"#DejaVuSans-37\" x=\"389.208984\"/>\n    </g>\n   </g>\n  </g>\n  <g id=\"axes_9\">\n   <g id=\"patch_42\">\n    <path d=\"M 322.305882 465.838125 \nL 452.752941 465.838125 \nL 452.752941 335.391066 \nL 322.305882 335.391066 \nz\n\" style=\"fill: #ffffff\"/>\n   </g>\n   <g clip-path=\"url(#p16f6ac8e68)\">\n    <image xlink:href=\"data:image/png;base64,\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\" id=\"image47d831fbc3\" transform=\"scale(1 -1) translate(0 -131.04)\" x=\"322.305882\" y=\"-334.798125\" width=\"131.04\" height=\"131.04\"/>\n   </g>\n   <g id=\"matplotlib.axis_17\"/>\n   <g id=\"matplotlib.axis_18\"/>\n   <g id=\"patch_43\">\n    <path d=\"M 322.305882 465.838125 \nL 322.305882 335.391066 \n\" style=\"fill: none; stroke: #000000; stroke-width: 0.8; stroke-linejoin: miter; stroke-linecap: square\"/>\n   </g>\n   <g id=\"patch_44\">\n    <path d=\"M 452.752941 465.838125 \nL 452.752941 335.391066 \n\" style=\"fill: none; stroke: #000000; stroke-width: 0.8; stroke-linejoin: miter; stroke-linecap: square\"/>\n   </g>\n   <g id=\"patch_45\">\n    <path d=\"M 322.305882 465.838125 \nL 452.752941 465.838125 \n\" style=\"fill: none; stroke: #000000; stroke-width: 0.8; stroke-linejoin: miter; stroke-linecap: square\"/>\n   </g>\n   <g id=\"patch_46\">\n    <path d=\"M 322.305882 335.391066 \nL 452.752941 335.391066 \n\" style=\"fill: none; stroke: #000000; stroke-width: 0.8; stroke-linejoin: miter; stroke-linecap: square\"/>\n   </g>\n   <g id=\"text_9\">\n    <!-- label = 8 -->\n    <g transform=\"translate(360.358787 329.391066) scale(0.12 -0.12)\">\n     <defs>\n      <path id=\"DejaVuSans-38\" d=\"M 2034 2216 \nQ 1584 2216 1326 1975 \nQ 1069 1734 1069 1313 \nQ 1069 891 1326 650 \nQ 1584 409 2034 409 \nQ 2484 409 2743 651 \nQ 3003 894 3003 1313 \nQ 3003 1734 2745 1975 \nQ 2488 2216 2034 2216 \nz\nM 1403 2484 \nQ 997 2584 770 2862 \nQ 544 3141 544 3541 \nQ 544 4100 942 4425 \nQ 1341 4750 2034 4750 \nQ 2731 4750 3128 4425 \nQ 3525 4100 3525 3541 \nQ 3525 3141 3298 2862 \nQ 3072 2584 2669 2484 \nQ 3125 2378 3379 2068 \nQ 3634 1759 3634 1313 \nQ 3634 634 3220 271 \nQ 2806 -91 2034 -91 \nQ 1263 -91 848 271 \nQ 434 634 434 1313 \nQ 434 1759 690 2068 \nQ 947 2378 1403 2484 \nz\nM 1172 3481 \nQ 1172 3119 1398 2916 \nQ 1625 2713 2034 2713 \nQ 2441 2713 2670 2916 \nQ 2900 3119 2900 3481 \nQ 2900 3844 2670 4047 \nQ 2441 4250 2034 4250 \nQ 1625 4250 1398 4047 \nQ 1172 3844 1172 3481 \nz\n\" transform=\"scale(0.015625)\"/>\n     </defs>\n     <use xlink:href=\"#DejaVuSans-6c\"/>\n     <use xlink:href=\"#DejaVuSans-61\" x=\"27.783203\"/>\n     <use xlink:href=\"#DejaVuSans-62\" x=\"89.0625\"/>\n     <use xlink:href=\"#DejaVuSans-65\" x=\"152.539062\"/>\n     <use xlink:href=\"#DejaVuSans-6c\" x=\"214.0625\"/>\n     <use xlink:href=\"#DejaVuSans-20\" x=\"241.845703\"/>\n     <use xlink:href=\"#DejaVuSans-3d\" x=\"273.632812\"/>\n     <use xlink:href=\"#DejaVuSans-20\" x=\"357.421875\"/>\n     <use xlink:href=\"#DejaVuSans-38\" x=\"389.208984\"/>\n    </g>\n   </g>\n  </g>\n </g>\n <defs>\n  <clipPath id=\"pd6584a6320\">\n   <rect x=\"7.2\" y=\"22.318125\" width=\"130.447059\" height=\"130.447059\"/>\n  </clipPath>\n  <clipPath id=\"p71c24e67e8\">\n   <rect x=\"164.752941\" y=\"22.318125\" width=\"130.447059\" height=\"130.447059\"/>\n  </clipPath>\n  <clipPath id=\"p9211fa7865\">\n   <rect x=\"322.305882\" y=\"22.318125\" width=\"130.447059\" height=\"130.447059\"/>\n  </clipPath>\n  <clipPath id=\"p77faa90eb6\">\n   <rect x=\"7.2\" y=\"178.854596\" width=\"130.447059\" height=\"130.447059\"/>\n  </clipPath>\n  <clipPath id=\"p73c7d0adbc\">\n   <rect x=\"164.752941\" y=\"178.854596\" width=\"130.447059\" height=\"130.447059\"/>\n  </clipPath>\n  <clipPath id=\"pb5316c27c0\">\n   <rect x=\"322.305882\" y=\"178.854596\" width=\"130.447059\" height=\"130.447059\"/>\n  </clipPath>\n  <clipPath id=\"p98dc0a7c62\">\n   <rect x=\"7.2\" y=\"335.391066\" width=\"130.447059\" height=\"130.447059\"/>\n  </clipPath>\n  <clipPath id=\"p1032c3df18\">\n   <rect x=\"164.752941\" y=\"335.391066\" width=\"130.447059\" height=\"130.447059\"/>\n  </clipPath>\n  <clipPath id=\"p16f6ac8e68\">\n   <rect x=\"322.305882\" y=\"335.391066\" width=\"130.447059\" height=\"130.447059\"/>\n  </clipPath>\n </defs>\n</svg>\n"
     },
     "metadata": {},
     "output_type": "display_data"
    }
   ],
   "source": [
    "%matplotlib inline\n",
    "%config InlineBackend.figure_format = 'svg'\n",
    "\n",
    "#查看部分样本\n",
    "from matplotlib import pyplot as plt \n",
    "\n",
    "fig = plt.figure(figsize=(8,8)) \n",
    "for i in range(9):\n",
    "    img,label = ds_train[i]\n",
    "    img = img.permute(1,2,0)\n",
    "    ax=plt.subplot(3,3,i+1)\n",
    "    ax.imshow(img.numpy())\n",
    "    ax.set_title(\"label = %d\"%label)\n",
    "    ax.set_xticks([])\n",
    "    ax.set_yticks([]) \n",
    "plt.show()\n"
   ]
  },
  {
   "cell_type": "code",
   "execution_count": 21,
   "id": "88ac1eef-3dcb-4388-92ca-2200e5e05852",
   "metadata": {
    "ExecuteTime": {
     "end_time": "2023-09-07T09:27:49.183451700Z",
     "start_time": "2023-09-07T09:27:49.168057200Z"
    }
   },
   "outputs": [],
   "source": []
  },
  {
   "cell_type": "markdown",
   "id": "485da125",
   "metadata": {},
   "source": [
    "### 2, create the  model"
   ]
  },
  {
   "cell_type": "code",
   "execution_count": 22,
   "id": "6174ae8a",
   "metadata": {
    "ExecuteTime": {
     "end_time": "2023-09-07T09:27:49.209474800Z",
     "start_time": "2023-09-07T09:27:49.187452500Z"
    }
   },
   "outputs": [],
   "source": [
    "def create_net():\n",
    "    net = nn.Sequential()\n",
    "    net.add_module(\"conv1\",nn.Conv2d(in_channels=1,out_channels=32,kernel_size = 3))\n",
    "    net.add_module(\"pool1\",nn.MaxPool2d(kernel_size = 2,stride = 2))\n",
    "    net.add_module(\"conv2\",nn.Conv2d(in_channels=32,out_channels=64,kernel_size = 5))\n",
    "    net.add_module(\"pool2\",nn.MaxPool2d(kernel_size = 2,stride = 2))\n",
    "    net.add_module(\"dropout\",nn.Dropout2d(p = 0.1))\n",
    "    net.add_module(\"adaptive_pool\",nn.AdaptiveMaxPool2d((1,1)))\n",
    "    net.add_module(\"flatten\",nn.Flatten())\n",
    "    net.add_module(\"linear1\",nn.Linear(64,32))\n",
    "    net.add_module(\"relu\",nn.ReLU())\n",
    "    net.add_module(\"linear2\",nn.Linear(32,10))\n",
    "    return net\n",
    "\n",
    "\n",
    "class Accuracy(nn.Module):\n",
    "    def __init__(self):\n",
    "        super().__init__()\n",
    "\n",
    "        self.correct = nn.Parameter(torch.tensor(0.0),requires_grad=False)\n",
    "        self.total = nn.Parameter(torch.tensor(0.0),requires_grad=False)\n",
    "\n",
    "    def forward(self, preds: torch.Tensor, targets: torch.Tensor):\n",
    "        preds = preds.argmax(dim=-1)\n",
    "        m = (preds == targets).sum()\n",
    "        n = targets.shape[0] \n",
    "        self.correct += m \n",
    "        self.total += n\n",
    "        \n",
    "        return m/n\n",
    "\n",
    "    def compute(self):\n",
    "        return self.correct.float() / self.total \n",
    "    \n",
    "    def reset(self):\n",
    "        self.correct -= self.correct\n",
    "        self.total -= self.total\n",
    "        "
   ]
  },
  {
   "cell_type": "code",
   "execution_count": 22,
   "id": "cccac04c-5d2d-4713-a0e4-e4f280316d54",
   "metadata": {
    "ExecuteTime": {
     "end_time": "2023-09-07T09:27:49.222512Z",
     "start_time": "2023-09-07T09:27:49.198475600Z"
    }
   },
   "outputs": [],
   "source": []
  },
  {
   "cell_type": "code",
   "execution_count": 23,
   "id": "ad17716f",
   "metadata": {
    "ExecuteTime": {
     "end_time": "2023-09-07T09:27:49.273436Z",
     "start_time": "2023-09-07T09:27:49.212874400Z"
    }
   },
   "outputs": [
    {
     "name": "stdout",
     "output_type": "stream",
     "text": [
      "--------------------------------------------------------------------------\n",
      "Layer (type)                            Output Shape              Param #\n",
      "==========================================================================\n",
      "Conv2d-1                            [-1, 32, 26, 26]                  320\n",
      "MaxPool2d-2                         [-1, 32, 13, 13]                    0\n",
      "Conv2d-3                              [-1, 64, 9, 9]               51,264\n",
      "MaxPool2d-4                           [-1, 64, 4, 4]                    0\n",
      "Dropout2d-5                           [-1, 64, 4, 4]                    0\n",
      "AdaptiveMaxPool2d-6                   [-1, 64, 1, 1]                    0\n",
      "Flatten-7                                   [-1, 64]                    0\n",
      "Linear-8                                    [-1, 32]                2,080\n",
      "ReLU-9                                      [-1, 32]                    0\n",
      "Linear-10                                   [-1, 10]                  330\n",
      "==========================================================================\n",
      "Total params: 53,994\n",
      "Trainable params: 53,994\n",
      "Non-trainable params: 0\n",
      "--------------------------------------------------------------------------\n",
      "Input size (MB): 0.000069\n",
      "Forward/backward pass size (MB): 0.263016\n",
      "Params size (MB): 0.205971\n",
      "Estimated Total Size (MB): 0.469055\n",
      "--------------------------------------------------------------------------\n"
     ]
    }
   ],
   "source": [
    "net = create_net()\n",
    "\n",
    "\n",
    "model = torchkeras.KerasModel(net,\n",
    "      loss_fn = nn.CrossEntropyLoss(),\n",
    "      optimizer= torch.optim.Adam(net.parameters(),lr=3.32e-4),\n",
    "      metrics_dict = {\"acc\":Accuracy()}\n",
    "    )\n",
    "\n",
    "from torchkeras import summary\n",
    "summary(model,input_data=features);\n",
    "\n"
   ]
  },
  {
   "cell_type": "code",
   "execution_count": 23,
   "id": "202ed0b1-617e-4162-8471-f196be5fe5ea",
   "metadata": {
    "ExecuteTime": {
     "end_time": "2023-09-07T09:27:49.281620900Z",
     "start_time": "2023-09-07T09:27:49.244234900Z"
    }
   },
   "outputs": [],
   "source": []
  },
  {
   "cell_type": "code",
   "execution_count": 24,
   "id": "8be371bb-2429-4bc0-a655-75a2e277fc0e",
   "metadata": {
    "ExecuteTime": {
     "end_time": "2023-09-07T09:27:50.274489400Z",
     "start_time": "2023-09-07T09:27:49.262225700Z"
    }
   },
   "outputs": [
    {
     "name": "stdout",
     "output_type": "stream",
     "text": [
      "Requirement already satisfied: fvcore in c:\\users\\lenovo\\miniconda3\\envs\\pt\\lib\\site-packages (0.1.5.post20221221)\n",
      "Requirement already satisfied: numpy in c:\\users\\lenovo\\miniconda3\\envs\\pt\\lib\\site-packages (from fvcore) (1.25.2)\n",
      "Requirement already satisfied: yacs>=0.1.6 in c:\\users\\lenovo\\miniconda3\\envs\\pt\\lib\\site-packages (from fvcore) (0.1.8)\n",
      "Requirement already satisfied: pyyaml>=5.1 in c:\\users\\lenovo\\miniconda3\\envs\\pt\\lib\\site-packages (from fvcore) (6.0)\n",
      "Requirement already satisfied: tqdm in c:\\users\\lenovo\\miniconda3\\envs\\pt\\lib\\site-packages (from fvcore) (4.66.1)\n",
      "Requirement already satisfied: termcolor>=1.1 in c:\\users\\lenovo\\miniconda3\\envs\\pt\\lib\\site-packages (from fvcore) (2.3.0)\n",
      "Requirement already satisfied: Pillow in c:\\users\\lenovo\\miniconda3\\envs\\pt\\lib\\site-packages (from fvcore) (9.4.0)\n",
      "Requirement already satisfied: tabulate in c:\\users\\lenovo\\miniconda3\\envs\\pt\\lib\\site-packages (from fvcore) (0.9.0)\n",
      "Requirement already satisfied: iopath>=0.1.7 in c:\\users\\lenovo\\miniconda3\\envs\\pt\\lib\\site-packages (from fvcore) (0.1.10)\n",
      "Requirement already satisfied: typing-extensions in c:\\users\\lenovo\\miniconda3\\envs\\pt\\lib\\site-packages (from iopath>=0.1.7->fvcore) (4.7.1)\n",
      "Requirement already satisfied: portalocker in c:\\users\\lenovo\\miniconda3\\envs\\pt\\lib\\site-packages (from iopath>=0.1.7->fvcore) (2.7.0)\n",
      "Requirement already satisfied: colorama in c:\\users\\lenovo\\miniconda3\\envs\\pt\\lib\\site-packages (from tqdm->fvcore) (0.4.6)\n",
      "Requirement already satisfied: pywin32>=226 in c:\\users\\lenovo\\miniconda3\\envs\\pt\\lib\\site-packages (from portalocker->iopath>=0.1.7->fvcore) (305.1)\n"
     ]
    }
   ],
   "source": [
    "!pip install fvcore"
   ]
  },
  {
   "cell_type": "code",
   "execution_count": 25,
   "id": "c7514d28-d7d3-4a0f-993e-3f8f48087cb3",
   "metadata": {
    "ExecuteTime": {
     "end_time": "2023-09-07T09:27:50.322625700Z",
     "start_time": "2023-09-07T09:27:50.275480Z"
    }
   },
   "outputs": [
    {
     "name": "stdout",
     "output_type": "stream",
     "text": [
      "| module           | #parameters or shape   | #flops   |\n",
      "|:-----------------|:-----------------------|:---------|\n",
      "| model            | 53.994K                | 0.556G   |\n",
      "|  conv1           |  0.32K                 |  24.92M  |\n",
      "|   conv1.weight   |   (32, 1, 3, 3)        |          |\n",
      "|   conv1.bias     |   (32,)                |          |\n",
      "|  conv2           |  51.264K               |  0.531G  |\n",
      "|   conv2.weight   |   (64, 32, 5, 5)       |          |\n",
      "|   conv2.bias     |   (64,)                |          |\n",
      "|  linear1         |  2.08K                 |  0.262M  |\n",
      "|   linear1.weight |   (32, 64)             |          |\n",
      "|   linear1.bias   |   (32,)                |          |\n",
      "|  linear2         |  0.33K                 |  40.96K  |\n",
      "|   linear2.weight |   (10, 32)             |          |\n",
      "|   linear2.bias   |   (10,)                |          |\n"
     ]
    }
   ],
   "source": [
    "torchkeras.flop_summary(net,features)"
   ]
  },
  {
   "cell_type": "code",
   "execution_count": 25,
   "id": "606ef225-8127-4063-b284-a7d69bb1c879",
   "metadata": {
    "ExecuteTime": {
     "end_time": "2023-09-07T09:27:50.323632400Z",
     "start_time": "2023-09-07T09:27:50.306886200Z"
    }
   },
   "outputs": [],
   "source": []
  },
  {
   "cell_type": "markdown",
   "id": "e98c79f5",
   "metadata": {},
   "source": [
    "### 3, train the model"
   ]
  },
  {
   "cell_type": "code",
   "execution_count": 26,
   "id": "54bcc553",
   "metadata": {
    "ExecuteTime": {
     "end_time": "2023-09-07T09:29:43.556408100Z",
     "start_time": "2023-09-07T09:27:50.322625700Z"
    }
   },
   "outputs": [
    {
     "name": "stdout",
     "output_type": "stream",
     "text": [
      "\u001B[0;31m<<<<<< ⚡️ cuda is used >>>>>>\u001B[0m\n"
     ]
    },
    {
     "data": {
      "text/plain": "<Figure size 600x400 with 1 Axes>",
      "image/svg+xml": "<?xml version=\"1.0\" encoding=\"utf-8\" standalone=\"no\"?>\n<!DOCTYPE svg PUBLIC \"-//W3C//DTD SVG 1.1//EN\"\n  \"http://www.w3.org/Graphics/SVG/1.1/DTD/svg11.dtd\">\n<svg xmlns:xlink=\"http://www.w3.org/1999/xlink\" width=\"380.054687pt\" height=\"256.637344pt\" viewBox=\"0 0 380.054687 256.637344\" xmlns=\"http://www.w3.org/2000/svg\" version=\"1.1\">\n <metadata>\n  <rdf:RDF xmlns:dc=\"http://purl.org/dc/elements/1.1/\" xmlns:cc=\"http://creativecommons.org/ns#\" xmlns:rdf=\"http://www.w3.org/1999/02/22-rdf-syntax-ns#\">\n   <cc:Work>\n    <dc:type rdf:resource=\"http://purl.org/dc/dcmitype/StillImage\"/>\n    <dc:date>2023-09-07T17:27:50.363639</dc:date>\n    <dc:format>image/svg+xml</dc:format>\n    <dc:creator>\n     <cc:Agent>\n      <dc:title>Matplotlib v3.7.2, https://matplotlib.org/</dc:title>\n     </cc:Agent>\n    </dc:creator>\n   </cc:Work>\n  </rdf:RDF>\n </metadata>\n <defs>\n  <style type=\"text/css\">*{stroke-linejoin: round; stroke-linecap: butt}</style>\n </defs>\n <g id=\"figure_1\">\n  <g id=\"patch_1\">\n   <path d=\"M 0 256.637344 \nL 380.054687 256.637344 \nL 380.054687 0 \nL 0 0 \nz\n\" style=\"fill: #ffffff\"/>\n  </g>\n  <g id=\"axes_1\">\n   <g id=\"patch_2\">\n    <path d=\"M 30.103125 232.759219 \nL 364.903125 232.759219 \nL 364.903125 10.999219 \nL 30.103125 10.999219 \nz\n\" style=\"fill: #ffffff\"/>\n   </g>\n   <g id=\"matplotlib.axis_1\">\n    <g id=\"xtick_1\">\n     <g id=\"line2d_1\">\n      <defs>\n       <path id=\"m48c39c81b3\" d=\"M 0 0 \nL 0 3.5 \n\" style=\"stroke: #000000; stroke-width: 0.8\"/>\n      </defs>\n      <g>\n       <use xlink:href=\"#m48c39c81b3\" x=\"30.103125\" y=\"232.759219\" style=\"stroke: #000000; stroke-width: 0.8\"/>\n      </g>\n     </g>\n     <g id=\"text_1\">\n      <!-- 0.0 -->\n      <g transform=\"translate(22.151563 247.357656) scale(0.1 -0.1)\">\n       <defs>\n        <path id=\"DejaVuSans-30\" d=\"M 2034 4250 \nQ 1547 4250 1301 3770 \nQ 1056 3291 1056 2328 \nQ 1056 1369 1301 889 \nQ 1547 409 2034 409 \nQ 2525 409 2770 889 \nQ 3016 1369 3016 2328 \nQ 3016 3291 2770 3770 \nQ 2525 4250 2034 4250 \nz\nM 2034 4750 \nQ 2819 4750 3233 4129 \nQ 3647 3509 3647 2328 \nQ 3647 1150 3233 529 \nQ 2819 -91 2034 -91 \nQ 1250 -91 836 529 \nQ 422 1150 422 2328 \nQ 422 3509 836 4129 \nQ 1250 4750 2034 4750 \nz\n\" transform=\"scale(0.015625)\"/>\n        <path id=\"DejaVuSans-2e\" d=\"M 684 794 \nL 1344 794 \nL 1344 0 \nL 684 0 \nL 684 794 \nz\n\" transform=\"scale(0.015625)\"/>\n       </defs>\n       <use xlink:href=\"#DejaVuSans-30\"/>\n       <use xlink:href=\"#DejaVuSans-2e\" x=\"63.623047\"/>\n       <use xlink:href=\"#DejaVuSans-30\" x=\"95.410156\"/>\n      </g>\n     </g>\n    </g>\n    <g id=\"xtick_2\">\n     <g id=\"line2d_2\">\n      <g>\n       <use xlink:href=\"#m48c39c81b3\" x=\"97.063125\" y=\"232.759219\" style=\"stroke: #000000; stroke-width: 0.8\"/>\n      </g>\n     </g>\n     <g id=\"text_2\">\n      <!-- 0.2 -->\n      <g transform=\"translate(89.111563 247.357656) scale(0.1 -0.1)\">\n       <defs>\n        <path id=\"DejaVuSans-32\" d=\"M 1228 531 \nL 3431 531 \nL 3431 0 \nL 469 0 \nL 469 531 \nQ 828 903 1448 1529 \nQ 2069 2156 2228 2338 \nQ 2531 2678 2651 2914 \nQ 2772 3150 2772 3378 \nQ 2772 3750 2511 3984 \nQ 2250 4219 1831 4219 \nQ 1534 4219 1204 4116 \nQ 875 4013 500 3803 \nL 500 4441 \nQ 881 4594 1212 4672 \nQ 1544 4750 1819 4750 \nQ 2544 4750 2975 4387 \nQ 3406 4025 3406 3419 \nQ 3406 3131 3298 2873 \nQ 3191 2616 2906 2266 \nQ 2828 2175 2409 1742 \nQ 1991 1309 1228 531 \nz\n\" transform=\"scale(0.015625)\"/>\n       </defs>\n       <use xlink:href=\"#DejaVuSans-30\"/>\n       <use xlink:href=\"#DejaVuSans-2e\" x=\"63.623047\"/>\n       <use xlink:href=\"#DejaVuSans-32\" x=\"95.410156\"/>\n      </g>\n     </g>\n    </g>\n    <g id=\"xtick_3\">\n     <g id=\"line2d_3\">\n      <g>\n       <use xlink:href=\"#m48c39c81b3\" x=\"164.023125\" y=\"232.759219\" style=\"stroke: #000000; stroke-width: 0.8\"/>\n      </g>\n     </g>\n     <g id=\"text_3\">\n      <!-- 0.4 -->\n      <g transform=\"translate(156.071563 247.357656) scale(0.1 -0.1)\">\n       <defs>\n        <path id=\"DejaVuSans-34\" d=\"M 2419 4116 \nL 825 1625 \nL 2419 1625 \nL 2419 4116 \nz\nM 2253 4666 \nL 3047 4666 \nL 3047 1625 \nL 3713 1625 \nL 3713 1100 \nL 3047 1100 \nL 3047 0 \nL 2419 0 \nL 2419 1100 \nL 313 1100 \nL 313 1709 \nL 2253 4666 \nz\n\" transform=\"scale(0.015625)\"/>\n       </defs>\n       <use xlink:href=\"#DejaVuSans-30\"/>\n       <use xlink:href=\"#DejaVuSans-2e\" x=\"63.623047\"/>\n       <use xlink:href=\"#DejaVuSans-34\" x=\"95.410156\"/>\n      </g>\n     </g>\n    </g>\n    <g id=\"xtick_4\">\n     <g id=\"line2d_4\">\n      <g>\n       <use xlink:href=\"#m48c39c81b3\" x=\"230.983125\" y=\"232.759219\" style=\"stroke: #000000; stroke-width: 0.8\"/>\n      </g>\n     </g>\n     <g id=\"text_4\">\n      <!-- 0.6 -->\n      <g transform=\"translate(223.031563 247.357656) scale(0.1 -0.1)\">\n       <defs>\n        <path id=\"DejaVuSans-36\" d=\"M 2113 2584 \nQ 1688 2584 1439 2293 \nQ 1191 2003 1191 1497 \nQ 1191 994 1439 701 \nQ 1688 409 2113 409 \nQ 2538 409 2786 701 \nQ 3034 994 3034 1497 \nQ 3034 2003 2786 2293 \nQ 2538 2584 2113 2584 \nz\nM 3366 4563 \nL 3366 3988 \nQ 3128 4100 2886 4159 \nQ 2644 4219 2406 4219 \nQ 1781 4219 1451 3797 \nQ 1122 3375 1075 2522 \nQ 1259 2794 1537 2939 \nQ 1816 3084 2150 3084 \nQ 2853 3084 3261 2657 \nQ 3669 2231 3669 1497 \nQ 3669 778 3244 343 \nQ 2819 -91 2113 -91 \nQ 1303 -91 875 529 \nQ 447 1150 447 2328 \nQ 447 3434 972 4092 \nQ 1497 4750 2381 4750 \nQ 2619 4750 2861 4703 \nQ 3103 4656 3366 4563 \nz\n\" transform=\"scale(0.015625)\"/>\n       </defs>\n       <use xlink:href=\"#DejaVuSans-30\"/>\n       <use xlink:href=\"#DejaVuSans-2e\" x=\"63.623047\"/>\n       <use xlink:href=\"#DejaVuSans-36\" x=\"95.410156\"/>\n      </g>\n     </g>\n    </g>\n    <g id=\"xtick_5\">\n     <g id=\"line2d_5\">\n      <g>\n       <use xlink:href=\"#m48c39c81b3\" x=\"297.943125\" y=\"232.759219\" style=\"stroke: #000000; stroke-width: 0.8\"/>\n      </g>\n     </g>\n     <g id=\"text_5\">\n      <!-- 0.8 -->\n      <g transform=\"translate(289.991563 247.357656) scale(0.1 -0.1)\">\n       <defs>\n        <path id=\"DejaVuSans-38\" d=\"M 2034 2216 \nQ 1584 2216 1326 1975 \nQ 1069 1734 1069 1313 \nQ 1069 891 1326 650 \nQ 1584 409 2034 409 \nQ 2484 409 2743 651 \nQ 3003 894 3003 1313 \nQ 3003 1734 2745 1975 \nQ 2488 2216 2034 2216 \nz\nM 1403 2484 \nQ 997 2584 770 2862 \nQ 544 3141 544 3541 \nQ 544 4100 942 4425 \nQ 1341 4750 2034 4750 \nQ 2731 4750 3128 4425 \nQ 3525 4100 3525 3541 \nQ 3525 3141 3298 2862 \nQ 3072 2584 2669 2484 \nQ 3125 2378 3379 2068 \nQ 3634 1759 3634 1313 \nQ 3634 634 3220 271 \nQ 2806 -91 2034 -91 \nQ 1263 -91 848 271 \nQ 434 634 434 1313 \nQ 434 1759 690 2068 \nQ 947 2378 1403 2484 \nz\nM 1172 3481 \nQ 1172 3119 1398 2916 \nQ 1625 2713 2034 2713 \nQ 2441 2713 2670 2916 \nQ 2900 3119 2900 3481 \nQ 2900 3844 2670 4047 \nQ 2441 4250 2034 4250 \nQ 1625 4250 1398 4047 \nQ 1172 3844 1172 3481 \nz\n\" transform=\"scale(0.015625)\"/>\n       </defs>\n       <use xlink:href=\"#DejaVuSans-30\"/>\n       <use xlink:href=\"#DejaVuSans-2e\" x=\"63.623047\"/>\n       <use xlink:href=\"#DejaVuSans-38\" x=\"95.410156\"/>\n      </g>\n     </g>\n    </g>\n    <g id=\"xtick_6\">\n     <g id=\"line2d_6\">\n      <g>\n       <use xlink:href=\"#m48c39c81b3\" x=\"364.903125\" y=\"232.759219\" style=\"stroke: #000000; stroke-width: 0.8\"/>\n      </g>\n     </g>\n     <g id=\"text_6\">\n      <!-- 1.0 -->\n      <g transform=\"translate(356.951563 247.357656) scale(0.1 -0.1)\">\n       <defs>\n        <path id=\"DejaVuSans-31\" d=\"M 794 531 \nL 1825 531 \nL 1825 4091 \nL 703 3866 \nL 703 4441 \nL 1819 4666 \nL 2450 4666 \nL 2450 531 \nL 3481 531 \nL 3481 0 \nL 794 0 \nL 794 531 \nz\n\" transform=\"scale(0.015625)\"/>\n       </defs>\n       <use xlink:href=\"#DejaVuSans-31\"/>\n       <use xlink:href=\"#DejaVuSans-2e\" x=\"63.623047\"/>\n       <use xlink:href=\"#DejaVuSans-30\" x=\"95.410156\"/>\n      </g>\n     </g>\n    </g>\n   </g>\n   <g id=\"matplotlib.axis_2\">\n    <g id=\"ytick_1\">\n     <g id=\"line2d_7\">\n      <defs>\n       <path id=\"m457629fc98\" d=\"M 0 0 \nL -3.5 0 \n\" style=\"stroke: #000000; stroke-width: 0.8\"/>\n      </defs>\n      <g>\n       <use xlink:href=\"#m457629fc98\" x=\"30.103125\" y=\"232.759219\" style=\"stroke: #000000; stroke-width: 0.8\"/>\n      </g>\n     </g>\n     <g id=\"text_7\">\n      <!-- 0.0 -->\n      <g transform=\"translate(7.2 236.558438) scale(0.1 -0.1)\">\n       <use xlink:href=\"#DejaVuSans-30\"/>\n       <use xlink:href=\"#DejaVuSans-2e\" x=\"63.623047\"/>\n       <use xlink:href=\"#DejaVuSans-30\" x=\"95.410156\"/>\n      </g>\n     </g>\n    </g>\n    <g id=\"ytick_2\">\n     <g id=\"line2d_8\">\n      <g>\n       <use xlink:href=\"#m457629fc98\" x=\"30.103125\" y=\"188.407219\" style=\"stroke: #000000; stroke-width: 0.8\"/>\n      </g>\n     </g>\n     <g id=\"text_8\">\n      <!-- 0.2 -->\n      <g transform=\"translate(7.2 192.206437) scale(0.1 -0.1)\">\n       <use xlink:href=\"#DejaVuSans-30\"/>\n       <use xlink:href=\"#DejaVuSans-2e\" x=\"63.623047\"/>\n       <use xlink:href=\"#DejaVuSans-32\" x=\"95.410156\"/>\n      </g>\n     </g>\n    </g>\n    <g id=\"ytick_3\">\n     <g id=\"line2d_9\">\n      <g>\n       <use xlink:href=\"#m457629fc98\" x=\"30.103125\" y=\"144.055219\" style=\"stroke: #000000; stroke-width: 0.8\"/>\n      </g>\n     </g>\n     <g id=\"text_9\">\n      <!-- 0.4 -->\n      <g transform=\"translate(7.2 147.854437) scale(0.1 -0.1)\">\n       <use xlink:href=\"#DejaVuSans-30\"/>\n       <use xlink:href=\"#DejaVuSans-2e\" x=\"63.623047\"/>\n       <use xlink:href=\"#DejaVuSans-34\" x=\"95.410156\"/>\n      </g>\n     </g>\n    </g>\n    <g id=\"ytick_4\">\n     <g id=\"line2d_10\">\n      <g>\n       <use xlink:href=\"#m457629fc98\" x=\"30.103125\" y=\"99.703219\" style=\"stroke: #000000; stroke-width: 0.8\"/>\n      </g>\n     </g>\n     <g id=\"text_10\">\n      <!-- 0.6 -->\n      <g transform=\"translate(7.2 103.502437) scale(0.1 -0.1)\">\n       <use xlink:href=\"#DejaVuSans-30\"/>\n       <use xlink:href=\"#DejaVuSans-2e\" x=\"63.623047\"/>\n       <use xlink:href=\"#DejaVuSans-36\" x=\"95.410156\"/>\n      </g>\n     </g>\n    </g>\n    <g id=\"ytick_5\">\n     <g id=\"line2d_11\">\n      <g>\n       <use xlink:href=\"#m457629fc98\" x=\"30.103125\" y=\"55.351219\" style=\"stroke: #000000; stroke-width: 0.8\"/>\n      </g>\n     </g>\n     <g id=\"text_11\">\n      <!-- 0.8 -->\n      <g transform=\"translate(7.2 59.150437) scale(0.1 -0.1)\">\n       <use xlink:href=\"#DejaVuSans-30\"/>\n       <use xlink:href=\"#DejaVuSans-2e\" x=\"63.623047\"/>\n       <use xlink:href=\"#DejaVuSans-38\" x=\"95.410156\"/>\n      </g>\n     </g>\n    </g>\n    <g id=\"ytick_6\">\n     <g id=\"line2d_12\">\n      <g>\n       <use xlink:href=\"#m457629fc98\" x=\"30.103125\" y=\"10.999219\" style=\"stroke: #000000; stroke-width: 0.8\"/>\n      </g>\n     </g>\n     <g id=\"text_12\">\n      <!-- 1.0 -->\n      <g transform=\"translate(7.2 14.798438) scale(0.1 -0.1)\">\n       <use xlink:href=\"#DejaVuSans-31\"/>\n       <use xlink:href=\"#DejaVuSans-2e\" x=\"63.623047\"/>\n       <use xlink:href=\"#DejaVuSans-30\" x=\"95.410156\"/>\n      </g>\n     </g>\n    </g>\n   </g>\n   <g id=\"patch_3\">\n    <path d=\"M 30.103125 232.759219 \nL 30.103125 10.999219 \n\" style=\"fill: none; stroke: #000000; stroke-width: 0.8; stroke-linejoin: miter; stroke-linecap: square\"/>\n   </g>\n   <g id=\"patch_4\">\n    <path d=\"M 364.903125 232.759219 \nL 364.903125 10.999219 \n\" style=\"fill: none; stroke: #000000; stroke-width: 0.8; stroke-linejoin: miter; stroke-linecap: square\"/>\n   </g>\n   <g id=\"patch_5\">\n    <path d=\"M 30.103125 232.759219 \nL 364.903125 232.759219 \n\" style=\"fill: none; stroke: #000000; stroke-width: 0.8; stroke-linejoin: miter; stroke-linecap: square\"/>\n   </g>\n   <g id=\"patch_6\">\n    <path d=\"M 30.103125 10.999219 \nL 364.903125 10.999219 \n\" style=\"fill: none; stroke: #000000; stroke-width: 0.8; stroke-linejoin: miter; stroke-linecap: square\"/>\n   </g>\n  </g>\n </g>\n</svg>\n"
     },
     "metadata": {},
     "output_type": "display_data"
    },
    {
     "data": {
      "text/plain": "<IPython.core.display.HTML object>",
      "text/html": "\n<style>\n    /* background: */\n    progress::-webkit-progress-bar {background-color: #CDCDCD; width: 100%;}\n    progress {background-color: #CDCDCD;}\n\n    /* value: */\n    progress::-webkit-progress-value {background-color: #00BFFF  !important;}\n    progress::-moz-progress-bar {background-color: #00BFFF  !important;}\n    progress {color: #00BFFF ;}\n\n    /* optional */\n    .progress-bar-interrupted, .progress-bar-interrupted::-webkit-progress-bar {\n        background: #000000;\n    }\n</style>\n"
     },
     "metadata": {},
     "output_type": "display_data"
    },
    {
     "data": {
      "text/plain": "<IPython.core.display.HTML object>",
      "text/html": "\n    <div>\n      <progress value='0' class='' max='100' style='width:300px; height:20px; vertical-align: middle;'></progress>\n      \n      <br>\n      \n    </div>\n    \n"
     },
     "metadata": {},
     "output_type": "display_data"
    },
    {
     "name": "stdout",
     "output_type": "stream",
     "text": [
      "\u001B[0;31m<<<<<< val_acc without improvement in 5 epoch,early stopping >>>>>> \n",
      "\u001B[0m\n"
     ]
    }
   ],
   "source": [
    "# if gpu/mps is available, will auto use it, otherwise cpu will be used.\n",
    "ckpt_path='checkpoint'\n",
    "#model.load_ckpt(ckpt_path) #load trained ckpt and continue training\n",
    "dfhistory=model.fit(train_data=dl_train, \n",
    "                    val_data=dl_val, \n",
    "                    epochs=100, \n",
    "                    patience=5, \n",
    "                    monitor=\"val_acc\",\n",
    "                    mode=\"max\",\n",
    "                    ckpt_path=ckpt_path,\n",
    "                    plot=True,\n",
    "                    wandb=False\n",
    "                   )\n"
   ]
  },
  {
   "cell_type": "code",
   "execution_count": 27,
   "id": "ca85e09c-23d6-4bb7-bfe7-e2f44916f425",
   "metadata": {
    "ExecuteTime": {
     "end_time": "2023-09-07T09:29:44.973704800Z",
     "start_time": "2023-09-07T09:29:43.556408100Z"
    }
   },
   "outputs": [
    {
     "name": "stdout",
     "output_type": "stream",
     "text": [
      "100%|██████████████████████████████████| 4/4 [00:01<00:00,  2.84it/s, val_acc=0.936, val_loss=0.226]\n"
     ]
    },
    {
     "data": {
      "text/plain": "{'val_loss': 0.22628381103277206, 'val_acc': 0.9359999895095825}"
     },
     "execution_count": 27,
     "metadata": {},
     "output_type": "execute_result"
    }
   ],
   "source": [
    "model.evaluate(dl_val,quiet=False)"
   ]
  },
  {
   "cell_type": "markdown",
   "id": "36bcdad3",
   "metadata": {},
   "source": [
    "### 4, evaluate the model"
   ]
  },
  {
   "cell_type": "code",
   "execution_count": 28,
   "id": "b27998a4-393d-44e7-81e0-eed3f49c4707",
   "metadata": {
    "ExecuteTime": {
     "end_time": "2023-09-07T09:29:44.988816800Z",
     "start_time": "2023-09-07T09:29:44.971704500Z"
    }
   },
   "outputs": [],
   "source": [
    "import matplotlib.pyplot as plt\n",
    "\n",
    "def plot_metric(dfhistory, metric):\n",
    "    train_metrics = dfhistory[\"train_\"+metric]\n",
    "    val_metrics = dfhistory['val_'+metric]\n",
    "    epochs = range(1, len(train_metrics) + 1)\n",
    "    plt.plot(epochs, train_metrics, 'bo--')\n",
    "    plt.plot(epochs, val_metrics, 'ro-')\n",
    "    plt.title('Training and validation '+ metric)\n",
    "    plt.xlabel(\"Epochs\")\n",
    "    plt.ylabel(metric)\n",
    "    plt.legend([\"train_\"+metric, 'val_'+metric])\n",
    "    plt.show()\n",
    "    "
   ]
  },
  {
   "cell_type": "code",
   "execution_count": 29,
   "id": "a179179f-65ff-434e-b317-17ca56355e7e",
   "metadata": {
    "ExecuteTime": {
     "end_time": "2023-09-07T09:29:45.081539100Z",
     "start_time": "2023-09-07T09:29:44.989811300Z"
    }
   },
   "outputs": [
    {
     "data": {
      "text/plain": "<Figure size 640x480 with 1 Axes>",
      "image/svg+xml": "<?xml version=\"1.0\" encoding=\"utf-8\" standalone=\"no\"?>\n<!DOCTYPE svg PUBLIC \"-//W3C//DTD SVG 1.1//EN\"\n  \"http://www.w3.org/Graphics/SVG/1.1/DTD/svg11.dtd\">\n<svg xmlns:xlink=\"http://www.w3.org/1999/xlink\" width=\"408.10125pt\" height=\"325.986375pt\" viewBox=\"0 0 408.10125 325.986375\" xmlns=\"http://www.w3.org/2000/svg\" version=\"1.1\">\n <metadata>\n  <rdf:RDF xmlns:dc=\"http://purl.org/dc/elements/1.1/\" xmlns:cc=\"http://creativecommons.org/ns#\" xmlns:rdf=\"http://www.w3.org/1999/02/22-rdf-syntax-ns#\">\n   <cc:Work>\n    <dc:type rdf:resource=\"http://purl.org/dc/dcmitype/StillImage\"/>\n    <dc:date>2023-09-07T17:29:45.044136</dc:date>\n    <dc:format>image/svg+xml</dc:format>\n    <dc:creator>\n     <cc:Agent>\n      <dc:title>Matplotlib v3.7.2, https://matplotlib.org/</dc:title>\n     </cc:Agent>\n    </dc:creator>\n   </cc:Work>\n  </rdf:RDF>\n </metadata>\n <defs>\n  <style type=\"text/css\">*{stroke-linejoin: round; stroke-linecap: butt}</style>\n </defs>\n <g id=\"figure_1\">\n  <g id=\"patch_1\">\n   <path d=\"M 0 325.986375 \nL 408.10125 325.986375 \nL 408.10125 0 \nL 0 0 \nz\n\" style=\"fill: #ffffff\"/>\n  </g>\n  <g id=\"axes_1\">\n   <g id=\"patch_2\">\n    <path d=\"M 43.78125 288.430125 \nL 400.90125 288.430125 \nL 400.90125 22.318125 \nL 43.78125 22.318125 \nz\n\" style=\"fill: #ffffff\"/>\n   </g>\n   <g id=\"matplotlib.axis_1\">\n    <g id=\"xtick_1\">\n     <g id=\"line2d_1\">\n      <defs>\n       <path id=\"m43986a4788\" d=\"M 0 0 \nL 0 3.5 \n\" style=\"stroke: #000000; stroke-width: 0.8\"/>\n      </defs>\n      <g>\n       <use xlink:href=\"#m43986a4788\" x=\"50.175961\" y=\"288.430125\" style=\"stroke: #000000; stroke-width: 0.8\"/>\n      </g>\n     </g>\n     <g id=\"text_1\">\n      <!-- 0 -->\n      <g transform=\"translate(46.994711 303.028562) scale(0.1 -0.1)\">\n       <defs>\n        <path id=\"DejaVuSans-30\" d=\"M 2034 4250 \nQ 1547 4250 1301 3770 \nQ 1056 3291 1056 2328 \nQ 1056 1369 1301 889 \nQ 1547 409 2034 409 \nQ 2525 409 2770 889 \nQ 3016 1369 3016 2328 \nQ 3016 3291 2770 3770 \nQ 2525 4250 2034 4250 \nz\nM 2034 4750 \nQ 2819 4750 3233 4129 \nQ 3647 3509 3647 2328 \nQ 3647 1150 3233 529 \nQ 2819 -91 2034 -91 \nQ 1250 -91 836 529 \nQ 422 1150 422 2328 \nQ 422 3509 836 4129 \nQ 1250 4750 2034 4750 \nz\n\" transform=\"scale(0.015625)\"/>\n       </defs>\n       <use xlink:href=\"#DejaVuSans-30\"/>\n      </g>\n     </g>\n    </g>\n    <g id=\"xtick_2\">\n     <g id=\"line2d_2\">\n      <g>\n       <use xlink:href=\"#m43986a4788\" x=\"99.366043\" y=\"288.430125\" style=\"stroke: #000000; stroke-width: 0.8\"/>\n      </g>\n     </g>\n     <g id=\"text_2\">\n      <!-- 5 -->\n      <g transform=\"translate(96.184793 303.028562) scale(0.1 -0.1)\">\n       <defs>\n        <path id=\"DejaVuSans-35\" d=\"M 691 4666 \nL 3169 4666 \nL 3169 4134 \nL 1269 4134 \nL 1269 2991 \nQ 1406 3038 1543 3061 \nQ 1681 3084 1819 3084 \nQ 2600 3084 3056 2656 \nQ 3513 2228 3513 1497 \nQ 3513 744 3044 326 \nQ 2575 -91 1722 -91 \nQ 1428 -91 1123 -41 \nQ 819 9 494 109 \nL 494 744 \nQ 775 591 1075 516 \nQ 1375 441 1709 441 \nQ 2250 441 2565 725 \nQ 2881 1009 2881 1497 \nQ 2881 1984 2565 2268 \nQ 2250 2553 1709 2553 \nQ 1456 2553 1204 2497 \nQ 953 2441 691 2322 \nL 691 4666 \nz\n\" transform=\"scale(0.015625)\"/>\n       </defs>\n       <use xlink:href=\"#DejaVuSans-35\"/>\n      </g>\n     </g>\n    </g>\n    <g id=\"xtick_3\">\n     <g id=\"line2d_3\">\n      <g>\n       <use xlink:href=\"#m43986a4788\" x=\"148.556126\" y=\"288.430125\" style=\"stroke: #000000; stroke-width: 0.8\"/>\n      </g>\n     </g>\n     <g id=\"text_3\">\n      <!-- 10 -->\n      <g transform=\"translate(142.193626 303.028562) scale(0.1 -0.1)\">\n       <defs>\n        <path id=\"DejaVuSans-31\" d=\"M 794 531 \nL 1825 531 \nL 1825 4091 \nL 703 3866 \nL 703 4441 \nL 1819 4666 \nL 2450 4666 \nL 2450 531 \nL 3481 531 \nL 3481 0 \nL 794 0 \nL 794 531 \nz\n\" transform=\"scale(0.015625)\"/>\n       </defs>\n       <use xlink:href=\"#DejaVuSans-31\"/>\n       <use xlink:href=\"#DejaVuSans-30\" x=\"63.623047\"/>\n      </g>\n     </g>\n    </g>\n    <g id=\"xtick_4\">\n     <g id=\"line2d_4\">\n      <g>\n       <use xlink:href=\"#m43986a4788\" x=\"197.746209\" y=\"288.430125\" style=\"stroke: #000000; stroke-width: 0.8\"/>\n      </g>\n     </g>\n     <g id=\"text_4\">\n      <!-- 15 -->\n      <g transform=\"translate(191.383709 303.028562) scale(0.1 -0.1)\">\n       <use xlink:href=\"#DejaVuSans-31\"/>\n       <use xlink:href=\"#DejaVuSans-35\" x=\"63.623047\"/>\n      </g>\n     </g>\n    </g>\n    <g id=\"xtick_5\">\n     <g id=\"line2d_5\">\n      <g>\n       <use xlink:href=\"#m43986a4788\" x=\"246.936291\" y=\"288.430125\" style=\"stroke: #000000; stroke-width: 0.8\"/>\n      </g>\n     </g>\n     <g id=\"text_5\">\n      <!-- 20 -->\n      <g transform=\"translate(240.573791 303.028562) scale(0.1 -0.1)\">\n       <defs>\n        <path id=\"DejaVuSans-32\" d=\"M 1228 531 \nL 3431 531 \nL 3431 0 \nL 469 0 \nL 469 531 \nQ 828 903 1448 1529 \nQ 2069 2156 2228 2338 \nQ 2531 2678 2651 2914 \nQ 2772 3150 2772 3378 \nQ 2772 3750 2511 3984 \nQ 2250 4219 1831 4219 \nQ 1534 4219 1204 4116 \nQ 875 4013 500 3803 \nL 500 4441 \nQ 881 4594 1212 4672 \nQ 1544 4750 1819 4750 \nQ 2544 4750 2975 4387 \nQ 3406 4025 3406 3419 \nQ 3406 3131 3298 2873 \nQ 3191 2616 2906 2266 \nQ 2828 2175 2409 1742 \nQ 1991 1309 1228 531 \nz\n\" transform=\"scale(0.015625)\"/>\n       </defs>\n       <use xlink:href=\"#DejaVuSans-32\"/>\n       <use xlink:href=\"#DejaVuSans-30\" x=\"63.623047\"/>\n      </g>\n     </g>\n    </g>\n    <g id=\"xtick_6\">\n     <g id=\"line2d_6\">\n      <g>\n       <use xlink:href=\"#m43986a4788\" x=\"296.126374\" y=\"288.430125\" style=\"stroke: #000000; stroke-width: 0.8\"/>\n      </g>\n     </g>\n     <g id=\"text_6\">\n      <!-- 25 -->\n      <g transform=\"translate(289.763874 303.028562) scale(0.1 -0.1)\">\n       <use xlink:href=\"#DejaVuSans-32\"/>\n       <use xlink:href=\"#DejaVuSans-35\" x=\"63.623047\"/>\n      </g>\n     </g>\n    </g>\n    <g id=\"xtick_7\">\n     <g id=\"line2d_7\">\n      <g>\n       <use xlink:href=\"#m43986a4788\" x=\"345.316457\" y=\"288.430125\" style=\"stroke: #000000; stroke-width: 0.8\"/>\n      </g>\n     </g>\n     <g id=\"text_7\">\n      <!-- 30 -->\n      <g transform=\"translate(338.953957 303.028562) scale(0.1 -0.1)\">\n       <defs>\n        <path id=\"DejaVuSans-33\" d=\"M 2597 2516 \nQ 3050 2419 3304 2112 \nQ 3559 1806 3559 1356 \nQ 3559 666 3084 287 \nQ 2609 -91 1734 -91 \nQ 1441 -91 1130 -33 \nQ 819 25 488 141 \nL 488 750 \nQ 750 597 1062 519 \nQ 1375 441 1716 441 \nQ 2309 441 2620 675 \nQ 2931 909 2931 1356 \nQ 2931 1769 2642 2001 \nQ 2353 2234 1838 2234 \nL 1294 2234 \nL 1294 2753 \nL 1863 2753 \nQ 2328 2753 2575 2939 \nQ 2822 3125 2822 3475 \nQ 2822 3834 2567 4026 \nQ 2313 4219 1838 4219 \nQ 1578 4219 1281 4162 \nQ 984 4106 628 3988 \nL 628 4550 \nQ 988 4650 1302 4700 \nQ 1616 4750 1894 4750 \nQ 2613 4750 3031 4423 \nQ 3450 4097 3450 3541 \nQ 3450 3153 3228 2886 \nQ 3006 2619 2597 2516 \nz\n\" transform=\"scale(0.015625)\"/>\n       </defs>\n       <use xlink:href=\"#DejaVuSans-33\"/>\n       <use xlink:href=\"#DejaVuSans-30\" x=\"63.623047\"/>\n      </g>\n     </g>\n    </g>\n    <g id=\"xtick_8\">\n     <g id=\"line2d_8\">\n      <g>\n       <use xlink:href=\"#m43986a4788\" x=\"394.506539\" y=\"288.430125\" style=\"stroke: #000000; stroke-width: 0.8\"/>\n      </g>\n     </g>\n     <g id=\"text_8\">\n      <!-- 35 -->\n      <g transform=\"translate(388.144039 303.028562) scale(0.1 -0.1)\">\n       <use xlink:href=\"#DejaVuSans-33\"/>\n       <use xlink:href=\"#DejaVuSans-35\" x=\"63.623047\"/>\n      </g>\n     </g>\n    </g>\n    <g id=\"text_9\">\n     <!-- Epochs -->\n     <g transform=\"translate(204.425625 316.706687) scale(0.1 -0.1)\">\n      <defs>\n       <path id=\"DejaVuSans-45\" d=\"M 628 4666 \nL 3578 4666 \nL 3578 4134 \nL 1259 4134 \nL 1259 2753 \nL 3481 2753 \nL 3481 2222 \nL 1259 2222 \nL 1259 531 \nL 3634 531 \nL 3634 0 \nL 628 0 \nL 628 4666 \nz\n\" transform=\"scale(0.015625)\"/>\n       <path id=\"DejaVuSans-70\" d=\"M 1159 525 \nL 1159 -1331 \nL 581 -1331 \nL 581 3500 \nL 1159 3500 \nL 1159 2969 \nQ 1341 3281 1617 3432 \nQ 1894 3584 2278 3584 \nQ 2916 3584 3314 3078 \nQ 3713 2572 3713 1747 \nQ 3713 922 3314 415 \nQ 2916 -91 2278 -91 \nQ 1894 -91 1617 61 \nQ 1341 213 1159 525 \nz\nM 3116 1747 \nQ 3116 2381 2855 2742 \nQ 2594 3103 2138 3103 \nQ 1681 3103 1420 2742 \nQ 1159 2381 1159 1747 \nQ 1159 1113 1420 752 \nQ 1681 391 2138 391 \nQ 2594 391 2855 752 \nQ 3116 1113 3116 1747 \nz\n\" transform=\"scale(0.015625)\"/>\n       <path id=\"DejaVuSans-6f\" d=\"M 1959 3097 \nQ 1497 3097 1228 2736 \nQ 959 2375 959 1747 \nQ 959 1119 1226 758 \nQ 1494 397 1959 397 \nQ 2419 397 2687 759 \nQ 2956 1122 2956 1747 \nQ 2956 2369 2687 2733 \nQ 2419 3097 1959 3097 \nz\nM 1959 3584 \nQ 2709 3584 3137 3096 \nQ 3566 2609 3566 1747 \nQ 3566 888 3137 398 \nQ 2709 -91 1959 -91 \nQ 1206 -91 779 398 \nQ 353 888 353 1747 \nQ 353 2609 779 3096 \nQ 1206 3584 1959 3584 \nz\n\" transform=\"scale(0.015625)\"/>\n       <path id=\"DejaVuSans-63\" d=\"M 3122 3366 \nL 3122 2828 \nQ 2878 2963 2633 3030 \nQ 2388 3097 2138 3097 \nQ 1578 3097 1268 2742 \nQ 959 2388 959 1747 \nQ 959 1106 1268 751 \nQ 1578 397 2138 397 \nQ 2388 397 2633 464 \nQ 2878 531 3122 666 \nL 3122 134 \nQ 2881 22 2623 -34 \nQ 2366 -91 2075 -91 \nQ 1284 -91 818 406 \nQ 353 903 353 1747 \nQ 353 2603 823 3093 \nQ 1294 3584 2113 3584 \nQ 2378 3584 2631 3529 \nQ 2884 3475 3122 3366 \nz\n\" transform=\"scale(0.015625)\"/>\n       <path id=\"DejaVuSans-68\" d=\"M 3513 2113 \nL 3513 0 \nL 2938 0 \nL 2938 2094 \nQ 2938 2591 2744 2837 \nQ 2550 3084 2163 3084 \nQ 1697 3084 1428 2787 \nQ 1159 2491 1159 1978 \nL 1159 0 \nL 581 0 \nL 581 4863 \nL 1159 4863 \nL 1159 2956 \nQ 1366 3272 1645 3428 \nQ 1925 3584 2291 3584 \nQ 2894 3584 3203 3211 \nQ 3513 2838 3513 2113 \nz\n\" transform=\"scale(0.015625)\"/>\n       <path id=\"DejaVuSans-73\" d=\"M 2834 3397 \nL 2834 2853 \nQ 2591 2978 2328 3040 \nQ 2066 3103 1784 3103 \nQ 1356 3103 1142 2972 \nQ 928 2841 928 2578 \nQ 928 2378 1081 2264 \nQ 1234 2150 1697 2047 \nL 1894 2003 \nQ 2506 1872 2764 1633 \nQ 3022 1394 3022 966 \nQ 3022 478 2636 193 \nQ 2250 -91 1575 -91 \nQ 1294 -91 989 -36 \nQ 684 19 347 128 \nL 347 722 \nQ 666 556 975 473 \nQ 1284 391 1588 391 \nQ 1994 391 2212 530 \nQ 2431 669 2431 922 \nQ 2431 1156 2273 1281 \nQ 2116 1406 1581 1522 \nL 1381 1569 \nQ 847 1681 609 1914 \nQ 372 2147 372 2553 \nQ 372 3047 722 3315 \nQ 1072 3584 1716 3584 \nQ 2034 3584 2315 3537 \nQ 2597 3491 2834 3397 \nz\n\" transform=\"scale(0.015625)\"/>\n      </defs>\n      <use xlink:href=\"#DejaVuSans-45\"/>\n      <use xlink:href=\"#DejaVuSans-70\" x=\"63.183594\"/>\n      <use xlink:href=\"#DejaVuSans-6f\" x=\"126.660156\"/>\n      <use xlink:href=\"#DejaVuSans-63\" x=\"187.841797\"/>\n      <use xlink:href=\"#DejaVuSans-68\" x=\"242.822266\"/>\n      <use xlink:href=\"#DejaVuSans-73\" x=\"306.201172\"/>\n     </g>\n    </g>\n   </g>\n   <g id=\"matplotlib.axis_2\">\n    <g id=\"ytick_1\">\n     <g id=\"line2d_9\">\n      <defs>\n       <path id=\"m8a97f9ea4a\" d=\"M 0 0 \nL -3.5 0 \n\" style=\"stroke: #000000; stroke-width: 0.8\"/>\n      </defs>\n      <g>\n       <use xlink:href=\"#m8a97f9ea4a\" x=\"43.78125\" y=\"236.753416\" style=\"stroke: #000000; stroke-width: 0.8\"/>\n      </g>\n     </g>\n     <g id=\"text_10\">\n      <!-- 0.5 -->\n      <g transform=\"translate(20.878125 240.552635) scale(0.1 -0.1)\">\n       <defs>\n        <path id=\"DejaVuSans-2e\" d=\"M 684 794 \nL 1344 794 \nL 1344 0 \nL 684 0 \nL 684 794 \nz\n\" transform=\"scale(0.015625)\"/>\n       </defs>\n       <use xlink:href=\"#DejaVuSans-30\"/>\n       <use xlink:href=\"#DejaVuSans-2e\" x=\"63.623047\"/>\n       <use xlink:href=\"#DejaVuSans-35\" x=\"95.410156\"/>\n      </g>\n     </g>\n    </g>\n    <g id=\"ytick_2\">\n     <g id=\"line2d_10\">\n      <g>\n       <use xlink:href=\"#m8a97f9ea4a\" x=\"43.78125\" y=\"179.766391\" style=\"stroke: #000000; stroke-width: 0.8\"/>\n      </g>\n     </g>\n     <g id=\"text_11\">\n      <!-- 1.0 -->\n      <g transform=\"translate(20.878125 183.56561) scale(0.1 -0.1)\">\n       <use xlink:href=\"#DejaVuSans-31\"/>\n       <use xlink:href=\"#DejaVuSans-2e\" x=\"63.623047\"/>\n       <use xlink:href=\"#DejaVuSans-30\" x=\"95.410156\"/>\n      </g>\n     </g>\n    </g>\n    <g id=\"ytick_3\">\n     <g id=\"line2d_11\">\n      <g>\n       <use xlink:href=\"#m8a97f9ea4a\" x=\"43.78125\" y=\"122.779366\" style=\"stroke: #000000; stroke-width: 0.8\"/>\n      </g>\n     </g>\n     <g id=\"text_12\">\n      <!-- 1.5 -->\n      <g transform=\"translate(20.878125 126.578585) scale(0.1 -0.1)\">\n       <use xlink:href=\"#DejaVuSans-31\"/>\n       <use xlink:href=\"#DejaVuSans-2e\" x=\"63.623047\"/>\n       <use xlink:href=\"#DejaVuSans-35\" x=\"95.410156\"/>\n      </g>\n     </g>\n    </g>\n    <g id=\"ytick_4\">\n     <g id=\"line2d_12\">\n      <g>\n       <use xlink:href=\"#m8a97f9ea4a\" x=\"43.78125\" y=\"65.792341\" style=\"stroke: #000000; stroke-width: 0.8\"/>\n      </g>\n     </g>\n     <g id=\"text_13\">\n      <!-- 2.0 -->\n      <g transform=\"translate(20.878125 69.59156) scale(0.1 -0.1)\">\n       <use xlink:href=\"#DejaVuSans-32\"/>\n       <use xlink:href=\"#DejaVuSans-2e\" x=\"63.623047\"/>\n       <use xlink:href=\"#DejaVuSans-30\" x=\"95.410156\"/>\n      </g>\n     </g>\n    </g>\n    <g id=\"text_14\">\n     <!-- loss -->\n     <g transform=\"translate(14.798438 165.031937) rotate(-90) scale(0.1 -0.1)\">\n      <defs>\n       <path id=\"DejaVuSans-6c\" d=\"M 603 4863 \nL 1178 4863 \nL 1178 0 \nL 603 0 \nL 603 4863 \nz\n\" transform=\"scale(0.015625)\"/>\n      </defs>\n      <use xlink:href=\"#DejaVuSans-6c\"/>\n      <use xlink:href=\"#DejaVuSans-6f\" x=\"27.783203\"/>\n      <use xlink:href=\"#DejaVuSans-73\" x=\"88.964844\"/>\n      <use xlink:href=\"#DejaVuSans-73\" x=\"141.064453\"/>\n     </g>\n    </g>\n   </g>\n   <g id=\"line2d_13\">\n    <path d=\"M 60.013977 34.414125 \nL 69.851994 44.826577 \nL 79.69001 63.01756 \nL 89.528027 88.812388 \nL 99.366043 119.548691 \nL 109.20406 144.544385 \nL 119.042076 165.770917 \nL 128.880093 182.306203 \nL 138.71811 194.643947 \nL 148.556126 207.028539 \nL 158.394143 212.571919 \nL 168.232159 221.651298 \nL 178.070176 228.690196 \nL 187.908192 232.954559 \nL 197.746209 238.293088 \nL 207.584225 242.842594 \nL 217.422242 246.86882 \nL 227.260258 250.753184 \nL 237.098275 253.945379 \nL 246.936291 256.864438 \nL 256.774308 259.492827 \nL 266.612324 261.297457 \nL 276.450341 263.927543 \nL 286.288357 265.475042 \nL 296.126374 266.990775 \nL 305.96439 267.586756 \nL 315.802407 268.135102 \nL 325.640424 270.597082 \nL 335.47844 271.472296 \nL 345.316457 273.379365 \nL 355.154473 273.656963 \nL 364.99249 274.147686 \nL 374.830506 274.822807 \nL 384.668523 276.334125 \n\" clip-path=\"url(#p1f597cbe63)\" style=\"fill: none; stroke-dasharray: 5.55,2.4; stroke-dashoffset: 0; stroke: #0000ff; stroke-width: 1.5\"/>\n    <defs>\n     <path id=\"mf7d59fa412\" d=\"M 0 3 \nC 0.795609 3 1.55874 2.683901 2.12132 2.12132 \nC 2.683901 1.55874 3 0.795609 3 0 \nC 3 -0.795609 2.683901 -1.55874 2.12132 -2.12132 \nC 1.55874 -2.683901 0.795609 -3 0 -3 \nC -0.795609 -3 -1.55874 -2.683901 -2.12132 -2.12132 \nC -2.683901 -1.55874 -3 -0.795609 -3 0 \nC -3 0.795609 -2.683901 1.55874 -2.12132 2.12132 \nC -1.55874 2.683901 -0.795609 3 0 3 \nz\n\" style=\"stroke: #0000ff\"/>\n    </defs>\n    <g clip-path=\"url(#p1f597cbe63)\">\n     <use xlink:href=\"#mf7d59fa412\" x=\"60.013977\" y=\"34.414125\" style=\"fill: #0000ff; stroke: #0000ff\"/>\n     <use xlink:href=\"#mf7d59fa412\" x=\"69.851994\" y=\"44.826577\" style=\"fill: #0000ff; stroke: #0000ff\"/>\n     <use xlink:href=\"#mf7d59fa412\" x=\"79.69001\" y=\"63.01756\" style=\"fill: #0000ff; stroke: #0000ff\"/>\n     <use xlink:href=\"#mf7d59fa412\" x=\"89.528027\" y=\"88.812388\" style=\"fill: #0000ff; stroke: #0000ff\"/>\n     <use xlink:href=\"#mf7d59fa412\" x=\"99.366043\" y=\"119.548691\" style=\"fill: #0000ff; stroke: #0000ff\"/>\n     <use xlink:href=\"#mf7d59fa412\" x=\"109.20406\" y=\"144.544385\" style=\"fill: #0000ff; stroke: #0000ff\"/>\n     <use xlink:href=\"#mf7d59fa412\" x=\"119.042076\" y=\"165.770917\" style=\"fill: #0000ff; stroke: #0000ff\"/>\n     <use xlink:href=\"#mf7d59fa412\" x=\"128.880093\" y=\"182.306203\" style=\"fill: #0000ff; stroke: #0000ff\"/>\n     <use xlink:href=\"#mf7d59fa412\" x=\"138.71811\" y=\"194.643947\" style=\"fill: #0000ff; stroke: #0000ff\"/>\n     <use xlink:href=\"#mf7d59fa412\" x=\"148.556126\" y=\"207.028539\" style=\"fill: #0000ff; stroke: #0000ff\"/>\n     <use xlink:href=\"#mf7d59fa412\" x=\"158.394143\" y=\"212.571919\" style=\"fill: #0000ff; stroke: #0000ff\"/>\n     <use xlink:href=\"#mf7d59fa412\" x=\"168.232159\" y=\"221.651298\" style=\"fill: #0000ff; stroke: #0000ff\"/>\n     <use xlink:href=\"#mf7d59fa412\" x=\"178.070176\" y=\"228.690196\" style=\"fill: #0000ff; stroke: #0000ff\"/>\n     <use xlink:href=\"#mf7d59fa412\" x=\"187.908192\" y=\"232.954559\" style=\"fill: #0000ff; stroke: #0000ff\"/>\n     <use xlink:href=\"#mf7d59fa412\" x=\"197.746209\" y=\"238.293088\" style=\"fill: #0000ff; stroke: #0000ff\"/>\n     <use xlink:href=\"#mf7d59fa412\" x=\"207.584225\" y=\"242.842594\" style=\"fill: #0000ff; stroke: #0000ff\"/>\n     <use xlink:href=\"#mf7d59fa412\" x=\"217.422242\" y=\"246.86882\" style=\"fill: #0000ff; stroke: #0000ff\"/>\n     <use xlink:href=\"#mf7d59fa412\" x=\"227.260258\" y=\"250.753184\" style=\"fill: #0000ff; stroke: #0000ff\"/>\n     <use xlink:href=\"#mf7d59fa412\" x=\"237.098275\" y=\"253.945379\" style=\"fill: #0000ff; stroke: #0000ff\"/>\n     <use xlink:href=\"#mf7d59fa412\" x=\"246.936291\" y=\"256.864438\" style=\"fill: #0000ff; stroke: #0000ff\"/>\n     <use xlink:href=\"#mf7d59fa412\" x=\"256.774308\" y=\"259.492827\" style=\"fill: #0000ff; stroke: #0000ff\"/>\n     <use xlink:href=\"#mf7d59fa412\" x=\"266.612324\" y=\"261.297457\" style=\"fill: #0000ff; stroke: #0000ff\"/>\n     <use xlink:href=\"#mf7d59fa412\" x=\"276.450341\" y=\"263.927543\" style=\"fill: #0000ff; stroke: #0000ff\"/>\n     <use xlink:href=\"#mf7d59fa412\" x=\"286.288357\" y=\"265.475042\" style=\"fill: #0000ff; stroke: #0000ff\"/>\n     <use xlink:href=\"#mf7d59fa412\" x=\"296.126374\" y=\"266.990775\" style=\"fill: #0000ff; stroke: #0000ff\"/>\n     <use xlink:href=\"#mf7d59fa412\" x=\"305.96439\" y=\"267.586756\" style=\"fill: #0000ff; stroke: #0000ff\"/>\n     <use xlink:href=\"#mf7d59fa412\" x=\"315.802407\" y=\"268.135102\" style=\"fill: #0000ff; stroke: #0000ff\"/>\n     <use xlink:href=\"#mf7d59fa412\" x=\"325.640424\" y=\"270.597082\" style=\"fill: #0000ff; stroke: #0000ff\"/>\n     <use xlink:href=\"#mf7d59fa412\" x=\"335.47844\" y=\"271.472296\" style=\"fill: #0000ff; stroke: #0000ff\"/>\n     <use xlink:href=\"#mf7d59fa412\" x=\"345.316457\" y=\"273.379365\" style=\"fill: #0000ff; stroke: #0000ff\"/>\n     <use xlink:href=\"#mf7d59fa412\" x=\"355.154473\" y=\"273.656963\" style=\"fill: #0000ff; stroke: #0000ff\"/>\n     <use xlink:href=\"#mf7d59fa412\" x=\"364.99249\" y=\"274.147686\" style=\"fill: #0000ff; stroke: #0000ff\"/>\n     <use xlink:href=\"#mf7d59fa412\" x=\"374.830506\" y=\"274.822807\" style=\"fill: #0000ff; stroke: #0000ff\"/>\n     <use xlink:href=\"#mf7d59fa412\" x=\"384.668523\" y=\"276.334125\" style=\"fill: #0000ff; stroke: #0000ff\"/>\n    </g>\n   </g>\n   <g id=\"line2d_14\">\n    <path d=\"M 60.013977 39.106949 \nL 69.851994 52.619924 \nL 79.69001 74.932566 \nL 89.528027 106.807091 \nL 99.366043 135.516799 \nL 109.20406 159.741564 \nL 119.042076 179.739812 \nL 128.880093 195.016617 \nL 138.71811 206.925938 \nL 148.556126 215.62694 \nL 158.394143 222.738734 \nL 168.232159 229.997356 \nL 178.070176 235.06089 \nL 187.908192 238.82803 \nL 197.746209 243.67733 \nL 207.584225 247.572364 \nL 217.422242 251.292863 \nL 227.260258 254.301707 \nL 237.098275 256.285099 \nL 246.936291 257.703894 \nL 256.774308 260.017396 \nL 266.612324 260.562101 \nL 276.450341 261.702349 \nL 286.288357 263.626442 \nL 296.126374 264.706794 \nL 305.96439 264.982897 \nL 315.802407 266.43246 \nL 325.640424 267.323157 \nL 335.47844 267.949959 \nL 345.316457 268.128077 \nL 355.154473 268.508935 \nL 364.99249 268.85326 \nL 374.830506 270.174772 \nL 384.668523 271.193823 \n\" clip-path=\"url(#p1f597cbe63)\" style=\"fill: none; stroke: #ff0000; stroke-width: 1.5; stroke-linecap: square\"/>\n    <defs>\n     <path id=\"m43fd6402fb\" d=\"M 0 3 \nC 0.795609 3 1.55874 2.683901 2.12132 2.12132 \nC 2.683901 1.55874 3 0.795609 3 0 \nC 3 -0.795609 2.683901 -1.55874 2.12132 -2.12132 \nC 1.55874 -2.683901 0.795609 -3 0 -3 \nC -0.795609 -3 -1.55874 -2.683901 -2.12132 -2.12132 \nC -2.683901 -1.55874 -3 -0.795609 -3 0 \nC -3 0.795609 -2.683901 1.55874 -2.12132 2.12132 \nC -1.55874 2.683901 -0.795609 3 0 3 \nz\n\" style=\"stroke: #ff0000\"/>\n    </defs>\n    <g clip-path=\"url(#p1f597cbe63)\">\n     <use xlink:href=\"#m43fd6402fb\" x=\"60.013977\" y=\"39.106949\" style=\"fill: #ff0000; stroke: #ff0000\"/>\n     <use xlink:href=\"#m43fd6402fb\" x=\"69.851994\" y=\"52.619924\" style=\"fill: #ff0000; stroke: #ff0000\"/>\n     <use xlink:href=\"#m43fd6402fb\" x=\"79.69001\" y=\"74.932566\" style=\"fill: #ff0000; stroke: #ff0000\"/>\n     <use xlink:href=\"#m43fd6402fb\" x=\"89.528027\" y=\"106.807091\" style=\"fill: #ff0000; stroke: #ff0000\"/>\n     <use xlink:href=\"#m43fd6402fb\" x=\"99.366043\" y=\"135.516799\" style=\"fill: #ff0000; stroke: #ff0000\"/>\n     <use xlink:href=\"#m43fd6402fb\" x=\"109.20406\" y=\"159.741564\" style=\"fill: #ff0000; stroke: #ff0000\"/>\n     <use xlink:href=\"#m43fd6402fb\" x=\"119.042076\" y=\"179.739812\" style=\"fill: #ff0000; stroke: #ff0000\"/>\n     <use xlink:href=\"#m43fd6402fb\" x=\"128.880093\" y=\"195.016617\" style=\"fill: #ff0000; stroke: #ff0000\"/>\n     <use xlink:href=\"#m43fd6402fb\" x=\"138.71811\" y=\"206.925938\" style=\"fill: #ff0000; stroke: #ff0000\"/>\n     <use xlink:href=\"#m43fd6402fb\" x=\"148.556126\" y=\"215.62694\" style=\"fill: #ff0000; stroke: #ff0000\"/>\n     <use xlink:href=\"#m43fd6402fb\" x=\"158.394143\" y=\"222.738734\" style=\"fill: #ff0000; stroke: #ff0000\"/>\n     <use xlink:href=\"#m43fd6402fb\" x=\"168.232159\" y=\"229.997356\" style=\"fill: #ff0000; stroke: #ff0000\"/>\n     <use xlink:href=\"#m43fd6402fb\" x=\"178.070176\" y=\"235.06089\" style=\"fill: #ff0000; stroke: #ff0000\"/>\n     <use xlink:href=\"#m43fd6402fb\" x=\"187.908192\" y=\"238.82803\" style=\"fill: #ff0000; stroke: #ff0000\"/>\n     <use xlink:href=\"#m43fd6402fb\" x=\"197.746209\" y=\"243.67733\" style=\"fill: #ff0000; stroke: #ff0000\"/>\n     <use xlink:href=\"#m43fd6402fb\" x=\"207.584225\" y=\"247.572364\" style=\"fill: #ff0000; stroke: #ff0000\"/>\n     <use xlink:href=\"#m43fd6402fb\" x=\"217.422242\" y=\"251.292863\" style=\"fill: #ff0000; stroke: #ff0000\"/>\n     <use xlink:href=\"#m43fd6402fb\" x=\"227.260258\" y=\"254.301707\" style=\"fill: #ff0000; stroke: #ff0000\"/>\n     <use xlink:href=\"#m43fd6402fb\" x=\"237.098275\" y=\"256.285099\" style=\"fill: #ff0000; stroke: #ff0000\"/>\n     <use xlink:href=\"#m43fd6402fb\" x=\"246.936291\" y=\"257.703894\" style=\"fill: #ff0000; stroke: #ff0000\"/>\n     <use xlink:href=\"#m43fd6402fb\" x=\"256.774308\" y=\"260.017396\" style=\"fill: #ff0000; stroke: #ff0000\"/>\n     <use xlink:href=\"#m43fd6402fb\" x=\"266.612324\" y=\"260.562101\" style=\"fill: #ff0000; stroke: #ff0000\"/>\n     <use xlink:href=\"#m43fd6402fb\" x=\"276.450341\" y=\"261.702349\" style=\"fill: #ff0000; stroke: #ff0000\"/>\n     <use xlink:href=\"#m43fd6402fb\" x=\"286.288357\" y=\"263.626442\" style=\"fill: #ff0000; stroke: #ff0000\"/>\n     <use xlink:href=\"#m43fd6402fb\" x=\"296.126374\" y=\"264.706794\" style=\"fill: #ff0000; stroke: #ff0000\"/>\n     <use xlink:href=\"#m43fd6402fb\" x=\"305.96439\" y=\"264.982897\" style=\"fill: #ff0000; stroke: #ff0000\"/>\n     <use xlink:href=\"#m43fd6402fb\" x=\"315.802407\" y=\"266.43246\" style=\"fill: #ff0000; stroke: #ff0000\"/>\n     <use xlink:href=\"#m43fd6402fb\" x=\"325.640424\" y=\"267.323157\" style=\"fill: #ff0000; stroke: #ff0000\"/>\n     <use xlink:href=\"#m43fd6402fb\" x=\"335.47844\" y=\"267.949959\" style=\"fill: #ff0000; stroke: #ff0000\"/>\n     <use xlink:href=\"#m43fd6402fb\" x=\"345.316457\" y=\"268.128077\" style=\"fill: #ff0000; stroke: #ff0000\"/>\n     <use xlink:href=\"#m43fd6402fb\" x=\"355.154473\" y=\"268.508935\" style=\"fill: #ff0000; stroke: #ff0000\"/>\n     <use xlink:href=\"#m43fd6402fb\" x=\"364.99249\" y=\"268.85326\" style=\"fill: #ff0000; stroke: #ff0000\"/>\n     <use xlink:href=\"#m43fd6402fb\" x=\"374.830506\" y=\"270.174772\" style=\"fill: #ff0000; stroke: #ff0000\"/>\n     <use xlink:href=\"#m43fd6402fb\" x=\"384.668523\" y=\"271.193823\" style=\"fill: #ff0000; stroke: #ff0000\"/>\n    </g>\n   </g>\n   <g id=\"patch_3\">\n    <path d=\"M 43.78125 288.430125 \nL 43.78125 22.318125 \n\" style=\"fill: none; stroke: #000000; stroke-width: 0.8; stroke-linejoin: miter; stroke-linecap: square\"/>\n   </g>\n   <g id=\"patch_4\">\n    <path d=\"M 400.90125 288.430125 \nL 400.90125 22.318125 \n\" style=\"fill: none; stroke: #000000; stroke-width: 0.8; stroke-linejoin: miter; stroke-linecap: square\"/>\n   </g>\n   <g id=\"patch_5\">\n    <path d=\"M 43.78125 288.430125 \nL 400.90125 288.430125 \n\" style=\"fill: none; stroke: #000000; stroke-width: 0.8; stroke-linejoin: miter; stroke-linecap: square\"/>\n   </g>\n   <g id=\"patch_6\">\n    <path d=\"M 43.78125 22.318125 \nL 400.90125 22.318125 \n\" style=\"fill: none; stroke: #000000; stroke-width: 0.8; stroke-linejoin: miter; stroke-linecap: square\"/>\n   </g>\n   <g id=\"text_15\">\n    <!-- Training and validation loss -->\n    <g transform=\"translate(140.53125 16.318125) scale(0.12 -0.12)\">\n     <defs>\n      <path id=\"DejaVuSans-54\" d=\"M -19 4666 \nL 3928 4666 \nL 3928 4134 \nL 2272 4134 \nL 2272 0 \nL 1638 0 \nL 1638 4134 \nL -19 4134 \nL -19 4666 \nz\n\" transform=\"scale(0.015625)\"/>\n      <path id=\"DejaVuSans-72\" d=\"M 2631 2963 \nQ 2534 3019 2420 3045 \nQ 2306 3072 2169 3072 \nQ 1681 3072 1420 2755 \nQ 1159 2438 1159 1844 \nL 1159 0 \nL 581 0 \nL 581 3500 \nL 1159 3500 \nL 1159 2956 \nQ 1341 3275 1631 3429 \nQ 1922 3584 2338 3584 \nQ 2397 3584 2469 3576 \nQ 2541 3569 2628 3553 \nL 2631 2963 \nz\n\" transform=\"scale(0.015625)\"/>\n      <path id=\"DejaVuSans-61\" d=\"M 2194 1759 \nQ 1497 1759 1228 1600 \nQ 959 1441 959 1056 \nQ 959 750 1161 570 \nQ 1363 391 1709 391 \nQ 2188 391 2477 730 \nQ 2766 1069 2766 1631 \nL 2766 1759 \nL 2194 1759 \nz\nM 3341 1997 \nL 3341 0 \nL 2766 0 \nL 2766 531 \nQ 2569 213 2275 61 \nQ 1981 -91 1556 -91 \nQ 1019 -91 701 211 \nQ 384 513 384 1019 \nQ 384 1609 779 1909 \nQ 1175 2209 1959 2209 \nL 2766 2209 \nL 2766 2266 \nQ 2766 2663 2505 2880 \nQ 2244 3097 1772 3097 \nQ 1472 3097 1187 3025 \nQ 903 2953 641 2809 \nL 641 3341 \nQ 956 3463 1253 3523 \nQ 1550 3584 1831 3584 \nQ 2591 3584 2966 3190 \nQ 3341 2797 3341 1997 \nz\n\" transform=\"scale(0.015625)\"/>\n      <path id=\"DejaVuSans-69\" d=\"M 603 3500 \nL 1178 3500 \nL 1178 0 \nL 603 0 \nL 603 3500 \nz\nM 603 4863 \nL 1178 4863 \nL 1178 4134 \nL 603 4134 \nL 603 4863 \nz\n\" transform=\"scale(0.015625)\"/>\n      <path id=\"DejaVuSans-6e\" d=\"M 3513 2113 \nL 3513 0 \nL 2938 0 \nL 2938 2094 \nQ 2938 2591 2744 2837 \nQ 2550 3084 2163 3084 \nQ 1697 3084 1428 2787 \nQ 1159 2491 1159 1978 \nL 1159 0 \nL 581 0 \nL 581 3500 \nL 1159 3500 \nL 1159 2956 \nQ 1366 3272 1645 3428 \nQ 1925 3584 2291 3584 \nQ 2894 3584 3203 3211 \nQ 3513 2838 3513 2113 \nz\n\" transform=\"scale(0.015625)\"/>\n      <path id=\"DejaVuSans-67\" d=\"M 2906 1791 \nQ 2906 2416 2648 2759 \nQ 2391 3103 1925 3103 \nQ 1463 3103 1205 2759 \nQ 947 2416 947 1791 \nQ 947 1169 1205 825 \nQ 1463 481 1925 481 \nQ 2391 481 2648 825 \nQ 2906 1169 2906 1791 \nz\nM 3481 434 \nQ 3481 -459 3084 -895 \nQ 2688 -1331 1869 -1331 \nQ 1566 -1331 1297 -1286 \nQ 1028 -1241 775 -1147 \nL 775 -588 \nQ 1028 -725 1275 -790 \nQ 1522 -856 1778 -856 \nQ 2344 -856 2625 -561 \nQ 2906 -266 2906 331 \nL 2906 616 \nQ 2728 306 2450 153 \nQ 2172 0 1784 0 \nQ 1141 0 747 490 \nQ 353 981 353 1791 \nQ 353 2603 747 3093 \nQ 1141 3584 1784 3584 \nQ 2172 3584 2450 3431 \nQ 2728 3278 2906 2969 \nL 2906 3500 \nL 3481 3500 \nL 3481 434 \nz\n\" transform=\"scale(0.015625)\"/>\n      <path id=\"DejaVuSans-20\" transform=\"scale(0.015625)\"/>\n      <path id=\"DejaVuSans-64\" d=\"M 2906 2969 \nL 2906 4863 \nL 3481 4863 \nL 3481 0 \nL 2906 0 \nL 2906 525 \nQ 2725 213 2448 61 \nQ 2172 -91 1784 -91 \nQ 1150 -91 751 415 \nQ 353 922 353 1747 \nQ 353 2572 751 3078 \nQ 1150 3584 1784 3584 \nQ 2172 3584 2448 3432 \nQ 2725 3281 2906 2969 \nz\nM 947 1747 \nQ 947 1113 1208 752 \nQ 1469 391 1925 391 \nQ 2381 391 2643 752 \nQ 2906 1113 2906 1747 \nQ 2906 2381 2643 2742 \nQ 2381 3103 1925 3103 \nQ 1469 3103 1208 2742 \nQ 947 2381 947 1747 \nz\n\" transform=\"scale(0.015625)\"/>\n      <path id=\"DejaVuSans-76\" d=\"M 191 3500 \nL 800 3500 \nL 1894 563 \nL 2988 3500 \nL 3597 3500 \nL 2284 0 \nL 1503 0 \nL 191 3500 \nz\n\" transform=\"scale(0.015625)\"/>\n      <path id=\"DejaVuSans-74\" d=\"M 1172 4494 \nL 1172 3500 \nL 2356 3500 \nL 2356 3053 \nL 1172 3053 \nL 1172 1153 \nQ 1172 725 1289 603 \nQ 1406 481 1766 481 \nL 2356 481 \nL 2356 0 \nL 1766 0 \nQ 1100 0 847 248 \nQ 594 497 594 1153 \nL 594 3053 \nL 172 3053 \nL 172 3500 \nL 594 3500 \nL 594 4494 \nL 1172 4494 \nz\n\" transform=\"scale(0.015625)\"/>\n     </defs>\n     <use xlink:href=\"#DejaVuSans-54\"/>\n     <use xlink:href=\"#DejaVuSans-72\" x=\"46.333984\"/>\n     <use xlink:href=\"#DejaVuSans-61\" x=\"87.447266\"/>\n     <use xlink:href=\"#DejaVuSans-69\" x=\"148.726562\"/>\n     <use xlink:href=\"#DejaVuSans-6e\" x=\"176.509766\"/>\n     <use xlink:href=\"#DejaVuSans-69\" x=\"239.888672\"/>\n     <use xlink:href=\"#DejaVuSans-6e\" x=\"267.671875\"/>\n     <use xlink:href=\"#DejaVuSans-67\" x=\"331.050781\"/>\n     <use xlink:href=\"#DejaVuSans-20\" x=\"394.527344\"/>\n     <use xlink:href=\"#DejaVuSans-61\" x=\"426.314453\"/>\n     <use xlink:href=\"#DejaVuSans-6e\" x=\"487.59375\"/>\n     <use xlink:href=\"#DejaVuSans-64\" x=\"550.972656\"/>\n     <use xlink:href=\"#DejaVuSans-20\" x=\"614.449219\"/>\n     <use xlink:href=\"#DejaVuSans-76\" x=\"646.236328\"/>\n     <use xlink:href=\"#DejaVuSans-61\" x=\"705.416016\"/>\n     <use xlink:href=\"#DejaVuSans-6c\" x=\"766.695312\"/>\n     <use xlink:href=\"#DejaVuSans-69\" x=\"794.478516\"/>\n     <use xlink:href=\"#DejaVuSans-64\" x=\"822.261719\"/>\n     <use xlink:href=\"#DejaVuSans-61\" x=\"885.738281\"/>\n     <use xlink:href=\"#DejaVuSans-74\" x=\"947.017578\"/>\n     <use xlink:href=\"#DejaVuSans-69\" x=\"986.226562\"/>\n     <use xlink:href=\"#DejaVuSans-6f\" x=\"1014.009766\"/>\n     <use xlink:href=\"#DejaVuSans-6e\" x=\"1075.191406\"/>\n     <use xlink:href=\"#DejaVuSans-20\" x=\"1138.570312\"/>\n     <use xlink:href=\"#DejaVuSans-6c\" x=\"1170.357422\"/>\n     <use xlink:href=\"#DejaVuSans-6f\" x=\"1198.140625\"/>\n     <use xlink:href=\"#DejaVuSans-73\" x=\"1259.322266\"/>\n     <use xlink:href=\"#DejaVuSans-73\" x=\"1311.421875\"/>\n    </g>\n   </g>\n   <g id=\"legend_1\">\n    <g id=\"patch_7\">\n     <path d=\"M 314.310625 60.230625 \nL 393.90125 60.230625 \nQ 395.90125 60.230625 395.90125 58.230625 \nL 395.90125 29.318125 \nQ 395.90125 27.318125 393.90125 27.318125 \nL 314.310625 27.318125 \nQ 312.310625 27.318125 312.310625 29.318125 \nL 312.310625 58.230625 \nQ 312.310625 60.230625 314.310625 60.230625 \nz\n\" style=\"fill: #ffffff; opacity: 0.8; stroke: #cccccc; stroke-linejoin: miter\"/>\n    </g>\n    <g id=\"line2d_15\">\n     <path d=\"M 316.310625 35.416562 \nL 326.310625 35.416562 \nL 336.310625 35.416562 \n\" style=\"fill: none; stroke-dasharray: 5.55,2.4; stroke-dashoffset: 0; stroke: #0000ff; stroke-width: 1.5\"/>\n     <g>\n      <use xlink:href=\"#mf7d59fa412\" x=\"326.310625\" y=\"35.416562\" style=\"fill: #0000ff; stroke: #0000ff\"/>\n     </g>\n    </g>\n    <g id=\"text_16\">\n     <!-- train_loss -->\n     <g transform=\"translate(344.310625 38.916562) scale(0.1 -0.1)\">\n      <defs>\n       <path id=\"DejaVuSans-5f\" d=\"M 3263 -1063 \nL 3263 -1509 \nL -63 -1509 \nL -63 -1063 \nL 3263 -1063 \nz\n\" transform=\"scale(0.015625)\"/>\n      </defs>\n      <use xlink:href=\"#DejaVuSans-74\"/>\n      <use xlink:href=\"#DejaVuSans-72\" x=\"39.208984\"/>\n      <use xlink:href=\"#DejaVuSans-61\" x=\"80.322266\"/>\n      <use xlink:href=\"#DejaVuSans-69\" x=\"141.601562\"/>\n      <use xlink:href=\"#DejaVuSans-6e\" x=\"169.384766\"/>\n      <use xlink:href=\"#DejaVuSans-5f\" x=\"232.763672\"/>\n      <use xlink:href=\"#DejaVuSans-6c\" x=\"282.763672\"/>\n      <use xlink:href=\"#DejaVuSans-6f\" x=\"310.546875\"/>\n      <use xlink:href=\"#DejaVuSans-73\" x=\"371.728516\"/>\n      <use xlink:href=\"#DejaVuSans-73\" x=\"423.828125\"/>\n     </g>\n    </g>\n    <g id=\"line2d_16\">\n     <path d=\"M 316.310625 50.372813 \nL 326.310625 50.372813 \nL 336.310625 50.372813 \n\" style=\"fill: none; stroke: #ff0000; stroke-width: 1.5; stroke-linecap: square\"/>\n     <g>\n      <use xlink:href=\"#m43fd6402fb\" x=\"326.310625\" y=\"50.372813\" style=\"fill: #ff0000; stroke: #ff0000\"/>\n     </g>\n    </g>\n    <g id=\"text_17\">\n     <!-- val_loss -->\n     <g transform=\"translate(344.310625 53.872813) scale(0.1 -0.1)\">\n      <use xlink:href=\"#DejaVuSans-76\"/>\n      <use xlink:href=\"#DejaVuSans-61\" x=\"59.179688\"/>\n      <use xlink:href=\"#DejaVuSans-6c\" x=\"120.458984\"/>\n      <use xlink:href=\"#DejaVuSans-5f\" x=\"148.242188\"/>\n      <use xlink:href=\"#DejaVuSans-6c\" x=\"198.242188\"/>\n      <use xlink:href=\"#DejaVuSans-6f\" x=\"226.025391\"/>\n      <use xlink:href=\"#DejaVuSans-73\" x=\"287.207031\"/>\n      <use xlink:href=\"#DejaVuSans-73\" x=\"339.306641\"/>\n     </g>\n    </g>\n   </g>\n  </g>\n </g>\n <defs>\n  <clipPath id=\"p1f597cbe63\">\n   <rect x=\"43.78125\" y=\"22.318125\" width=\"357.12\" height=\"266.112\"/>\n  </clipPath>\n </defs>\n</svg>\n"
     },
     "metadata": {},
     "output_type": "display_data"
    }
   ],
   "source": [
    "plot_metric(dfhistory,'loss')"
   ]
  },
  {
   "cell_type": "code",
   "execution_count": 30,
   "id": "960119f4",
   "metadata": {
    "ExecuteTime": {
     "end_time": "2023-09-07T09:29:45.189015100Z",
     "start_time": "2023-09-07T09:29:45.082531600Z"
    }
   },
   "outputs": [
    {
     "data": {
      "text/plain": "<Figure size 640x480 with 1 Axes>",
      "image/svg+xml": "<?xml version=\"1.0\" encoding=\"utf-8\" standalone=\"no\"?>\n<!DOCTYPE svg PUBLIC \"-//W3C//DTD SVG 1.1//EN\"\n  \"http://www.w3.org/Graphics/SVG/1.1/DTD/svg11.dtd\">\n<svg xmlns:xlink=\"http://www.w3.org/1999/xlink\" width=\"408.10125pt\" height=\"325.986375pt\" viewBox=\"0 0 408.10125 325.986375\" xmlns=\"http://www.w3.org/2000/svg\" version=\"1.1\">\n <metadata>\n  <rdf:RDF xmlns:dc=\"http://purl.org/dc/elements/1.1/\" xmlns:cc=\"http://creativecommons.org/ns#\" xmlns:rdf=\"http://www.w3.org/1999/02/22-rdf-syntax-ns#\">\n   <cc:Work>\n    <dc:type rdf:resource=\"http://purl.org/dc/dcmitype/StillImage\"/>\n    <dc:date>2023-09-07T17:29:45.148392</dc:date>\n    <dc:format>image/svg+xml</dc:format>\n    <dc:creator>\n     <cc:Agent>\n      <dc:title>Matplotlib v3.7.2, https://matplotlib.org/</dc:title>\n     </cc:Agent>\n    </dc:creator>\n   </cc:Work>\n  </rdf:RDF>\n </metadata>\n <defs>\n  <style type=\"text/css\">*{stroke-linejoin: round; stroke-linecap: butt}</style>\n </defs>\n <g id=\"figure_1\">\n  <g id=\"patch_1\">\n   <path d=\"M 0 325.986375 \nL 408.10125 325.986375 \nL 408.10125 0 \nL 0 0 \nz\n\" style=\"fill: #ffffff\"/>\n  </g>\n  <g id=\"axes_1\">\n   <g id=\"patch_2\">\n    <path d=\"M 43.78125 288.430125 \nL 400.90125 288.430125 \nL 400.90125 22.318125 \nL 43.78125 22.318125 \nz\n\" style=\"fill: #ffffff\"/>\n   </g>\n   <g id=\"matplotlib.axis_1\">\n    <g id=\"xtick_1\">\n     <g id=\"line2d_1\">\n      <defs>\n       <path id=\"m3814966bc2\" d=\"M 0 0 \nL 0 3.5 \n\" style=\"stroke: #000000; stroke-width: 0.8\"/>\n      </defs>\n      <g>\n       <use xlink:href=\"#m3814966bc2\" x=\"50.175961\" y=\"288.430125\" style=\"stroke: #000000; stroke-width: 0.8\"/>\n      </g>\n     </g>\n     <g id=\"text_1\">\n      <!-- 0 -->\n      <g transform=\"translate(46.994711 303.028562) scale(0.1 -0.1)\">\n       <defs>\n        <path id=\"DejaVuSans-30\" d=\"M 2034 4250 \nQ 1547 4250 1301 3770 \nQ 1056 3291 1056 2328 \nQ 1056 1369 1301 889 \nQ 1547 409 2034 409 \nQ 2525 409 2770 889 \nQ 3016 1369 3016 2328 \nQ 3016 3291 2770 3770 \nQ 2525 4250 2034 4250 \nz\nM 2034 4750 \nQ 2819 4750 3233 4129 \nQ 3647 3509 3647 2328 \nQ 3647 1150 3233 529 \nQ 2819 -91 2034 -91 \nQ 1250 -91 836 529 \nQ 422 1150 422 2328 \nQ 422 3509 836 4129 \nQ 1250 4750 2034 4750 \nz\n\" transform=\"scale(0.015625)\"/>\n       </defs>\n       <use xlink:href=\"#DejaVuSans-30\"/>\n      </g>\n     </g>\n    </g>\n    <g id=\"xtick_2\">\n     <g id=\"line2d_2\">\n      <g>\n       <use xlink:href=\"#m3814966bc2\" x=\"99.366043\" y=\"288.430125\" style=\"stroke: #000000; stroke-width: 0.8\"/>\n      </g>\n     </g>\n     <g id=\"text_2\">\n      <!-- 5 -->\n      <g transform=\"translate(96.184793 303.028562) scale(0.1 -0.1)\">\n       <defs>\n        <path id=\"DejaVuSans-35\" d=\"M 691 4666 \nL 3169 4666 \nL 3169 4134 \nL 1269 4134 \nL 1269 2991 \nQ 1406 3038 1543 3061 \nQ 1681 3084 1819 3084 \nQ 2600 3084 3056 2656 \nQ 3513 2228 3513 1497 \nQ 3513 744 3044 326 \nQ 2575 -91 1722 -91 \nQ 1428 -91 1123 -41 \nQ 819 9 494 109 \nL 494 744 \nQ 775 591 1075 516 \nQ 1375 441 1709 441 \nQ 2250 441 2565 725 \nQ 2881 1009 2881 1497 \nQ 2881 1984 2565 2268 \nQ 2250 2553 1709 2553 \nQ 1456 2553 1204 2497 \nQ 953 2441 691 2322 \nL 691 4666 \nz\n\" transform=\"scale(0.015625)\"/>\n       </defs>\n       <use xlink:href=\"#DejaVuSans-35\"/>\n      </g>\n     </g>\n    </g>\n    <g id=\"xtick_3\">\n     <g id=\"line2d_3\">\n      <g>\n       <use xlink:href=\"#m3814966bc2\" x=\"148.556126\" y=\"288.430125\" style=\"stroke: #000000; stroke-width: 0.8\"/>\n      </g>\n     </g>\n     <g id=\"text_3\">\n      <!-- 10 -->\n      <g transform=\"translate(142.193626 303.028562) scale(0.1 -0.1)\">\n       <defs>\n        <path id=\"DejaVuSans-31\" d=\"M 794 531 \nL 1825 531 \nL 1825 4091 \nL 703 3866 \nL 703 4441 \nL 1819 4666 \nL 2450 4666 \nL 2450 531 \nL 3481 531 \nL 3481 0 \nL 794 0 \nL 794 531 \nz\n\" transform=\"scale(0.015625)\"/>\n       </defs>\n       <use xlink:href=\"#DejaVuSans-31\"/>\n       <use xlink:href=\"#DejaVuSans-30\" x=\"63.623047\"/>\n      </g>\n     </g>\n    </g>\n    <g id=\"xtick_4\">\n     <g id=\"line2d_4\">\n      <g>\n       <use xlink:href=\"#m3814966bc2\" x=\"197.746209\" y=\"288.430125\" style=\"stroke: #000000; stroke-width: 0.8\"/>\n      </g>\n     </g>\n     <g id=\"text_4\">\n      <!-- 15 -->\n      <g transform=\"translate(191.383709 303.028562) scale(0.1 -0.1)\">\n       <use xlink:href=\"#DejaVuSans-31\"/>\n       <use xlink:href=\"#DejaVuSans-35\" x=\"63.623047\"/>\n      </g>\n     </g>\n    </g>\n    <g id=\"xtick_5\">\n     <g id=\"line2d_5\">\n      <g>\n       <use xlink:href=\"#m3814966bc2\" x=\"246.936291\" y=\"288.430125\" style=\"stroke: #000000; stroke-width: 0.8\"/>\n      </g>\n     </g>\n     <g id=\"text_5\">\n      <!-- 20 -->\n      <g transform=\"translate(240.573791 303.028562) scale(0.1 -0.1)\">\n       <defs>\n        <path id=\"DejaVuSans-32\" d=\"M 1228 531 \nL 3431 531 \nL 3431 0 \nL 469 0 \nL 469 531 \nQ 828 903 1448 1529 \nQ 2069 2156 2228 2338 \nQ 2531 2678 2651 2914 \nQ 2772 3150 2772 3378 \nQ 2772 3750 2511 3984 \nQ 2250 4219 1831 4219 \nQ 1534 4219 1204 4116 \nQ 875 4013 500 3803 \nL 500 4441 \nQ 881 4594 1212 4672 \nQ 1544 4750 1819 4750 \nQ 2544 4750 2975 4387 \nQ 3406 4025 3406 3419 \nQ 3406 3131 3298 2873 \nQ 3191 2616 2906 2266 \nQ 2828 2175 2409 1742 \nQ 1991 1309 1228 531 \nz\n\" transform=\"scale(0.015625)\"/>\n       </defs>\n       <use xlink:href=\"#DejaVuSans-32\"/>\n       <use xlink:href=\"#DejaVuSans-30\" x=\"63.623047\"/>\n      </g>\n     </g>\n    </g>\n    <g id=\"xtick_6\">\n     <g id=\"line2d_6\">\n      <g>\n       <use xlink:href=\"#m3814966bc2\" x=\"296.126374\" y=\"288.430125\" style=\"stroke: #000000; stroke-width: 0.8\"/>\n      </g>\n     </g>\n     <g id=\"text_6\">\n      <!-- 25 -->\n      <g transform=\"translate(289.763874 303.028562) scale(0.1 -0.1)\">\n       <use xlink:href=\"#DejaVuSans-32\"/>\n       <use xlink:href=\"#DejaVuSans-35\" x=\"63.623047\"/>\n      </g>\n     </g>\n    </g>\n    <g id=\"xtick_7\">\n     <g id=\"line2d_7\">\n      <g>\n       <use xlink:href=\"#m3814966bc2\" x=\"345.316457\" y=\"288.430125\" style=\"stroke: #000000; stroke-width: 0.8\"/>\n      </g>\n     </g>\n     <g id=\"text_7\">\n      <!-- 30 -->\n      <g transform=\"translate(338.953957 303.028562) scale(0.1 -0.1)\">\n       <defs>\n        <path id=\"DejaVuSans-33\" d=\"M 2597 2516 \nQ 3050 2419 3304 2112 \nQ 3559 1806 3559 1356 \nQ 3559 666 3084 287 \nQ 2609 -91 1734 -91 \nQ 1441 -91 1130 -33 \nQ 819 25 488 141 \nL 488 750 \nQ 750 597 1062 519 \nQ 1375 441 1716 441 \nQ 2309 441 2620 675 \nQ 2931 909 2931 1356 \nQ 2931 1769 2642 2001 \nQ 2353 2234 1838 2234 \nL 1294 2234 \nL 1294 2753 \nL 1863 2753 \nQ 2328 2753 2575 2939 \nQ 2822 3125 2822 3475 \nQ 2822 3834 2567 4026 \nQ 2313 4219 1838 4219 \nQ 1578 4219 1281 4162 \nQ 984 4106 628 3988 \nL 628 4550 \nQ 988 4650 1302 4700 \nQ 1616 4750 1894 4750 \nQ 2613 4750 3031 4423 \nQ 3450 4097 3450 3541 \nQ 3450 3153 3228 2886 \nQ 3006 2619 2597 2516 \nz\n\" transform=\"scale(0.015625)\"/>\n       </defs>\n       <use xlink:href=\"#DejaVuSans-33\"/>\n       <use xlink:href=\"#DejaVuSans-30\" x=\"63.623047\"/>\n      </g>\n     </g>\n    </g>\n    <g id=\"xtick_8\">\n     <g id=\"line2d_8\">\n      <g>\n       <use xlink:href=\"#m3814966bc2\" x=\"394.506539\" y=\"288.430125\" style=\"stroke: #000000; stroke-width: 0.8\"/>\n      </g>\n     </g>\n     <g id=\"text_8\">\n      <!-- 35 -->\n      <g transform=\"translate(388.144039 303.028562) scale(0.1 -0.1)\">\n       <use xlink:href=\"#DejaVuSans-33\"/>\n       <use xlink:href=\"#DejaVuSans-35\" x=\"63.623047\"/>\n      </g>\n     </g>\n    </g>\n    <g id=\"text_9\">\n     <!-- Epochs -->\n     <g transform=\"translate(204.425625 316.706687) scale(0.1 -0.1)\">\n      <defs>\n       <path id=\"DejaVuSans-45\" d=\"M 628 4666 \nL 3578 4666 \nL 3578 4134 \nL 1259 4134 \nL 1259 2753 \nL 3481 2753 \nL 3481 2222 \nL 1259 2222 \nL 1259 531 \nL 3634 531 \nL 3634 0 \nL 628 0 \nL 628 4666 \nz\n\" transform=\"scale(0.015625)\"/>\n       <path id=\"DejaVuSans-70\" d=\"M 1159 525 \nL 1159 -1331 \nL 581 -1331 \nL 581 3500 \nL 1159 3500 \nL 1159 2969 \nQ 1341 3281 1617 3432 \nQ 1894 3584 2278 3584 \nQ 2916 3584 3314 3078 \nQ 3713 2572 3713 1747 \nQ 3713 922 3314 415 \nQ 2916 -91 2278 -91 \nQ 1894 -91 1617 61 \nQ 1341 213 1159 525 \nz\nM 3116 1747 \nQ 3116 2381 2855 2742 \nQ 2594 3103 2138 3103 \nQ 1681 3103 1420 2742 \nQ 1159 2381 1159 1747 \nQ 1159 1113 1420 752 \nQ 1681 391 2138 391 \nQ 2594 391 2855 752 \nQ 3116 1113 3116 1747 \nz\n\" transform=\"scale(0.015625)\"/>\n       <path id=\"DejaVuSans-6f\" d=\"M 1959 3097 \nQ 1497 3097 1228 2736 \nQ 959 2375 959 1747 \nQ 959 1119 1226 758 \nQ 1494 397 1959 397 \nQ 2419 397 2687 759 \nQ 2956 1122 2956 1747 \nQ 2956 2369 2687 2733 \nQ 2419 3097 1959 3097 \nz\nM 1959 3584 \nQ 2709 3584 3137 3096 \nQ 3566 2609 3566 1747 \nQ 3566 888 3137 398 \nQ 2709 -91 1959 -91 \nQ 1206 -91 779 398 \nQ 353 888 353 1747 \nQ 353 2609 779 3096 \nQ 1206 3584 1959 3584 \nz\n\" transform=\"scale(0.015625)\"/>\n       <path id=\"DejaVuSans-63\" d=\"M 3122 3366 \nL 3122 2828 \nQ 2878 2963 2633 3030 \nQ 2388 3097 2138 3097 \nQ 1578 3097 1268 2742 \nQ 959 2388 959 1747 \nQ 959 1106 1268 751 \nQ 1578 397 2138 397 \nQ 2388 397 2633 464 \nQ 2878 531 3122 666 \nL 3122 134 \nQ 2881 22 2623 -34 \nQ 2366 -91 2075 -91 \nQ 1284 -91 818 406 \nQ 353 903 353 1747 \nQ 353 2603 823 3093 \nQ 1294 3584 2113 3584 \nQ 2378 3584 2631 3529 \nQ 2884 3475 3122 3366 \nz\n\" transform=\"scale(0.015625)\"/>\n       <path id=\"DejaVuSans-68\" d=\"M 3513 2113 \nL 3513 0 \nL 2938 0 \nL 2938 2094 \nQ 2938 2591 2744 2837 \nQ 2550 3084 2163 3084 \nQ 1697 3084 1428 2787 \nQ 1159 2491 1159 1978 \nL 1159 0 \nL 581 0 \nL 581 4863 \nL 1159 4863 \nL 1159 2956 \nQ 1366 3272 1645 3428 \nQ 1925 3584 2291 3584 \nQ 2894 3584 3203 3211 \nQ 3513 2838 3513 2113 \nz\n\" transform=\"scale(0.015625)\"/>\n       <path id=\"DejaVuSans-73\" d=\"M 2834 3397 \nL 2834 2853 \nQ 2591 2978 2328 3040 \nQ 2066 3103 1784 3103 \nQ 1356 3103 1142 2972 \nQ 928 2841 928 2578 \nQ 928 2378 1081 2264 \nQ 1234 2150 1697 2047 \nL 1894 2003 \nQ 2506 1872 2764 1633 \nQ 3022 1394 3022 966 \nQ 3022 478 2636 193 \nQ 2250 -91 1575 -91 \nQ 1294 -91 989 -36 \nQ 684 19 347 128 \nL 347 722 \nQ 666 556 975 473 \nQ 1284 391 1588 391 \nQ 1994 391 2212 530 \nQ 2431 669 2431 922 \nQ 2431 1156 2273 1281 \nQ 2116 1406 1581 1522 \nL 1381 1569 \nQ 847 1681 609 1914 \nQ 372 2147 372 2553 \nQ 372 3047 722 3315 \nQ 1072 3584 1716 3584 \nQ 2034 3584 2315 3537 \nQ 2597 3491 2834 3397 \nz\n\" transform=\"scale(0.015625)\"/>\n      </defs>\n      <use xlink:href=\"#DejaVuSans-45\"/>\n      <use xlink:href=\"#DejaVuSans-70\" x=\"63.183594\"/>\n      <use xlink:href=\"#DejaVuSans-6f\" x=\"126.660156\"/>\n      <use xlink:href=\"#DejaVuSans-63\" x=\"187.841797\"/>\n      <use xlink:href=\"#DejaVuSans-68\" x=\"242.822266\"/>\n      <use xlink:href=\"#DejaVuSans-73\" x=\"306.201172\"/>\n     </g>\n    </g>\n   </g>\n   <g id=\"matplotlib.axis_2\">\n    <g id=\"ytick_1\">\n     <g id=\"line2d_9\">\n      <defs>\n       <path id=\"me54c7ea387\" d=\"M 0 0 \nL -3.5 0 \n\" style=\"stroke: #000000; stroke-width: 0.8\"/>\n      </defs>\n      <g>\n       <use xlink:href=\"#me54c7ea387\" x=\"43.78125\" y=\"269.015712\" style=\"stroke: #000000; stroke-width: 0.8\"/>\n      </g>\n     </g>\n     <g id=\"text_10\">\n      <!-- 0.2 -->\n      <g transform=\"translate(20.878125 272.81493) scale(0.1 -0.1)\">\n       <defs>\n        <path id=\"DejaVuSans-2e\" d=\"M 684 794 \nL 1344 794 \nL 1344 0 \nL 684 0 \nL 684 794 \nz\n\" transform=\"scale(0.015625)\"/>\n       </defs>\n       <use xlink:href=\"#DejaVuSans-30\"/>\n       <use xlink:href=\"#DejaVuSans-2e\" x=\"63.623047\"/>\n       <use xlink:href=\"#DejaVuSans-32\" x=\"95.410156\"/>\n      </g>\n     </g>\n    </g>\n    <g id=\"ytick_2\">\n     <g id=\"line2d_10\">\n      <g>\n       <use xlink:href=\"#me54c7ea387\" x=\"43.78125\" y=\"238.092832\" style=\"stroke: #000000; stroke-width: 0.8\"/>\n      </g>\n     </g>\n     <g id=\"text_11\">\n      <!-- 0.3 -->\n      <g transform=\"translate(20.878125 241.89205) scale(0.1 -0.1)\">\n       <use xlink:href=\"#DejaVuSans-30\"/>\n       <use xlink:href=\"#DejaVuSans-2e\" x=\"63.623047\"/>\n       <use xlink:href=\"#DejaVuSans-33\" x=\"95.410156\"/>\n      </g>\n     </g>\n    </g>\n    <g id=\"ytick_3\">\n     <g id=\"line2d_11\">\n      <g>\n       <use xlink:href=\"#me54c7ea387\" x=\"43.78125\" y=\"207.169952\" style=\"stroke: #000000; stroke-width: 0.8\"/>\n      </g>\n     </g>\n     <g id=\"text_12\">\n      <!-- 0.4 -->\n      <g transform=\"translate(20.878125 210.969171) scale(0.1 -0.1)\">\n       <defs>\n        <path id=\"DejaVuSans-34\" d=\"M 2419 4116 \nL 825 1625 \nL 2419 1625 \nL 2419 4116 \nz\nM 2253 4666 \nL 3047 4666 \nL 3047 1625 \nL 3713 1625 \nL 3713 1100 \nL 3047 1100 \nL 3047 0 \nL 2419 0 \nL 2419 1100 \nL 313 1100 \nL 313 1709 \nL 2253 4666 \nz\n\" transform=\"scale(0.015625)\"/>\n       </defs>\n       <use xlink:href=\"#DejaVuSans-30\"/>\n       <use xlink:href=\"#DejaVuSans-2e\" x=\"63.623047\"/>\n       <use xlink:href=\"#DejaVuSans-34\" x=\"95.410156\"/>\n      </g>\n     </g>\n    </g>\n    <g id=\"ytick_4\">\n     <g id=\"line2d_12\">\n      <g>\n       <use xlink:href=\"#me54c7ea387\" x=\"43.78125\" y=\"176.247072\" style=\"stroke: #000000; stroke-width: 0.8\"/>\n      </g>\n     </g>\n     <g id=\"text_13\">\n      <!-- 0.5 -->\n      <g transform=\"translate(20.878125 180.046291) scale(0.1 -0.1)\">\n       <use xlink:href=\"#DejaVuSans-30\"/>\n       <use xlink:href=\"#DejaVuSans-2e\" x=\"63.623047\"/>\n       <use xlink:href=\"#DejaVuSans-35\" x=\"95.410156\"/>\n      </g>\n     </g>\n    </g>\n    <g id=\"ytick_5\">\n     <g id=\"line2d_13\">\n      <g>\n       <use xlink:href=\"#me54c7ea387\" x=\"43.78125\" y=\"145.324192\" style=\"stroke: #000000; stroke-width: 0.8\"/>\n      </g>\n     </g>\n     <g id=\"text_14\">\n      <!-- 0.6 -->\n      <g transform=\"translate(20.878125 149.123411) scale(0.1 -0.1)\">\n       <defs>\n        <path id=\"DejaVuSans-36\" d=\"M 2113 2584 \nQ 1688 2584 1439 2293 \nQ 1191 2003 1191 1497 \nQ 1191 994 1439 701 \nQ 1688 409 2113 409 \nQ 2538 409 2786 701 \nQ 3034 994 3034 1497 \nQ 3034 2003 2786 2293 \nQ 2538 2584 2113 2584 \nz\nM 3366 4563 \nL 3366 3988 \nQ 3128 4100 2886 4159 \nQ 2644 4219 2406 4219 \nQ 1781 4219 1451 3797 \nQ 1122 3375 1075 2522 \nQ 1259 2794 1537 2939 \nQ 1816 3084 2150 3084 \nQ 2853 3084 3261 2657 \nQ 3669 2231 3669 1497 \nQ 3669 778 3244 343 \nQ 2819 -91 2113 -91 \nQ 1303 -91 875 529 \nQ 447 1150 447 2328 \nQ 447 3434 972 4092 \nQ 1497 4750 2381 4750 \nQ 2619 4750 2861 4703 \nQ 3103 4656 3366 4563 \nz\n\" transform=\"scale(0.015625)\"/>\n       </defs>\n       <use xlink:href=\"#DejaVuSans-30\"/>\n       <use xlink:href=\"#DejaVuSans-2e\" x=\"63.623047\"/>\n       <use xlink:href=\"#DejaVuSans-36\" x=\"95.410156\"/>\n      </g>\n     </g>\n    </g>\n    <g id=\"ytick_6\">\n     <g id=\"line2d_14\">\n      <g>\n       <use xlink:href=\"#me54c7ea387\" x=\"43.78125\" y=\"114.401312\" style=\"stroke: #000000; stroke-width: 0.8\"/>\n      </g>\n     </g>\n     <g id=\"text_15\">\n      <!-- 0.7 -->\n      <g transform=\"translate(20.878125 118.200531) scale(0.1 -0.1)\">\n       <defs>\n        <path id=\"DejaVuSans-37\" d=\"M 525 4666 \nL 3525 4666 \nL 3525 4397 \nL 1831 0 \nL 1172 0 \nL 2766 4134 \nL 525 4134 \nL 525 4666 \nz\n\" transform=\"scale(0.015625)\"/>\n       </defs>\n       <use xlink:href=\"#DejaVuSans-30\"/>\n       <use xlink:href=\"#DejaVuSans-2e\" x=\"63.623047\"/>\n       <use xlink:href=\"#DejaVuSans-37\" x=\"95.410156\"/>\n      </g>\n     </g>\n    </g>\n    <g id=\"ytick_7\">\n     <g id=\"line2d_15\">\n      <g>\n       <use xlink:href=\"#me54c7ea387\" x=\"43.78125\" y=\"83.478432\" style=\"stroke: #000000; stroke-width: 0.8\"/>\n      </g>\n     </g>\n     <g id=\"text_16\">\n      <!-- 0.8 -->\n      <g transform=\"translate(20.878125 87.277651) scale(0.1 -0.1)\">\n       <defs>\n        <path id=\"DejaVuSans-38\" d=\"M 2034 2216 \nQ 1584 2216 1326 1975 \nQ 1069 1734 1069 1313 \nQ 1069 891 1326 650 \nQ 1584 409 2034 409 \nQ 2484 409 2743 651 \nQ 3003 894 3003 1313 \nQ 3003 1734 2745 1975 \nQ 2488 2216 2034 2216 \nz\nM 1403 2484 \nQ 997 2584 770 2862 \nQ 544 3141 544 3541 \nQ 544 4100 942 4425 \nQ 1341 4750 2034 4750 \nQ 2731 4750 3128 4425 \nQ 3525 4100 3525 3541 \nQ 3525 3141 3298 2862 \nQ 3072 2584 2669 2484 \nQ 3125 2378 3379 2068 \nQ 3634 1759 3634 1313 \nQ 3634 634 3220 271 \nQ 2806 -91 2034 -91 \nQ 1263 -91 848 271 \nQ 434 634 434 1313 \nQ 434 1759 690 2068 \nQ 947 2378 1403 2484 \nz\nM 1172 3481 \nQ 1172 3119 1398 2916 \nQ 1625 2713 2034 2713 \nQ 2441 2713 2670 2916 \nQ 2900 3119 2900 3481 \nQ 2900 3844 2670 4047 \nQ 2441 4250 2034 4250 \nQ 1625 4250 1398 4047 \nQ 1172 3844 1172 3481 \nz\n\" transform=\"scale(0.015625)\"/>\n       </defs>\n       <use xlink:href=\"#DejaVuSans-30\"/>\n       <use xlink:href=\"#DejaVuSans-2e\" x=\"63.623047\"/>\n       <use xlink:href=\"#DejaVuSans-38\" x=\"95.410156\"/>\n      </g>\n     </g>\n    </g>\n    <g id=\"ytick_8\">\n     <g id=\"line2d_16\">\n      <g>\n       <use xlink:href=\"#me54c7ea387\" x=\"43.78125\" y=\"52.555553\" style=\"stroke: #000000; stroke-width: 0.8\"/>\n      </g>\n     </g>\n     <g id=\"text_17\">\n      <!-- 0.9 -->\n      <g transform=\"translate(20.878125 56.354771) scale(0.1 -0.1)\">\n       <defs>\n        <path id=\"DejaVuSans-39\" d=\"M 703 97 \nL 703 672 \nQ 941 559 1184 500 \nQ 1428 441 1663 441 \nQ 2288 441 2617 861 \nQ 2947 1281 2994 2138 \nQ 2813 1869 2534 1725 \nQ 2256 1581 1919 1581 \nQ 1219 1581 811 2004 \nQ 403 2428 403 3163 \nQ 403 3881 828 4315 \nQ 1253 4750 1959 4750 \nQ 2769 4750 3195 4129 \nQ 3622 3509 3622 2328 \nQ 3622 1225 3098 567 \nQ 2575 -91 1691 -91 \nQ 1453 -91 1209 -44 \nQ 966 3 703 97 \nz\nM 1959 2075 \nQ 2384 2075 2632 2365 \nQ 2881 2656 2881 3163 \nQ 2881 3666 2632 3958 \nQ 2384 4250 1959 4250 \nQ 1534 4250 1286 3958 \nQ 1038 3666 1038 3163 \nQ 1038 2656 1286 2365 \nQ 1534 2075 1959 2075 \nz\n\" transform=\"scale(0.015625)\"/>\n       </defs>\n       <use xlink:href=\"#DejaVuSans-30\"/>\n       <use xlink:href=\"#DejaVuSans-2e\" x=\"63.623047\"/>\n       <use xlink:href=\"#DejaVuSans-39\" x=\"95.410156\"/>\n      </g>\n     </g>\n    </g>\n    <g id=\"text_18\">\n     <!-- acc -->\n     <g transform=\"translate(14.798438 163.936625) rotate(-90) scale(0.1 -0.1)\">\n      <defs>\n       <path id=\"DejaVuSans-61\" d=\"M 2194 1759 \nQ 1497 1759 1228 1600 \nQ 959 1441 959 1056 \nQ 959 750 1161 570 \nQ 1363 391 1709 391 \nQ 2188 391 2477 730 \nQ 2766 1069 2766 1631 \nL 2766 1759 \nL 2194 1759 \nz\nM 3341 1997 \nL 3341 0 \nL 2766 0 \nL 2766 531 \nQ 2569 213 2275 61 \nQ 1981 -91 1556 -91 \nQ 1019 -91 701 211 \nQ 384 513 384 1019 \nQ 384 1609 779 1909 \nQ 1175 2209 1959 2209 \nL 2766 2209 \nL 2766 2266 \nQ 2766 2663 2505 2880 \nQ 2244 3097 1772 3097 \nQ 1472 3097 1187 3025 \nQ 903 2953 641 2809 \nL 641 3341 \nQ 956 3463 1253 3523 \nQ 1550 3584 1831 3584 \nQ 2591 3584 2966 3190 \nQ 3341 2797 3341 1997 \nz\n\" transform=\"scale(0.015625)\"/>\n      </defs>\n      <use xlink:href=\"#DejaVuSans-61\"/>\n      <use xlink:href=\"#DejaVuSans-63\" x=\"61.279297\"/>\n      <use xlink:href=\"#DejaVuSans-63\" x=\"116.259766\"/>\n     </g>\n    </g>\n   </g>\n   <g id=\"line2d_17\">\n    <path d=\"M 60.013977 276.334125 \nL 69.851994 232.011336 \nL 79.69001 187.997763 \nL 89.528027 162.228702 \nL 99.366043 137.799628 \nL 109.20406 127.698149 \nL 119.042076 114.092091 \nL 128.880093 103.887525 \nL 138.71811 92.755302 \nL 148.556126 82.344598 \nL 158.394143 82.756892 \nL 168.232159 72.449275 \nL 178.070176 66.470843 \nL 187.908192 64.9247 \nL 197.746209 60.904722 \nL 207.584225 57.400144 \nL 217.422242 55.544758 \nL 227.260258 51.524798 \nL 237.098275 49.463257 \nL 246.936291 47.607889 \nL 256.774308 45.030985 \nL 266.612324 45.649435 \nL 276.450341 41.9387 \nL 286.288357 41.217163 \nL 296.126374 40.598714 \nL 305.96439 41.320232 \nL 315.802407 40.186401 \nL 325.640424 38.640259 \nL 335.47844 37.609497 \nL 345.316457 36.681804 \nL 355.154473 36.681804 \nL 364.99249 36.166424 \nL 374.830506 36.063355 \nL 384.668523 34.414125 \n\" clip-path=\"url(#peffe06c875)\" style=\"fill: none; stroke-dasharray: 5.55,2.4; stroke-dashoffset: 0; stroke: #0000ff; stroke-width: 1.5\"/>\n    <defs>\n     <path id=\"m87c92c7fcc\" d=\"M 0 3 \nC 0.795609 3 1.55874 2.683901 2.12132 2.12132 \nC 2.683901 1.55874 3 0.795609 3 0 \nC 3 -0.795609 2.683901 -1.55874 2.12132 -2.12132 \nC 1.55874 -2.683901 0.795609 -3 0 -3 \nC -0.795609 -3 -1.55874 -2.683901 -2.12132 -2.12132 \nC -2.683901 -1.55874 -3 -0.795609 -3 0 \nC -3 0.795609 -2.683901 1.55874 -2.12132 2.12132 \nC -1.55874 2.683901 -0.795609 3 0 3 \nz\n\" style=\"stroke: #0000ff\"/>\n    </defs>\n    <g clip-path=\"url(#peffe06c875)\">\n     <use xlink:href=\"#m87c92c7fcc\" x=\"60.013977\" y=\"276.334125\" style=\"fill: #0000ff; stroke: #0000ff\"/>\n     <use xlink:href=\"#m87c92c7fcc\" x=\"69.851994\" y=\"232.011336\" style=\"fill: #0000ff; stroke: #0000ff\"/>\n     <use xlink:href=\"#m87c92c7fcc\" x=\"79.69001\" y=\"187.997763\" style=\"fill: #0000ff; stroke: #0000ff\"/>\n     <use xlink:href=\"#m87c92c7fcc\" x=\"89.528027\" y=\"162.228702\" style=\"fill: #0000ff; stroke: #0000ff\"/>\n     <use xlink:href=\"#m87c92c7fcc\" x=\"99.366043\" y=\"137.799628\" style=\"fill: #0000ff; stroke: #0000ff\"/>\n     <use xlink:href=\"#m87c92c7fcc\" x=\"109.20406\" y=\"127.698149\" style=\"fill: #0000ff; stroke: #0000ff\"/>\n     <use xlink:href=\"#m87c92c7fcc\" x=\"119.042076\" y=\"114.092091\" style=\"fill: #0000ff; stroke: #0000ff\"/>\n     <use xlink:href=\"#m87c92c7fcc\" x=\"128.880093\" y=\"103.887525\" style=\"fill: #0000ff; stroke: #0000ff\"/>\n     <use xlink:href=\"#m87c92c7fcc\" x=\"138.71811\" y=\"92.755302\" style=\"fill: #0000ff; stroke: #0000ff\"/>\n     <use xlink:href=\"#m87c92c7fcc\" x=\"148.556126\" y=\"82.344598\" style=\"fill: #0000ff; stroke: #0000ff\"/>\n     <use xlink:href=\"#m87c92c7fcc\" x=\"158.394143\" y=\"82.756892\" style=\"fill: #0000ff; stroke: #0000ff\"/>\n     <use xlink:href=\"#m87c92c7fcc\" x=\"168.232159\" y=\"72.449275\" style=\"fill: #0000ff; stroke: #0000ff\"/>\n     <use xlink:href=\"#m87c92c7fcc\" x=\"178.070176\" y=\"66.470843\" style=\"fill: #0000ff; stroke: #0000ff\"/>\n     <use xlink:href=\"#m87c92c7fcc\" x=\"187.908192\" y=\"64.9247\" style=\"fill: #0000ff; stroke: #0000ff\"/>\n     <use xlink:href=\"#m87c92c7fcc\" x=\"197.746209\" y=\"60.904722\" style=\"fill: #0000ff; stroke: #0000ff\"/>\n     <use xlink:href=\"#m87c92c7fcc\" x=\"207.584225\" y=\"57.400144\" style=\"fill: #0000ff; stroke: #0000ff\"/>\n     <use xlink:href=\"#m87c92c7fcc\" x=\"217.422242\" y=\"55.544758\" style=\"fill: #0000ff; stroke: #0000ff\"/>\n     <use xlink:href=\"#m87c92c7fcc\" x=\"227.260258\" y=\"51.524798\" style=\"fill: #0000ff; stroke: #0000ff\"/>\n     <use xlink:href=\"#m87c92c7fcc\" x=\"237.098275\" y=\"49.463257\" style=\"fill: #0000ff; stroke: #0000ff\"/>\n     <use xlink:href=\"#m87c92c7fcc\" x=\"246.936291\" y=\"47.607889\" style=\"fill: #0000ff; stroke: #0000ff\"/>\n     <use xlink:href=\"#m87c92c7fcc\" x=\"256.774308\" y=\"45.030985\" style=\"fill: #0000ff; stroke: #0000ff\"/>\n     <use xlink:href=\"#m87c92c7fcc\" x=\"266.612324\" y=\"45.649435\" style=\"fill: #0000ff; stroke: #0000ff\"/>\n     <use xlink:href=\"#m87c92c7fcc\" x=\"276.450341\" y=\"41.9387\" style=\"fill: #0000ff; stroke: #0000ff\"/>\n     <use xlink:href=\"#m87c92c7fcc\" x=\"286.288357\" y=\"41.217163\" style=\"fill: #0000ff; stroke: #0000ff\"/>\n     <use xlink:href=\"#m87c92c7fcc\" x=\"296.126374\" y=\"40.598714\" style=\"fill: #0000ff; stroke: #0000ff\"/>\n     <use xlink:href=\"#m87c92c7fcc\" x=\"305.96439\" y=\"41.320232\" style=\"fill: #0000ff; stroke: #0000ff\"/>\n     <use xlink:href=\"#m87c92c7fcc\" x=\"315.802407\" y=\"40.186401\" style=\"fill: #0000ff; stroke: #0000ff\"/>\n     <use xlink:href=\"#m87c92c7fcc\" x=\"325.640424\" y=\"38.640259\" style=\"fill: #0000ff; stroke: #0000ff\"/>\n     <use xlink:href=\"#m87c92c7fcc\" x=\"335.47844\" y=\"37.609497\" style=\"fill: #0000ff; stroke: #0000ff\"/>\n     <use xlink:href=\"#m87c92c7fcc\" x=\"345.316457\" y=\"36.681804\" style=\"fill: #0000ff; stroke: #0000ff\"/>\n     <use xlink:href=\"#m87c92c7fcc\" x=\"355.154473\" y=\"36.681804\" style=\"fill: #0000ff; stroke: #0000ff\"/>\n     <use xlink:href=\"#m87c92c7fcc\" x=\"364.99249\" y=\"36.166424\" style=\"fill: #0000ff; stroke: #0000ff\"/>\n     <use xlink:href=\"#m87c92c7fcc\" x=\"374.830506\" y=\"36.063355\" style=\"fill: #0000ff; stroke: #0000ff\"/>\n     <use xlink:href=\"#m87c92c7fcc\" x=\"384.668523\" y=\"34.414125\" style=\"fill: #0000ff; stroke: #0000ff\"/>\n    </g>\n   </g>\n   <g id=\"line2d_18\">\n    <path d=\"M 60.013977 223.868311 \nL 69.851994 191.090057 \nL 79.69001 163.259464 \nL 89.528027 119.967436 \nL 99.366043 116.875151 \nL 109.20406 105.124442 \nL 119.042076 79.767694 \nL 128.880093 77.912308 \nL 138.71811 64.9247 \nL 148.556126 63.687782 \nL 158.394143 64.9247 \nL 168.232159 61.213966 \nL 178.070176 58.74013 \nL 187.908192 59.977048 \nL 197.746209 57.503212 \nL 207.584225 54.410927 \nL 217.422242 55.647845 \nL 227.260258 54.410927 \nL 237.098275 53.17401 \nL 246.936291 51.937092 \nL 256.774308 49.463257 \nL 266.612324 51.937092 \nL 276.450341 50.700174 \nL 286.288357 48.226357 \nL 296.126374 46.370972 \nL 305.96439 50.081725 \nL 315.802407 46.98944 \nL 325.640424 44.515604 \nL 335.47844 41.423319 \nL 345.316457 43.897155 \nL 355.154473 43.278686 \nL 364.99249 42.041769 \nL 374.830506 43.278686 \nL 384.668523 43.278686 \n\" clip-path=\"url(#peffe06c875)\" style=\"fill: none; stroke: #ff0000; stroke-width: 1.5; stroke-linecap: square\"/>\n    <defs>\n     <path id=\"m53ac6a3039\" d=\"M 0 3 \nC 0.795609 3 1.55874 2.683901 2.12132 2.12132 \nC 2.683901 1.55874 3 0.795609 3 0 \nC 3 -0.795609 2.683901 -1.55874 2.12132 -2.12132 \nC 1.55874 -2.683901 0.795609 -3 0 -3 \nC -0.795609 -3 -1.55874 -2.683901 -2.12132 -2.12132 \nC -2.683901 -1.55874 -3 -0.795609 -3 0 \nC -3 0.795609 -2.683901 1.55874 -2.12132 2.12132 \nC -1.55874 2.683901 -0.795609 3 0 3 \nz\n\" style=\"stroke: #ff0000\"/>\n    </defs>\n    <g clip-path=\"url(#peffe06c875)\">\n     <use xlink:href=\"#m53ac6a3039\" x=\"60.013977\" y=\"223.868311\" style=\"fill: #ff0000; stroke: #ff0000\"/>\n     <use xlink:href=\"#m53ac6a3039\" x=\"69.851994\" y=\"191.090057\" style=\"fill: #ff0000; stroke: #ff0000\"/>\n     <use xlink:href=\"#m53ac6a3039\" x=\"79.69001\" y=\"163.259464\" style=\"fill: #ff0000; stroke: #ff0000\"/>\n     <use xlink:href=\"#m53ac6a3039\" x=\"89.528027\" y=\"119.967436\" style=\"fill: #ff0000; stroke: #ff0000\"/>\n     <use xlink:href=\"#m53ac6a3039\" x=\"99.366043\" y=\"116.875151\" style=\"fill: #ff0000; stroke: #ff0000\"/>\n     <use xlink:href=\"#m53ac6a3039\" x=\"109.20406\" y=\"105.124442\" style=\"fill: #ff0000; stroke: #ff0000\"/>\n     <use xlink:href=\"#m53ac6a3039\" x=\"119.042076\" y=\"79.767694\" style=\"fill: #ff0000; stroke: #ff0000\"/>\n     <use xlink:href=\"#m53ac6a3039\" x=\"128.880093\" y=\"77.912308\" style=\"fill: #ff0000; stroke: #ff0000\"/>\n     <use xlink:href=\"#m53ac6a3039\" x=\"138.71811\" y=\"64.9247\" style=\"fill: #ff0000; stroke: #ff0000\"/>\n     <use xlink:href=\"#m53ac6a3039\" x=\"148.556126\" y=\"63.687782\" style=\"fill: #ff0000; stroke: #ff0000\"/>\n     <use xlink:href=\"#m53ac6a3039\" x=\"158.394143\" y=\"64.9247\" style=\"fill: #ff0000; stroke: #ff0000\"/>\n     <use xlink:href=\"#m53ac6a3039\" x=\"168.232159\" y=\"61.213966\" style=\"fill: #ff0000; stroke: #ff0000\"/>\n     <use xlink:href=\"#m53ac6a3039\" x=\"178.070176\" y=\"58.74013\" style=\"fill: #ff0000; stroke: #ff0000\"/>\n     <use xlink:href=\"#m53ac6a3039\" x=\"187.908192\" y=\"59.977048\" style=\"fill: #ff0000; stroke: #ff0000\"/>\n     <use xlink:href=\"#m53ac6a3039\" x=\"197.746209\" y=\"57.503212\" style=\"fill: #ff0000; stroke: #ff0000\"/>\n     <use xlink:href=\"#m53ac6a3039\" x=\"207.584225\" y=\"54.410927\" style=\"fill: #ff0000; stroke: #ff0000\"/>\n     <use xlink:href=\"#m53ac6a3039\" x=\"217.422242\" y=\"55.647845\" style=\"fill: #ff0000; stroke: #ff0000\"/>\n     <use xlink:href=\"#m53ac6a3039\" x=\"227.260258\" y=\"54.410927\" style=\"fill: #ff0000; stroke: #ff0000\"/>\n     <use xlink:href=\"#m53ac6a3039\" x=\"237.098275\" y=\"53.17401\" style=\"fill: #ff0000; stroke: #ff0000\"/>\n     <use xlink:href=\"#m53ac6a3039\" x=\"246.936291\" y=\"51.937092\" style=\"fill: #ff0000; stroke: #ff0000\"/>\n     <use xlink:href=\"#m53ac6a3039\" x=\"256.774308\" y=\"49.463257\" style=\"fill: #ff0000; stroke: #ff0000\"/>\n     <use xlink:href=\"#m53ac6a3039\" x=\"266.612324\" y=\"51.937092\" style=\"fill: #ff0000; stroke: #ff0000\"/>\n     <use xlink:href=\"#m53ac6a3039\" x=\"276.450341\" y=\"50.700174\" style=\"fill: #ff0000; stroke: #ff0000\"/>\n     <use xlink:href=\"#m53ac6a3039\" x=\"286.288357\" y=\"48.226357\" style=\"fill: #ff0000; stroke: #ff0000\"/>\n     <use xlink:href=\"#m53ac6a3039\" x=\"296.126374\" y=\"46.370972\" style=\"fill: #ff0000; stroke: #ff0000\"/>\n     <use xlink:href=\"#m53ac6a3039\" x=\"305.96439\" y=\"50.081725\" style=\"fill: #ff0000; stroke: #ff0000\"/>\n     <use xlink:href=\"#m53ac6a3039\" x=\"315.802407\" y=\"46.98944\" style=\"fill: #ff0000; stroke: #ff0000\"/>\n     <use xlink:href=\"#m53ac6a3039\" x=\"325.640424\" y=\"44.515604\" style=\"fill: #ff0000; stroke: #ff0000\"/>\n     <use xlink:href=\"#m53ac6a3039\" x=\"335.47844\" y=\"41.423319\" style=\"fill: #ff0000; stroke: #ff0000\"/>\n     <use xlink:href=\"#m53ac6a3039\" x=\"345.316457\" y=\"43.897155\" style=\"fill: #ff0000; stroke: #ff0000\"/>\n     <use xlink:href=\"#m53ac6a3039\" x=\"355.154473\" y=\"43.278686\" style=\"fill: #ff0000; stroke: #ff0000\"/>\n     <use xlink:href=\"#m53ac6a3039\" x=\"364.99249\" y=\"42.041769\" style=\"fill: #ff0000; stroke: #ff0000\"/>\n     <use xlink:href=\"#m53ac6a3039\" x=\"374.830506\" y=\"43.278686\" style=\"fill: #ff0000; stroke: #ff0000\"/>\n     <use xlink:href=\"#m53ac6a3039\" x=\"384.668523\" y=\"43.278686\" style=\"fill: #ff0000; stroke: #ff0000\"/>\n    </g>\n   </g>\n   <g id=\"patch_3\">\n    <path d=\"M 43.78125 288.430125 \nL 43.78125 22.318125 \n\" style=\"fill: none; stroke: #000000; stroke-width: 0.8; stroke-linejoin: miter; stroke-linecap: square\"/>\n   </g>\n   <g id=\"patch_4\">\n    <path d=\"M 400.90125 288.430125 \nL 400.90125 22.318125 \n\" style=\"fill: none; stroke: #000000; stroke-width: 0.8; stroke-linejoin: miter; stroke-linecap: square\"/>\n   </g>\n   <g id=\"patch_5\">\n    <path d=\"M 43.78125 288.430125 \nL 400.90125 288.430125 \n\" style=\"fill: none; stroke: #000000; stroke-width: 0.8; stroke-linejoin: miter; stroke-linecap: square\"/>\n   </g>\n   <g id=\"patch_6\">\n    <path d=\"M 43.78125 22.318125 \nL 400.90125 22.318125 \n\" style=\"fill: none; stroke: #000000; stroke-width: 0.8; stroke-linejoin: miter; stroke-linecap: square\"/>\n   </g>\n   <g id=\"text_19\">\n    <!-- Training and validation acc -->\n    <g transform=\"translate(141.845625 16.318125) scale(0.12 -0.12)\">\n     <defs>\n      <path id=\"DejaVuSans-54\" d=\"M -19 4666 \nL 3928 4666 \nL 3928 4134 \nL 2272 4134 \nL 2272 0 \nL 1638 0 \nL 1638 4134 \nL -19 4134 \nL -19 4666 \nz\n\" transform=\"scale(0.015625)\"/>\n      <path id=\"DejaVuSans-72\" d=\"M 2631 2963 \nQ 2534 3019 2420 3045 \nQ 2306 3072 2169 3072 \nQ 1681 3072 1420 2755 \nQ 1159 2438 1159 1844 \nL 1159 0 \nL 581 0 \nL 581 3500 \nL 1159 3500 \nL 1159 2956 \nQ 1341 3275 1631 3429 \nQ 1922 3584 2338 3584 \nQ 2397 3584 2469 3576 \nQ 2541 3569 2628 3553 \nL 2631 2963 \nz\n\" transform=\"scale(0.015625)\"/>\n      <path id=\"DejaVuSans-69\" d=\"M 603 3500 \nL 1178 3500 \nL 1178 0 \nL 603 0 \nL 603 3500 \nz\nM 603 4863 \nL 1178 4863 \nL 1178 4134 \nL 603 4134 \nL 603 4863 \nz\n\" transform=\"scale(0.015625)\"/>\n      <path id=\"DejaVuSans-6e\" d=\"M 3513 2113 \nL 3513 0 \nL 2938 0 \nL 2938 2094 \nQ 2938 2591 2744 2837 \nQ 2550 3084 2163 3084 \nQ 1697 3084 1428 2787 \nQ 1159 2491 1159 1978 \nL 1159 0 \nL 581 0 \nL 581 3500 \nL 1159 3500 \nL 1159 2956 \nQ 1366 3272 1645 3428 \nQ 1925 3584 2291 3584 \nQ 2894 3584 3203 3211 \nQ 3513 2838 3513 2113 \nz\n\" transform=\"scale(0.015625)\"/>\n      <path id=\"DejaVuSans-67\" d=\"M 2906 1791 \nQ 2906 2416 2648 2759 \nQ 2391 3103 1925 3103 \nQ 1463 3103 1205 2759 \nQ 947 2416 947 1791 \nQ 947 1169 1205 825 \nQ 1463 481 1925 481 \nQ 2391 481 2648 825 \nQ 2906 1169 2906 1791 \nz\nM 3481 434 \nQ 3481 -459 3084 -895 \nQ 2688 -1331 1869 -1331 \nQ 1566 -1331 1297 -1286 \nQ 1028 -1241 775 -1147 \nL 775 -588 \nQ 1028 -725 1275 -790 \nQ 1522 -856 1778 -856 \nQ 2344 -856 2625 -561 \nQ 2906 -266 2906 331 \nL 2906 616 \nQ 2728 306 2450 153 \nQ 2172 0 1784 0 \nQ 1141 0 747 490 \nQ 353 981 353 1791 \nQ 353 2603 747 3093 \nQ 1141 3584 1784 3584 \nQ 2172 3584 2450 3431 \nQ 2728 3278 2906 2969 \nL 2906 3500 \nL 3481 3500 \nL 3481 434 \nz\n\" transform=\"scale(0.015625)\"/>\n      <path id=\"DejaVuSans-20\" transform=\"scale(0.015625)\"/>\n      <path id=\"DejaVuSans-64\" d=\"M 2906 2969 \nL 2906 4863 \nL 3481 4863 \nL 3481 0 \nL 2906 0 \nL 2906 525 \nQ 2725 213 2448 61 \nQ 2172 -91 1784 -91 \nQ 1150 -91 751 415 \nQ 353 922 353 1747 \nQ 353 2572 751 3078 \nQ 1150 3584 1784 3584 \nQ 2172 3584 2448 3432 \nQ 2725 3281 2906 2969 \nz\nM 947 1747 \nQ 947 1113 1208 752 \nQ 1469 391 1925 391 \nQ 2381 391 2643 752 \nQ 2906 1113 2906 1747 \nQ 2906 2381 2643 2742 \nQ 2381 3103 1925 3103 \nQ 1469 3103 1208 2742 \nQ 947 2381 947 1747 \nz\n\" transform=\"scale(0.015625)\"/>\n      <path id=\"DejaVuSans-76\" d=\"M 191 3500 \nL 800 3500 \nL 1894 563 \nL 2988 3500 \nL 3597 3500 \nL 2284 0 \nL 1503 0 \nL 191 3500 \nz\n\" transform=\"scale(0.015625)\"/>\n      <path id=\"DejaVuSans-6c\" d=\"M 603 4863 \nL 1178 4863 \nL 1178 0 \nL 603 0 \nL 603 4863 \nz\n\" transform=\"scale(0.015625)\"/>\n      <path id=\"DejaVuSans-74\" d=\"M 1172 4494 \nL 1172 3500 \nL 2356 3500 \nL 2356 3053 \nL 1172 3053 \nL 1172 1153 \nQ 1172 725 1289 603 \nQ 1406 481 1766 481 \nL 2356 481 \nL 2356 0 \nL 1766 0 \nQ 1100 0 847 248 \nQ 594 497 594 1153 \nL 594 3053 \nL 172 3053 \nL 172 3500 \nL 594 3500 \nL 594 4494 \nL 1172 4494 \nz\n\" transform=\"scale(0.015625)\"/>\n     </defs>\n     <use xlink:href=\"#DejaVuSans-54\"/>\n     <use xlink:href=\"#DejaVuSans-72\" x=\"46.333984\"/>\n     <use xlink:href=\"#DejaVuSans-61\" x=\"87.447266\"/>\n     <use xlink:href=\"#DejaVuSans-69\" x=\"148.726562\"/>\n     <use xlink:href=\"#DejaVuSans-6e\" x=\"176.509766\"/>\n     <use xlink:href=\"#DejaVuSans-69\" x=\"239.888672\"/>\n     <use xlink:href=\"#DejaVuSans-6e\" x=\"267.671875\"/>\n     <use xlink:href=\"#DejaVuSans-67\" x=\"331.050781\"/>\n     <use xlink:href=\"#DejaVuSans-20\" x=\"394.527344\"/>\n     <use xlink:href=\"#DejaVuSans-61\" x=\"426.314453\"/>\n     <use xlink:href=\"#DejaVuSans-6e\" x=\"487.59375\"/>\n     <use xlink:href=\"#DejaVuSans-64\" x=\"550.972656\"/>\n     <use xlink:href=\"#DejaVuSans-20\" x=\"614.449219\"/>\n     <use xlink:href=\"#DejaVuSans-76\" x=\"646.236328\"/>\n     <use xlink:href=\"#DejaVuSans-61\" x=\"705.416016\"/>\n     <use xlink:href=\"#DejaVuSans-6c\" x=\"766.695312\"/>\n     <use xlink:href=\"#DejaVuSans-69\" x=\"794.478516\"/>\n     <use xlink:href=\"#DejaVuSans-64\" x=\"822.261719\"/>\n     <use xlink:href=\"#DejaVuSans-61\" x=\"885.738281\"/>\n     <use xlink:href=\"#DejaVuSans-74\" x=\"947.017578\"/>\n     <use xlink:href=\"#DejaVuSans-69\" x=\"986.226562\"/>\n     <use xlink:href=\"#DejaVuSans-6f\" x=\"1014.009766\"/>\n     <use xlink:href=\"#DejaVuSans-6e\" x=\"1075.191406\"/>\n     <use xlink:href=\"#DejaVuSans-20\" x=\"1138.570312\"/>\n     <use xlink:href=\"#DejaVuSans-61\" x=\"1170.357422\"/>\n     <use xlink:href=\"#DejaVuSans-63\" x=\"1231.636719\"/>\n     <use xlink:href=\"#DejaVuSans-63\" x=\"1286.617188\"/>\n    </g>\n   </g>\n   <g id=\"legend_1\">\n    <g id=\"patch_7\">\n     <path d=\"M 50.78125 60.230625 \nL 128.18125 60.230625 \nQ 130.18125 60.230625 130.18125 58.230625 \nL 130.18125 29.318125 \nQ 130.18125 27.318125 128.18125 27.318125 \nL 50.78125 27.318125 \nQ 48.78125 27.318125 48.78125 29.318125 \nL 48.78125 58.230625 \nQ 48.78125 60.230625 50.78125 60.230625 \nz\n\" style=\"fill: #ffffff; opacity: 0.8; stroke: #cccccc; stroke-linejoin: miter\"/>\n    </g>\n    <g id=\"line2d_19\">\n     <path d=\"M 52.78125 35.416562 \nL 62.78125 35.416562 \nL 72.78125 35.416562 \n\" style=\"fill: none; stroke-dasharray: 5.55,2.4; stroke-dashoffset: 0; stroke: #0000ff; stroke-width: 1.5\"/>\n     <g>\n      <use xlink:href=\"#m87c92c7fcc\" x=\"62.78125\" y=\"35.416562\" style=\"fill: #0000ff; stroke: #0000ff\"/>\n     </g>\n    </g>\n    <g id=\"text_20\">\n     <!-- train_acc -->\n     <g transform=\"translate(80.78125 38.916562) scale(0.1 -0.1)\">\n      <defs>\n       <path id=\"DejaVuSans-5f\" d=\"M 3263 -1063 \nL 3263 -1509 \nL -63 -1509 \nL -63 -1063 \nL 3263 -1063 \nz\n\" transform=\"scale(0.015625)\"/>\n      </defs>\n      <use xlink:href=\"#DejaVuSans-74\"/>\n      <use xlink:href=\"#DejaVuSans-72\" x=\"39.208984\"/>\n      <use xlink:href=\"#DejaVuSans-61\" x=\"80.322266\"/>\n      <use xlink:href=\"#DejaVuSans-69\" x=\"141.601562\"/>\n      <use xlink:href=\"#DejaVuSans-6e\" x=\"169.384766\"/>\n      <use xlink:href=\"#DejaVuSans-5f\" x=\"232.763672\"/>\n      <use xlink:href=\"#DejaVuSans-61\" x=\"282.763672\"/>\n      <use xlink:href=\"#DejaVuSans-63\" x=\"344.042969\"/>\n      <use xlink:href=\"#DejaVuSans-63\" x=\"399.023438\"/>\n     </g>\n    </g>\n    <g id=\"line2d_20\">\n     <path d=\"M 52.78125 50.372813 \nL 62.78125 50.372813 \nL 72.78125 50.372813 \n\" style=\"fill: none; stroke: #ff0000; stroke-width: 1.5; stroke-linecap: square\"/>\n     <g>\n      <use xlink:href=\"#m53ac6a3039\" x=\"62.78125\" y=\"50.372813\" style=\"fill: #ff0000; stroke: #ff0000\"/>\n     </g>\n    </g>\n    <g id=\"text_21\">\n     <!-- val_acc -->\n     <g transform=\"translate(80.78125 53.872813) scale(0.1 -0.1)\">\n      <use xlink:href=\"#DejaVuSans-76\"/>\n      <use xlink:href=\"#DejaVuSans-61\" x=\"59.179688\"/>\n      <use xlink:href=\"#DejaVuSans-6c\" x=\"120.458984\"/>\n      <use xlink:href=\"#DejaVuSans-5f\" x=\"148.242188\"/>\n      <use xlink:href=\"#DejaVuSans-61\" x=\"198.242188\"/>\n      <use xlink:href=\"#DejaVuSans-63\" x=\"259.521484\"/>\n      <use xlink:href=\"#DejaVuSans-63\" x=\"314.501953\"/>\n     </g>\n    </g>\n   </g>\n  </g>\n </g>\n <defs>\n  <clipPath id=\"peffe06c875\">\n   <rect x=\"43.78125\" y=\"22.318125\" width=\"357.12\" height=\"266.112\"/>\n  </clipPath>\n </defs>\n</svg>\n"
     },
     "metadata": {},
     "output_type": "display_data"
    }
   ],
   "source": [
    "plot_metric(dfhistory,\"acc\")"
   ]
  },
  {
   "cell_type": "code",
   "execution_count": 31,
   "id": "62f8cf7b",
   "metadata": {
    "ExecuteTime": {
     "end_time": "2023-09-07T09:29:46.664804500Z",
     "start_time": "2023-09-07T09:29:45.191014600Z"
    }
   },
   "outputs": [
    {
     "name": "stdout",
     "output_type": "stream",
     "text": [
      "100%|██████████████████████████████████| 4/4 [00:01<00:00,  2.73it/s, val_acc=0.936, val_loss=0.226]\n"
     ]
    },
    {
     "data": {
      "text/plain": "{'val_loss': 0.22628381103277206, 'val_acc': 0.9359999895095825}"
     },
     "execution_count": 31,
     "metadata": {},
     "output_type": "execute_result"
    }
   ],
   "source": [
    "model.evaluate(dl_val,quiet=False)"
   ]
  },
  {
   "cell_type": "code",
   "execution_count": 31,
   "id": "0405a48f-000b-40aa-8869-409d571f512e",
   "metadata": {
    "ExecuteTime": {
     "end_time": "2023-09-07T09:29:46.679506900Z",
     "start_time": "2023-09-07T09:29:46.665804600Z"
    }
   },
   "outputs": [],
   "source": []
  },
  {
   "cell_type": "markdown",
   "id": "96911b58",
   "metadata": {},
   "source": [
    "### 5, use the model"
   ]
  },
  {
   "cell_type": "code",
   "execution_count": 32,
   "id": "91b21a4e-be1c-4fba-ae99-7fe4962c67b6",
   "metadata": {
    "ExecuteTime": {
     "end_time": "2023-09-07T09:29:46.710906600Z",
     "start_time": "2023-09-07T09:29:46.682905900Z"
    }
   },
   "outputs": [
    {
     "ename": "RuntimeError",
     "evalue": "PyTorch is not linked with support for mps devices",
     "output_type": "error",
     "traceback": [
      "\u001B[1;31m---------------------------------------------------------------------------\u001B[0m",
      "\u001B[1;31mRuntimeError\u001B[0m                              Traceback (most recent call last)",
      "Cell \u001B[1;32mIn[32], line 6\u001B[0m\n\u001B[0;32m      4\u001B[0m device \u001B[38;5;241m=\u001B[39m torch\u001B[38;5;241m.\u001B[39mdevice(\u001B[38;5;124m'\u001B[39m\u001B[38;5;124mmps\u001B[39m\u001B[38;5;124m'\u001B[39m)\n\u001B[0;32m      5\u001B[0m img,label \u001B[38;5;241m=\u001B[39m ds_train[\u001B[38;5;241m1\u001B[39m]\n\u001B[1;32m----> 6\u001B[0m tensor \u001B[38;5;241m=\u001B[39m \u001B[43mimg\u001B[49m\u001B[38;5;241;43m.\u001B[39;49m\u001B[43mto\u001B[49m\u001B[43m(\u001B[49m\u001B[43mdevice\u001B[49m\u001B[43m)\u001B[49m\n\u001B[0;32m      8\u001B[0m y_pred \u001B[38;5;241m=\u001B[39m torch\u001B[38;5;241m.\u001B[39margmax(net(tensor[\u001B[38;5;28;01mNone\u001B[39;00m,\u001B[38;5;241m.\u001B[39m\u001B[38;5;241m.\u001B[39m\u001B[38;5;241m.\u001B[39m])) \n\u001B[0;32m      9\u001B[0m y_prob \u001B[38;5;241m=\u001B[39m torch\u001B[38;5;241m.\u001B[39msoftmax(net(tensor[\u001B[38;5;28;01mNone\u001B[39;00m,\u001B[38;5;241m.\u001B[39m\u001B[38;5;241m.\u001B[39m\u001B[38;5;241m.\u001B[39m]),dim\u001B[38;5;241m=\u001B[39m\u001B[38;5;241m-\u001B[39m\u001B[38;5;241m1\u001B[39m)\u001B[38;5;241m.\u001B[39mmax() \n",
      "\u001B[1;31mRuntimeError\u001B[0m: PyTorch is not linked with support for mps devices"
     ]
    }
   ],
   "source": [
    "net = model.net\n",
    "net.eval();\n",
    "\n",
    "device = torch.device('mps')\n",
    "img,label = ds_train[1]\n",
    "tensor = img.to(device)\n",
    "\n",
    "y_pred = torch.argmax(net(tensor[None,...])) \n",
    "y_prob = torch.softmax(net(tensor[None,...]),dim=-1).max() \n",
    "\n",
    "img = img.permute(1,2,0)\n",
    "plt.imshow(img)\n",
    "print('y_pred = ', y_pred.item())\n",
    "print('y_prob = ', y_prob.item())\n",
    "\n"
   ]
  },
  {
   "cell_type": "markdown",
   "id": "81da8622",
   "metadata": {},
   "source": [
    "### 6, save the model"
   ]
  },
  {
   "cell_type": "code",
   "execution_count": null,
   "id": "45089d19",
   "metadata": {
    "ExecuteTime": {
     "end_time": "2023-09-07T09:29:46.718904500Z",
     "start_time": "2023-09-07T09:29:46.711904700Z"
    }
   },
   "outputs": [],
   "source": [
    "#  used the saved model parameters \n",
    "net_clone = create_net() \n",
    "\n",
    "model_clone = torchkeras.KerasModel(net_clone,loss_fn = nn.CrossEntropyLoss(),\n",
    "             optimizer= torch.optim.Adam(net_clone.parameters(),lr = 0.001),\n",
    "             metrics_dict={\"acc\":Accuracy()})\n",
    "\n",
    "model_clone.load_ckpt(\"checkpoint\")\n",
    "\n"
   ]
  }
 ],
 "metadata": {
  "jupytext": {
   "cell_metadata_filter": "-all",
   "main_language": "python",
   "notebook_metadata_filter": "-all"
  },
  "kernelspec": {
   "display_name": "Python 3 (ipykernel)",
   "language": "python",
   "name": "python3"
  },
  "language_info": {
   "codemirror_mode": {
    "name": "ipython",
    "version": 3
   },
   "file_extension": ".py",
   "mimetype": "text/x-python",
   "name": "python",
   "nbconvert_exporter": "python",
   "pygments_lexer": "ipython3",
   "version": "3.9.0"
  }
 },
 "nbformat": 4,
 "nbformat_minor": 5
}
